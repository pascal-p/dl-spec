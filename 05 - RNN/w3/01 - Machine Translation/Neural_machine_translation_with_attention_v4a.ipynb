{
 "cells": [
  {
   "cell_type": "markdown",
   "metadata": {},
   "source": [
    "# Neural Machine Translation\n",
    "\n",
    "Welcome to your first programming assignment for this week! \n",
    "\n",
    "* You will build a Neural Machine Translation (NMT) model to translate human-readable dates \"25th of June, 2009\" into machine-readable dates \"2009-06-25\". \n",
    "* You will do this using an attention model, one of the most sophisticated sequence-to-sequence models. \n",
    "\n",
    "This notebook was produced together with NVIDIA's Deep Learning Institute. "
   ]
  },
  {
   "cell_type": "markdown",
   "metadata": {},
   "source": [
    "Let's load all the packages you will need for this assignment."
   ]
  },
  {
   "cell_type": "code",
   "execution_count": 1,
   "metadata": {},
   "outputs": [],
   "source": [
    "# !pip install faker"
   ]
  },
  {
   "cell_type": "code",
   "execution_count": 2,
   "metadata": {},
   "outputs": [],
   "source": [
    "# !pip install babel"
   ]
  },
  {
   "cell_type": "code",
   "execution_count": 3,
   "metadata": {},
   "outputs": [
    {
     "name": "stderr",
     "output_type": "stream",
     "text": [
      "Using TensorFlow backend.\n"
     ]
    }
   ],
   "source": [
    "from keras.layers import Bidirectional, Concatenate, Permute, Dot, Input, LSTM, Multiply\n",
    "from keras.layers import RepeatVector, Dense, Activation, Lambda\n",
    "from keras.optimizers import Adam\n",
    "from keras.utils import to_categorical\n",
    "from keras.models import load_model, Model\n",
    "import keras.backend as K\n",
    "import numpy as np\n",
    "\n",
    "from faker import Faker\n",
    "import random\n",
    "from tqdm import tqdm\n",
    "from babel.dates import format_date\n",
    "from nmt_utils import *\n",
    "import matplotlib.pyplot as plt\n",
    "%matplotlib inline"
   ]
  },
  {
   "cell_type": "markdown",
   "metadata": {},
   "source": [
    "## 1. Translating human readable dates into machine readable dates\n",
    "\n",
    "* The model you will build here could be used to translate from one language to another, such as translating from English to Hindi. \n",
    "* However, language translation requires massive datasets and usually takes days of training on GPUs. \n",
    "* To give you a place to experiment with these models without using massive datasets, we will perform a simpler *date translation* task. \n",
    "* The network will input a date written in a variety of possible formats, *e.g. \"the 29th of August 1958\", \"03/30/1968\", \"24 JUNE 1987\"* \n",
    "* The network will translate them into standardized, machine readable dates, *e.g. \"1958-08-29\", \"1968-03-30\", \"1987-06-24\"*. \n",
    "* We will have the network learn to output dates in the common machine-readable format YYYY-MM-DD. \n",
    "\n",
    " \n",
    "Take a look at [nmt_utils.py](./nmt_utils.py) to see all the formatting. Count and figure out how the formats work, you will need this knowledge later.  "
   ]
  },
  {
   "cell_type": "markdown",
   "metadata": {},
   "source": [
    "### 1.1. Dataset\n",
    "\n",
    "We will train the model on a dataset of 10,000 human readable dates and their equivalent, standardized, machine readable dates. Let's run the following cells to load the dataset and print some examples. "
   ]
  },
  {
   "cell_type": "code",
   "execution_count": 4,
   "metadata": {},
   "outputs": [
    {
     "name": "stderr",
     "output_type": "stream",
     "text": [
      "100%|██████████| 10000/10000 [00:00<00:00, 26985.37it/s]\n"
     ]
    }
   ],
   "source": [
    "m = 10000\n",
    "dataset, human_vocab, machine_vocab, inv_machine_vocab = load_dataset(m)"
   ]
  },
  {
   "cell_type": "code",
   "execution_count": 5,
   "metadata": {},
   "outputs": [
    {
     "data": {
      "text/plain": [
       "[('9 may 1998', '1998-05-09'),\n",
       " ('10.11.19', '2019-11-10'),\n",
       " ('9/10/70', '1970-09-10'),\n",
       " ('saturday april 28 1990', '1990-04-28'),\n",
       " ('thursday january 26 1995', '1995-01-26'),\n",
       " ('monday march 7 1983', '1983-03-07'),\n",
       " ('sunday may 22 1988', '1988-05-22'),\n",
       " ('08 jul 2008', '2008-07-08'),\n",
       " ('8 sep 1999', '1999-09-08'),\n",
       " ('thursday january 1 1981', '1981-01-01')]"
      ]
     },
     "execution_count": 5,
     "metadata": {},
     "output_type": "execute_result"
    }
   ],
   "source": [
    "dataset[:10]"
   ]
  },
  {
   "cell_type": "markdown",
   "metadata": {},
   "source": [
    "You have loaded:\n",
    "- `dataset`: a list of tuples of (human readable date, machine readable date).\n",
    "- `human_vocab`: a python dictionary mapping all characters used in the human readable dates to an integer-valued index.\n",
    "- `machine_vocab`: a python dictionary mapping all characters used in machine readable dates to an integer-valued index. \n",
    "    - **Note**: These indices are not necessarily consistent with `human_vocab`. \n",
    "- `inv_machine_vocab`: the inverse dictionary of `machine_vocab`, mapping from indices back to characters. \n",
    "\n",
    "Let's preprocess the data and map the raw text data into the index values. \n",
    "- We will set `Tx=30`: \n",
    "    - We assume Tx is the maximum length of the human readable date.\n",
    "    - If we get a longer input, we will have to truncate it.\n",
    "\n",
    "\n",
    "- We will set `Ty=10`:\n",
    "    - \"YYYY-MM-DD\" is 10 characters long."
   ]
  },
  {
   "cell_type": "code",
   "execution_count": 6,
   "metadata": {},
   "outputs": [
    {
     "name": "stdout",
     "output_type": "stream",
     "text": [
      "X.shape:    (10000, 30)\n",
      "Y.shape:    (10000, 10)\n",
      "Xoh.shape:  (10000, 30, 37)\n",
      "Yoh.shape:  (10000, 10, 11)\n"
     ]
    }
   ],
   "source": [
    "Tx, Ty = 30, 10\n",
    "X, Y, Xoh, Yoh = preprocess_data(dataset, human_vocab, machine_vocab, Tx, Ty)\n",
    "\n",
    "print(\"X.shape:   \", X.shape)\n",
    "print(\"Y.shape:   \", Y.shape)\n",
    "print(\"Xoh.shape: \", Xoh.shape)\n",
    "print(\"Yoh.shape: \", Yoh.shape)"
   ]
  },
  {
   "cell_type": "markdown",
   "metadata": {},
   "source": [
    "You now have:\n",
    "- `X`: a processed version of the human readable dates in the training set.\n",
    "    - Each character in X is replaced by an index (integer) mapped to the character using `human_vocab`. \n",
    "    - Each date is padded to ensure a length of $T_x$ using a special character (< pad >). \n",
    "    - `X.shape = (m=10,000, Tx=30)` where m is the number of training examples in a batch.\n",
    "\n",
    "\n",
    "- `Y`: a processed version of the machine readable dates in the training set.\n",
    "    - Each character is replaced by the index (integer) it is mapped to in `machine_vocab`. \n",
    "    - `Y.shape = (m=10.000, Ty=10)`. \n",
    "\n",
    "\n",
    "- `Xoh`: one-hot version of `X`\n",
    "    - Each index in `X` is converted to the one-hot representation (if the index is 2, the one-hot version has the index position 2 set to 1, and the remaining positions are 0).\n",
    "    - `Xoh.shape = (m=10,000, Tx=30, len(human_vocab)=37)`\n",
    "\n",
    "\n",
    "- `Yoh`: one-hot version of `Y`\n",
    "    - Each index in `Y` is converted to the one-hot representation. \n",
    "    - `Yoh.shape = (m=10,000, Ty=10, len(machine_vocab)=11)`. \n",
    "    - `len(machine_vocab) = 11` since there are 10 numeric digits (0 to 9) and the `-` symbol."
   ]
  },
  {
   "cell_type": "markdown",
   "metadata": {},
   "source": [
    "Let's also look at some examples of preprocessed training examples. \n",
    "Feel free to play with `index` in the cell below to navigate the dataset and see how source/target dates are preprocessed. "
   ]
  },
  {
   "cell_type": "code",
   "execution_count": 7,
   "metadata": {
    "scrolled": true
   },
   "outputs": [
    {
     "name": "stdout",
     "output_type": "stream",
     "text": [
      "Source date: 10.11.19\n",
      "Target date: 2019-11-10\n",
      "\n",
      "Source after preprocessing (indices): [ 4  3  1  4  4  1  4 12 36 36 36 36 36 36 36 36 36 36 36 36 36 36 36 36\n",
      " 36 36 36 36 36 36]\n",
      "Target after preprocessing (indices): [ 3  1  2 10  0  2  2  0  2  1]\n",
      "\n",
      "Source after preprocessing (one-hot): [[0. 0. 0. ... 0. 0. 0.]\n",
      " [0. 0. 0. ... 0. 0. 0.]\n",
      " [0. 1. 0. ... 0. 0. 0.]\n",
      " ...\n",
      " [0. 0. 0. ... 0. 0. 1.]\n",
      " [0. 0. 0. ... 0. 0. 1.]\n",
      " [0. 0. 0. ... 0. 0. 1.]]\n",
      "Target after preprocessing (one-hot): [[0. 0. 0. 1. 0. 0. 0. 0. 0. 0. 0.]\n",
      " [0. 1. 0. 0. 0. 0. 0. 0. 0. 0. 0.]\n",
      " [0. 0. 1. 0. 0. 0. 0. 0. 0. 0. 0.]\n",
      " [0. 0. 0. 0. 0. 0. 0. 0. 0. 0. 1.]\n",
      " [1. 0. 0. 0. 0. 0. 0. 0. 0. 0. 0.]\n",
      " [0. 0. 1. 0. 0. 0. 0. 0. 0. 0. 0.]\n",
      " [0. 0. 1. 0. 0. 0. 0. 0. 0. 0. 0.]\n",
      " [1. 0. 0. 0. 0. 0. 0. 0. 0. 0. 0.]\n",
      " [0. 0. 1. 0. 0. 0. 0. 0. 0. 0. 0.]\n",
      " [0. 1. 0. 0. 0. 0. 0. 0. 0. 0. 0.]]\n",
      " ---- \n",
      "Source date: saturday september 18 1982\n",
      "Target date: 1982-09-18\n",
      "\n",
      "Source after preprocessing (indices): [29 13 30 31 28 16 13 34  0 29 17 27 30 17 24 14 17 28  0  4 11  0  4 12\n",
      " 11  5 36 36 36 36]\n",
      "Target after preprocessing (indices): [ 2 10  9  3  0  1 10  0  2  9]\n",
      "\n",
      "Source after preprocessing (one-hot): [[0. 0. 0. ... 0. 0. 0.]\n",
      " [0. 0. 0. ... 0. 0. 0.]\n",
      " [0. 0. 0. ... 0. 0. 0.]\n",
      " ...\n",
      " [0. 0. 0. ... 0. 0. 1.]\n",
      " [0. 0. 0. ... 0. 0. 1.]\n",
      " [0. 0. 0. ... 0. 0. 1.]]\n",
      "Target after preprocessing (one-hot): [[0. 0. 1. 0. 0. 0. 0. 0. 0. 0. 0.]\n",
      " [0. 0. 0. 0. 0. 0. 0. 0. 0. 0. 1.]\n",
      " [0. 0. 0. 0. 0. 0. 0. 0. 0. 1. 0.]\n",
      " [0. 0. 0. 1. 0. 0. 0. 0. 0. 0. 0.]\n",
      " [1. 0. 0. 0. 0. 0. 0. 0. 0. 0. 0.]\n",
      " [0. 1. 0. 0. 0. 0. 0. 0. 0. 0. 0.]\n",
      " [0. 0. 0. 0. 0. 0. 0. 0. 0. 0. 1.]\n",
      " [1. 0. 0. 0. 0. 0. 0. 0. 0. 0. 0.]\n",
      " [0. 0. 1. 0. 0. 0. 0. 0. 0. 0. 0.]\n",
      " [0. 0. 0. 0. 0. 0. 0. 0. 0. 1. 0.]]\n",
      " ---- \n",
      "Source date: july 1 1970\n",
      "Target date: 1970-07-01\n",
      "\n",
      "Source after preprocessing (indices): [22 31 23 34  0  4  0  4 12 10  3 36 36 36 36 36 36 36 36 36 36 36 36 36\n",
      " 36 36 36 36 36 36]\n",
      "Target after preprocessing (indices): [ 2 10  8  1  0  1  8  0  1  2]\n",
      "\n",
      "Source after preprocessing (one-hot): [[0. 0. 0. ... 0. 0. 0.]\n",
      " [0. 0. 0. ... 0. 0. 0.]\n",
      " [0. 0. 0. ... 0. 0. 0.]\n",
      " ...\n",
      " [0. 0. 0. ... 0. 0. 1.]\n",
      " [0. 0. 0. ... 0. 0. 1.]\n",
      " [0. 0. 0. ... 0. 0. 1.]]\n",
      "Target after preprocessing (one-hot): [[0. 0. 1. 0. 0. 0. 0. 0. 0. 0. 0.]\n",
      " [0. 0. 0. 0. 0. 0. 0. 0. 0. 0. 1.]\n",
      " [0. 0. 0. 0. 0. 0. 0. 0. 1. 0. 0.]\n",
      " [0. 1. 0. 0. 0. 0. 0. 0. 0. 0. 0.]\n",
      " [1. 0. 0. 0. 0. 0. 0. 0. 0. 0. 0.]\n",
      " [0. 1. 0. 0. 0. 0. 0. 0. 0. 0. 0.]\n",
      " [0. 0. 0. 0. 0. 0. 0. 0. 1. 0. 0.]\n",
      " [1. 0. 0. 0. 0. 0. 0. 0. 0. 0. 0.]\n",
      " [0. 1. 0. 0. 0. 0. 0. 0. 0. 0. 0.]\n",
      " [0. 0. 1. 0. 0. 0. 0. 0. 0. 0. 0.]]\n",
      " ---- \n"
     ]
    }
   ],
   "source": [
    "for ix in [1, 19, 507]:\n",
    "    print(\"Source date:\", dataset[ix][0])\n",
    "    print(\"Target date:\", dataset[ix][1])\n",
    "    print()\n",
    "    print(\"Source after preprocessing (indices):\", X[ix])\n",
    "    print(\"Target after preprocessing (indices):\", Y[ix])\n",
    "    print()\n",
    "    print(\"Source after preprocessing (one-hot):\", Xoh[ix])\n",
    "    print(\"Target after preprocessing (one-hot):\", Yoh[ix])\n",
    "    print(\" ---- \")"
   ]
  },
  {
   "cell_type": "markdown",
   "metadata": {},
   "source": [
    "## 2. Neural machine translation with attention\n",
    "\n",
    "* If you had to translate a book's paragraph from French to English, you would not read the whole paragraph, then close the book and translate. \n",
    "* Even during the translation process, you would read/re-read and focus on the parts of the French paragraph corresponding to the parts of the English you are writing down. \n",
    "* The attention mechanism tells a Neural Machine Translation model where it should pay attention to at any step. \n",
    "\n",
    "\n",
    "### 2.1. Attention mechanism\n",
    "\n",
    "In this part, you will implement the attention mechanism presented in the lecture videos. \n",
    "* Here is a figure to remind you how the model works. \n",
    "    * The diagram on the left shows the attention model. \n",
    "    * The diagram on the right shows what one \"attention\" step does to calculate the attention variables $\\alpha^{\\langle t, t' \\rangle}$.\n",
    "    * The attention variables $\\alpha^{\\langle t, t' \\rangle}$ are used to compute the context variable $context^{\\langle t \\rangle}$ for each timestep in the output ($t=1, \\ldots, T_y$). \n",
    "\n",
    "<table>\n",
    "<td> \n",
    "<img src=\"images/attn_model.png\" style=\"width:500;height:500px;\"> <br>\n",
    "</td> \n",
    "<td> \n",
    "<img src=\"images/attn_mechanism.png\" style=\"width:500;height:500px;\"> <br>\n",
    "</td> \n",
    "</table>\n",
    "<caption><center><b>Figure 1</b>: Neural machine translation with attention</center></caption>\n"
   ]
  },
  {
   "cell_type": "markdown",
   "metadata": {},
   "source": [
    "Here are some properties of the model that you may notice: \n",
    "\n",
    "#### Pre-attention and Post-attention LSTMs on both sides of the attention mechanism\n",
    "- There are two separate LSTMs in this model (see diagram on the left): pre-attention and post-attention LSTMs.\n",
    "\n",
    "- *Pre-attention* Bi-LSTM is the one at the bottom of the picture. It is a Bi-directional LSTM and it comes *before* the attention mechanism.\n",
    "    - The attention mechanism is shown in the middle of the left-hand diagram.\n",
    "    - The pre-attention Bi-LSTM goes through $T_x$ time steps\n",
    "\n",
    "- *Post-attention* LSTM: at the top of the diagram comes *after* the attention mechanism. \n",
    "    - The post-attention LSTM goes through $T_y$ time steps. \n",
    "\n",
    "- The post-attention LSTM passes the hidden state $s^{\\langle t \\rangle}$ and cell state $c^{\\langle t \\rangle}$ from one time step to the next. "
   ]
  },
  {
   "cell_type": "markdown",
   "metadata": {},
   "source": [
    "#### An LSTM has both a hidden state and cell state as inputs\n",
    "- In the lecture videos, we were using only a basic RNN for the post-attention sequence model\n",
    "  - This means that the state captured by the RNN was outputting only the hidden state $s^{\\langle t\\rangle}$.\n",
    "    \n",
    "- In this assignment, we are using an LSTM instead of a basic RNN.\n",
    "  - So the LSTM has both the hidden state $s^{\\langle t\\rangle}$ and the cell state $c^{\\langle t\\rangle}$. "
   ]
  },
  {
   "cell_type": "markdown",
   "metadata": {},
   "source": [
    "#### Each time step does not use predictions from the previous time step\n",
    "- Unlike previous text generation examples earlier in the course, in this model, the post-attention LSTM at time $t$ does not take the previous time step's prediction $y^{\\langle t-1 \\rangle}$ as input.\n",
    "\n",
    "- The post-attention LSTM at time `t` only takes the hidden state $s^{\\langle t\\rangle}$ and cell state $c^{\\langle t\\rangle}$ as input. \n",
    "\n",
    "- We have designed the model this way because unlike language generation (where adjacent characters are highly correlated) there isn't as strong a dependency between the previous character and the next character in a YYYY-MM-DD date."
   ]
  },
  {
   "cell_type": "markdown",
   "metadata": {},
   "source": [
    "#### Concatenation of hidden states from the forward and backward pre-attention LSTMs\n",
    "- $\\overrightarrow{a}^{\\langle t \\rangle}$: hidden state of the forward-direction, pre-attention LSTM.\n",
    "\n",
    "- $\\overleftarrow{a}^{\\langle t \\rangle}$: hidden state of the backward-direction, pre-attention LSTM.\n",
    "\n",
    "- $a^{\\langle t \\rangle} = [\\overrightarrow{a}^{\\langle t \\rangle}, \\overleftarrow{a}^{\\langle t \\rangle}]$: the concatenation of the activations of both the forward-direction $\\overrightarrow{a}^{\\langle t \\rangle}$ and backward-directions $\\overleftarrow{a}^{\\langle t \\rangle}$ of the pre-attention Bi-LSTM. "
   ]
  },
  {
   "cell_type": "markdown",
   "metadata": {},
   "source": [
    "#### Computing \"energies\" $e^{\\langle t, t' \\rangle}$ as a function of $s^{\\langle t-1 \\rangle}$ and $a^{\\langle t' \\rangle}$\n",
    "\n",
    "- Recall in the lesson videos \"Attention Model\", at time 6:45 to 8:16, the definition of \"e\" as a function of $s^{\\langle t-1 \\rangle}$ and $a^{\\langle t \\rangle}$.\n",
    "  - \"e\" is called the \"energies\" variable.\n",
    "  - $s^{\\langle t-1 \\rangle}$ is the hidden state of the post-attention LSTM\n",
    "  - $a^{\\langle t' \\rangle}$ is the hidden state of the pre-attention LSTM.\n",
    "  - $s^{\\langle t-1 \\rangle}$ and $a^{\\langle t \\rangle}$ are fed into a simple neural network, which learns the function to output $e^{\\langle t, t' \\rangle}$.\n",
    "  - $e^{\\langle t, t' \\rangle}$ is then used when computing the attention $a^{\\langle t, t' \\rangle}$ that $y^{\\langle t \\rangle}$ should pay to $a^{\\langle t' \\rangle}$."
   ]
  },
  {
   "cell_type": "markdown",
   "metadata": {},
   "source": [
    "#### Finally\n",
    "\n",
    "- The diagram on the right of figure 1 uses a `RepeatVector` node to copy $s^{\\langle t-1 \\rangle}$'s value $T_x$ times.\n",
    "\n",
    "- Then it uses `Concatenation` to concatenate $s^{\\langle t-1 \\rangle}$ and $a^{\\langle t \\rangle}$ which is fed into a \"Dense\" layer, which computes $e^{\\langle t, t' \\rangle}$. \n",
    "\n",
    "- $e^{\\langle t, t' \\rangle}$ is then passed through a softmax to compute $\\alpha^{\\langle t, t' \\rangle}$.\n",
    "\n",
    "- Note that the diagram doesn't explicitly show variable $e^{\\langle t, t' \\rangle}$, but $e^{\\langle t, t' \\rangle}$ is above the Dense layer and below the Softmax layer in the diagram (in the right half of figure 1).\n",
    "\n",
    "- We will explain how to use `RepeatVector` and `Concatenation` in Keras below. "
   ]
  },
  {
   "cell_type": "markdown",
   "metadata": {},
   "source": [
    "### Implementation Details\n",
    "   \n",
    "Let's implement this neural translator. You will start by implementing two functions: `one_step_attention()` and `model()`.\n",
    "\n",
    "#### one_step_attention\n",
    "- The inputs to the one_step_attention at time step $t$ are:\n",
    "  - $[a^{<1>},a^{<2>}, ..., a^{<T_x>}]$: all hidden states of the pre-attention Bi-LSTM.\n",
    "  - $s^{<t-1>}$: the previous hidden state of the post-attention LSTM \n",
    "\n",
    "- One_step_attention computes:\n",
    "  - $[\\alpha^{<t,1>},\\alpha^{<t,2>}, ..., \\alpha^{<t,T_x>}]$: the attention weights\n",
    "  - $context^{ \\langle t \\rangle }$: the context vector:  \n",
    "    $context^{<t>} = \\sum_{t' = 1}^{T_x} \\alpha^{<t,t'>}a^{<t'>}\\tag{1}$ \n",
    "\n",
    "##### Clarifying 'context' and 'c'\n",
    "- In the lecture videos, the context was denoted $c^{\\langle t \\rangle}$\n",
    "\n",
    "- In the assignment, we are calling the context $context^{\\langle t \\rangle}$.\n",
    "  - **This is to avoid confusion** with the post-attention LSTM's internal memory cell variable, which is also denoted $c^{\\langle t \\rangle}$."
   ]
  },
  {
   "cell_type": "markdown",
   "metadata": {},
   "source": [
    "**Exercise**:  \n",
    "Implement `one_step_attention()`. \n",
    "\n",
    "- The function `model()` will call the layers in `one_step_attention()` $T_y$ using a for-loop.\n",
    "\n",
    "\n",
    "- It is important that all $T_y$ copies have the same weights (all $T_y$ steps should have shared weights). \n",
    "  - Therefore *No* weight re-initialization at every time. \n",
    "\n",
    "\n",
    "- Here is how it can be implemented using layers with shareable weights in Keras:\n",
    "  1. Define the layer objects in a variable scope that is outside of the `one_step_attention` function.   \n",
    "     For example, defining the objects as global variables would work (`one_step_attention` will be a closure).\n",
    "   \n",
    "     - Note that defining these variables inside the scope of the function `model` would technically work, since `model` will then call the `one_step_attention` function.  For the purposes of making grading and troubleshooting easier, we are defining these as global variables.  Note that the automatic grader will expect these to be global variables as well.\n",
    "\n",
    "\n",
    "  2. Call these objects when propagating the input.\n",
    "\n",
    "\n",
    "- We have defined the layers you need as global variables. \n",
    "    * Please run the following cells to create them. \n",
    "    * Again, note that the automatic grader expects these global variables with the given variable names.  For grading purposes, please do not rename the global variables.\n",
    "\n",
    "\n",
    "- Please check the Keras documentation to learn more about these layers.  The layers are functions.  Below are examples of how to call these functions.  \n",
    "  - [RepeatVector()](https://keras.io/layers/core/#repeatvector)\n",
    "  - [Concatenate()](https://keras.io/layers/merge/#concatenate)   \n",
    "  - [Dense()](https://keras.io/layers/core/#dense)  \n",
    "  - [Activation()](https://keras.io/layers/core/#activation)  \n",
    "  - [Dot()](https://keras.io/layers/merge/#dot)  \n"
   ]
  },
  {
   "cell_type": "code",
   "execution_count": 8,
   "metadata": {},
   "outputs": [],
   "source": [
    "## Defined shared layers as global variables\n",
    "\n",
    "repeator = RepeatVector(Tx)\n",
    "concatenator = Concatenate(axis=-1)\n",
    "densor1 = Dense(10, activation=\"tanh\")\n",
    "densor2 = Dense(1, activation=\"relu\")\n",
    "activator = Activation(softmax, name='attention_weights') # We are using a custom softmax(axis = 1) loaded in this notebook\n",
    "dotor = Dot(axes=1)"
   ]
  },
  {
   "cell_type": "code",
   "execution_count": 9,
   "metadata": {},
   "outputs": [],
   "source": [
    "# GRADED FUNCTION: one_step_attention\n",
    "\n",
    "def one_step_attention(a, s_prev):\n",
    "    \"\"\"\n",
    "    Performs one step of attention: Outputs a context vector computed as a dot product of the attention weights\n",
    "    \"alphas\" and the hidden states \"a\" of the Bi-LSTM.\n",
    "    \n",
    "    Arguments:\n",
    "    a -- hidden state output of the Bi-LSTM, numpy-array of shape (m, Tx, 2*n_a)\n",
    "    s_prev -- previous hidden state of the (post-attention) LSTM, numpy-array of shape (m, n_s)\n",
    "    \n",
    "    Returns:\n",
    "    context -- context vector, input of the next (post-attention) LSTM cell\n",
    "    \"\"\"\n",
    "    \n",
    "    ### CODE HERE:\n",
    "    # Use repeator to repeat s_prev to be of shape (m, Tx, n_s) so that \n",
    "    # you can concatenate it with all hidden states \"a\"\n",
    "    s_prev = repeator(s_prev)\n",
    "    \n",
    "    # Use concatenator to concatenate a and s_prev on the last axis\n",
    "    # For grading purposes, please list 'a' first and 's_prev' second, in this order.\n",
    "    concat = concatenator([a, s_prev])\n",
    "    \n",
    "    # Use densor1 to propagate concat through a small fully-connected neural network \n",
    "    # to compute the \"intermediate energies\" variable e\n",
    "    e = densor1(concat)\n",
    "    \n",
    "    # Use densor2 to propagate e through a small fully-connected neural network \n",
    "    # to compute the \"energies\" variable energies.\n",
    "    energies = densor2(e)\n",
    "    \n",
    "    # Use \"activator\" on \"energies\" to compute the attention weights \"alphas\"\n",
    "    alphas = activator(energies)\n",
    "    \n",
    "    # Use dotor together with \"alphas\" and \"a\" to compute the context vector \n",
    "    # to be given to the next (post-attention) LSTM-cell\n",
    "    context = dotor([alphas, a])\n",
    "    \n",
    "    return context"
   ]
  },
  {
   "cell_type": "markdown",
   "metadata": {},
   "source": [
    "*Note*: You will be able to check the expected output of `one_step_attention()` after you've coded the `model()` function."
   ]
  },
  {
   "cell_type": "markdown",
   "metadata": {},
   "source": [
    "#### model\n",
    "* `model` first runs the input through a Bi-LSTM to get $[a^{<1>},a^{<2>}, ..., a^{<T_x>}]$. \n",
    "* Then, `model` calls `one_step_attention()` $T_y$ times using a `for` loop.  At each iteration of this loop:\n",
    "    - It gives the computed context vector $context^{<t>}$ to the post-attention LSTM.\n",
    "    - It runs the output of the post-attention LSTM through a dense layer with softmax activation.\n",
    "    - The softmax generates a prediction $\\hat{y}^{<t>}$. "
   ]
  },
  {
   "cell_type": "markdown",
   "metadata": {},
   "source": [
    "**Exercise**:  \n",
    "Implement `model()` as explained in figure 1 and the text above. Again, we have defined global layers that will share weights to be used in `model()`."
   ]
  },
  {
   "cell_type": "code",
   "execution_count": 10,
   "metadata": {},
   "outputs": [],
   "source": [
    "n_a = 32 # number of units for the pre-attention, bi-directional LSTM's hidden state 'a'\n",
    "n_s = 64 # number of units for the post-attention LSTM's hidden state \"s\"\n",
    "\n",
    "\n",
    "# Please note, this is the post attention LSTM cell.  \n",
    "# For the purposes of passing the automatic grader\n",
    "# please do not modify this global variable.  This will be corrected once the automatic grader is also updated.\n",
    "post_activation_LSTM_cell = LSTM(n_s, return_state=True) # post-attention LSTM \n",
    "output_layer = Dense(len(machine_vocab), activation=softmax)"
   ]
  },
  {
   "cell_type": "markdown",
   "metadata": {},
   "source": [
    "Now you can use these layers $T_y$ times in a `for` loop to generate the outputs, and their parameters will not be reinitialized.  \n",
    "You will have to carry out the following steps: \n",
    "\n",
    "1. Propagate the input `X` into a bi-directional LSTM.\n",
    "    * [Bidirectional](https://keras.io/layers/wrappers/#bidirectional) \n",
    "    * [LSTM](https://keras.io/layers/recurrent/#lstm)\n",
    "    * Remember that we want the LSTM to return a full sequence instead of just the last hidden state, so use `return-sequences` in `LSTM()` function.  \n",
    "    \n",
    "\n",
    "2. Iterate through $T_y$:  \n",
    "  2.1. Call `one_step_attention()` to calculate the context vector $context^{<t>}$:  \n",
    "    - Passing in the sequence of hidden states $[a^{\\langle 1 \\rangle},a^{\\langle 2 \\rangle}, ..., a^{ \\langle T_x \\rangle}]$ from the pre-attention bi-directional LSTM, and the\n",
    "    - Previous hidden state $s^{<t-1>}$ from the post-attention LSTM.\n",
    "  \n",
    "  2.2. Give $context^{<t>}$ to the post-attention LSTM cell. \n",
    "    - Remember to pass in the previous hidden-state $s^{\\langle t-1\\rangle}$ and cell-states $c^{\\langle t-1\\rangle}$ of this LSTM \n",
    "    - This outputs the new hidden state $s^{<t>}$ and the new cell state $c^{<t>}$.  \n",
    "        \n",
    "    Please note that the layer is actually the \"post attention LSTM cell\".  For the purposes of passing the automatic grader, please do not modify the naming of this global variable. This will be fixed when we deploy updates to the automatic grader.\n",
    "        \n",
    "  2.3. Apply a dense, softmax layer to $s^{<t>}$, get the output.  \n",
    "\n",
    "  2.4. Save the output by adding it to the list of outputs.\n",
    "\n",
    "\n",
    "3. Create your Keras model instance. It should have three inputs and one output.\n",
    "  - `X`, the one-hot encoded inputs to the model, of shape ($T_{x}, humanVocabSize)$\n",
    "  - $s^{\\langle 0 \\rangle}$, the initial hidden state of the post-attention LSTM\n",
    "  - $c^{\\langle 0 \\rangle}$), the initial cell state of the post-attention LSTM\n",
    "  - The output is the list of outputs. "
   ]
  },
  {
   "cell_type": "code",
   "execution_count": 11,
   "metadata": {},
   "outputs": [],
   "source": [
    "# GRADED FUNCTION: model\n",
    "\n",
    "def model_fn(Tx, Ty, n_a, n_s, human_vocab_size, machine_vocab_size):\n",
    "    \"\"\"\n",
    "    Arguments:\n",
    "    Tx -- length of the input sequence\n",
    "    Ty -- length of the output sequence\n",
    "    n_a -- hidden state size of the Bi-LSTM\n",
    "    n_s -- hidden state size of the post-attention LSTM\n",
    "    human_vocab_size -- size of the python dictionary \"human_vocab\"\n",
    "    machine_vocab_size -- size of the python dictionary \"machine_vocab\"\n",
    "\n",
    "    Returns:\n",
    "    model -- Keras model instance\n",
    "    \"\"\"\n",
    "    \n",
    "    # Define the inputs of your model with a shape (Tx,)\n",
    "    # Define s0 (initial hidden state) and c0 (initial cell state) for the decoder LSTM with shape (n_s,)\n",
    "    X  = Input(shape=(Tx, human_vocab_size))\n",
    "    s0, c0 = Input(shape=(n_s,), name='s0'), Input(shape=(n_s,), name='c0')\n",
    "    s, c = s0, c0\n",
    "    \n",
    "    # Initialize empty list of outputs\n",
    "    outputs = []\n",
    "    \n",
    "    ### CODE HERE:\n",
    "    # Step 1: Define your pre-attention by propagating input(X) through bidir. LSTN\n",
    "    a = Bidirectional(LSTM(units=n_a, return_sequences=True), \n",
    "                      input_shape=(Tx, human_vocab_size))(X)\n",
    "    \n",
    "    for t in range(Ty):  # Step 2: Iterate for Ty steps\n",
    "    \n",
    "        # Step 2.A: Perform one step of the attention mechanism to get back the context vector at step t\n",
    "        context = one_step_attention(a, s)\n",
    "        \n",
    "        # Step 2.B: Apply the post-attention LSTM cell to the \"context\" vector.\n",
    "        # Don't forget to pass: initial_state = [hidden state, cell state] \n",
    "        s, _, c = post_activation_LSTM_cell(inputs=context, initial_state=[s, c])\n",
    "        \n",
    "        # Step 2.C: Apply Dense layer to the hidden state output of the post-attention LSTM\n",
    "        out = output_layer(s)\n",
    "        \n",
    "        # Step 2.D: Append \"out\" to the \"outputs\" list\n",
    "        outputs.append(out)\n",
    "    \n",
    "    # Step 3: Create model instance taking three inputs and returning the list of outputs. (≈ 1 line)\n",
    "    model = Model(inputs=[X, s0, c0], outputs=outputs)\n",
    "    \n",
    "    return model"
   ]
  },
  {
   "cell_type": "markdown",
   "metadata": {},
   "source": [
    "Run the following cell to create your model."
   ]
  },
  {
   "cell_type": "code",
   "execution_count": 12,
   "metadata": {},
   "outputs": [
    {
     "name": "stderr",
     "output_type": "stream",
     "text": [
      "WARNING: Logging before flag parsing goes to stderr.\n",
      "W0414 14:07:09.684085 140518373939008 deprecation.py:506] From /home/pascal/Projects/ML_DL/anaconda3/envs/tensorflow_keras_gpuenv/lib/python3.7/site-packages/tensorflow_core/python/ops/resource_variable_ops.py:1630: calling BaseResourceVariable.__init__ (from tensorflow.python.ops.resource_variable_ops) with constraint is deprecated and will be removed in a future version.\n",
      "Instructions for updating:\n",
      "If using Keras pass *_constraint arguments to layers.\n"
     ]
    }
   ],
   "source": [
    "model = model_fn(Tx, Ty, n_a, n_s, len(human_vocab), len(machine_vocab))"
   ]
  },
  {
   "cell_type": "markdown",
   "metadata": {},
   "source": [
    "#### Troubleshooting Note\n",
    "* If you are getting repeated errors after an initially incorrect implementation of \"model\", but believe that you have corrected the error, you may still see error messages when building your model.  \n",
    "* A solution is to save and restart your kernel (or shutdown then restart your notebook), and re-run the cells."
   ]
  },
  {
   "cell_type": "markdown",
   "metadata": {},
   "source": [
    "Let's get a summary of the model to check if it matches the expected output."
   ]
  },
  {
   "cell_type": "code",
   "execution_count": 13,
   "metadata": {},
   "outputs": [
    {
     "name": "stdout",
     "output_type": "stream",
     "text": [
      "Model: \"model_1\"\n",
      "__________________________________________________________________________________________________\n",
      "Layer (type)                    Output Shape         Param #     Connected to                     \n",
      "==================================================================================================\n",
      "input_1 (InputLayer)            (None, 30, 37)       0                                            \n",
      "__________________________________________________________________________________________________\n",
      "s0 (InputLayer)                 (None, 64)           0                                            \n",
      "__________________________________________________________________________________________________\n",
      "bidirectional_1 (Bidirectional) (None, 30, 64)       17920       input_1[0][0]                    \n",
      "__________________________________________________________________________________________________\n",
      "repeat_vector_1 (RepeatVector)  (None, 30, 64)       0           s0[0][0]                         \n",
      "                                                                 lstm_1[0][0]                     \n",
      "                                                                 lstm_1[1][0]                     \n",
      "                                                                 lstm_1[2][0]                     \n",
      "                                                                 lstm_1[3][0]                     \n",
      "                                                                 lstm_1[4][0]                     \n",
      "                                                                 lstm_1[5][0]                     \n",
      "                                                                 lstm_1[6][0]                     \n",
      "                                                                 lstm_1[7][0]                     \n",
      "                                                                 lstm_1[8][0]                     \n",
      "__________________________________________________________________________________________________\n",
      "concatenate_1 (Concatenate)     (None, 30, 128)      0           bidirectional_1[0][0]            \n",
      "                                                                 repeat_vector_1[0][0]            \n",
      "                                                                 bidirectional_1[0][0]            \n",
      "                                                                 repeat_vector_1[1][0]            \n",
      "                                                                 bidirectional_1[0][0]            \n",
      "                                                                 repeat_vector_1[2][0]            \n",
      "                                                                 bidirectional_1[0][0]            \n",
      "                                                                 repeat_vector_1[3][0]            \n",
      "                                                                 bidirectional_1[0][0]            \n",
      "                                                                 repeat_vector_1[4][0]            \n",
      "                                                                 bidirectional_1[0][0]            \n",
      "                                                                 repeat_vector_1[5][0]            \n",
      "                                                                 bidirectional_1[0][0]            \n",
      "                                                                 repeat_vector_1[6][0]            \n",
      "                                                                 bidirectional_1[0][0]            \n",
      "                                                                 repeat_vector_1[7][0]            \n",
      "                                                                 bidirectional_1[0][0]            \n",
      "                                                                 repeat_vector_1[8][0]            \n",
      "                                                                 bidirectional_1[0][0]            \n",
      "                                                                 repeat_vector_1[9][0]            \n",
      "__________________________________________________________________________________________________\n",
      "dense_1 (Dense)                 (None, 30, 10)       1290        concatenate_1[0][0]              \n",
      "                                                                 concatenate_1[1][0]              \n",
      "                                                                 concatenate_1[2][0]              \n",
      "                                                                 concatenate_1[3][0]              \n",
      "                                                                 concatenate_1[4][0]              \n",
      "                                                                 concatenate_1[5][0]              \n",
      "                                                                 concatenate_1[6][0]              \n",
      "                                                                 concatenate_1[7][0]              \n",
      "                                                                 concatenate_1[8][0]              \n",
      "                                                                 concatenate_1[9][0]              \n",
      "__________________________________________________________________________________________________\n",
      "dense_2 (Dense)                 (None, 30, 1)        11          dense_1[0][0]                    \n",
      "                                                                 dense_1[1][0]                    \n",
      "                                                                 dense_1[2][0]                    \n",
      "                                                                 dense_1[3][0]                    \n",
      "                                                                 dense_1[4][0]                    \n",
      "                                                                 dense_1[5][0]                    \n",
      "                                                                 dense_1[6][0]                    \n",
      "                                                                 dense_1[7][0]                    \n",
      "                                                                 dense_1[8][0]                    \n",
      "                                                                 dense_1[9][0]                    \n",
      "__________________________________________________________________________________________________\n",
      "attention_weights (Activation)  (None, 30, 1)        0           dense_2[0][0]                    \n",
      "                                                                 dense_2[1][0]                    \n",
      "                                                                 dense_2[2][0]                    \n",
      "                                                                 dense_2[3][0]                    \n",
      "                                                                 dense_2[4][0]                    \n",
      "                                                                 dense_2[5][0]                    \n",
      "                                                                 dense_2[6][0]                    \n",
      "                                                                 dense_2[7][0]                    \n",
      "                                                                 dense_2[8][0]                    \n",
      "                                                                 dense_2[9][0]                    \n",
      "__________________________________________________________________________________________________\n",
      "dot_1 (Dot)                     (None, 1, 64)        0           attention_weights[0][0]          \n",
      "                                                                 bidirectional_1[0][0]            \n",
      "                                                                 attention_weights[1][0]          \n",
      "                                                                 bidirectional_1[0][0]            \n",
      "                                                                 attention_weights[2][0]          \n",
      "                                                                 bidirectional_1[0][0]            \n",
      "                                                                 attention_weights[3][0]          \n",
      "                                                                 bidirectional_1[0][0]            \n",
      "                                                                 attention_weights[4][0]          \n",
      "                                                                 bidirectional_1[0][0]            \n",
      "                                                                 attention_weights[5][0]          \n",
      "                                                                 bidirectional_1[0][0]            \n",
      "                                                                 attention_weights[6][0]          \n",
      "                                                                 bidirectional_1[0][0]            \n",
      "                                                                 attention_weights[7][0]          \n",
      "                                                                 bidirectional_1[0][0]            \n",
      "                                                                 attention_weights[8][0]          \n",
      "                                                                 bidirectional_1[0][0]            \n",
      "                                                                 attention_weights[9][0]          \n",
      "                                                                 bidirectional_1[0][0]            \n",
      "__________________________________________________________________________________________________\n",
      "c0 (InputLayer)                 (None, 64)           0                                            \n",
      "__________________________________________________________________________________________________\n",
      "lstm_1 (LSTM)                   [(None, 64), (None,  33024       dot_1[0][0]                      \n",
      "                                                                 s0[0][0]                         \n",
      "                                                                 c0[0][0]                         \n",
      "                                                                 dot_1[1][0]                      \n",
      "                                                                 lstm_1[0][0]                     \n",
      "                                                                 lstm_1[0][2]                     \n",
      "                                                                 dot_1[2][0]                      \n",
      "                                                                 lstm_1[1][0]                     \n",
      "                                                                 lstm_1[1][2]                     \n",
      "                                                                 dot_1[3][0]                      \n",
      "                                                                 lstm_1[2][0]                     \n",
      "                                                                 lstm_1[2][2]                     \n",
      "                                                                 dot_1[4][0]                      \n",
      "                                                                 lstm_1[3][0]                     \n",
      "                                                                 lstm_1[3][2]                     \n",
      "                                                                 dot_1[5][0]                      \n",
      "                                                                 lstm_1[4][0]                     \n",
      "                                                                 lstm_1[4][2]                     \n",
      "                                                                 dot_1[6][0]                      \n",
      "                                                                 lstm_1[5][0]                     \n",
      "                                                                 lstm_1[5][2]                     \n",
      "                                                                 dot_1[7][0]                      \n",
      "                                                                 lstm_1[6][0]                     \n",
      "                                                                 lstm_1[6][2]                     \n",
      "                                                                 dot_1[8][0]                      \n",
      "                                                                 lstm_1[7][0]                     \n",
      "                                                                 lstm_1[7][2]                     \n",
      "                                                                 dot_1[9][0]                      \n",
      "                                                                 lstm_1[8][0]                     \n",
      "                                                                 lstm_1[8][2]                     \n",
      "__________________________________________________________________________________________________\n",
      "dense_3 (Dense)                 (None, 11)           715         lstm_1[0][0]                     \n",
      "                                                                 lstm_1[1][0]                     \n",
      "                                                                 lstm_1[2][0]                     \n",
      "                                                                 lstm_1[3][0]                     \n",
      "                                                                 lstm_1[4][0]                     \n",
      "                                                                 lstm_1[5][0]                     \n",
      "                                                                 lstm_1[6][0]                     \n",
      "                                                                 lstm_1[7][0]                     \n",
      "                                                                 lstm_1[8][0]                     \n",
      "                                                                 lstm_1[9][0]                     \n",
      "==================================================================================================\n",
      "Total params: 52,960\n",
      "Trainable params: 52,960\n",
      "Non-trainable params: 0\n",
      "__________________________________________________________________________________________________\n"
     ]
    }
   ],
   "source": [
    "model.summary()"
   ]
  },
  {
   "cell_type": "code",
   "execution_count": 14,
   "metadata": {},
   "outputs": [
    {
     "name": "stdout",
     "output_type": "stream",
     "text": [
      " 0 - name: input_1              shape: (?, 30, 37) \n",
      " 1 - name: s0                   shape: (?, 64)     \n",
      " 2 - name: bidirectional_1      shape: (?, 30, 64) \n",
      " 3 - name: repeat_vector_1      shape: (?, 30, 64) \n",
      " 4 - name: concatenate_1        shape: (?, 30, 128)\n",
      " 5 - name: dense_1              shape: (?, 30, 10) \n",
      " 6 - name: dense_2              shape: (?, 30, 1)  \n",
      " 7 - name: attention_weights    shape: (?, 30, 1)  \n",
      " 8 - name: dot_1                shape: (?, 1, 64)  \n",
      " 9 - name: c0                   shape: (?, 64)     \n",
      "10 - name: lstm_1               shape: (?, 64)     \n",
      "11 - name: dense_3              shape: (?, 11)     \n"
     ]
    }
   ],
   "source": [
    "for ix, layer in enumerate(model.layers):\n",
    "    if type(layer.get_output_at(-1)) is list:\n",
    "        output_shape = str(layer.get_output_at(-1)[-1].shape)\n",
    "    else: \n",
    "        output_shape = str(layer.get_output_at(-1).shape)\n",
    "    print(\"{:2d} - name: {:20s} shape: {:12s}\".format(ix, layer.name, output_shape))"
   ]
  },
  {
   "cell_type": "markdown",
   "metadata": {},
   "source": [
    "**Expected Output**:\n",
    "\n",
    "Here is the summary you should see\n",
    "<table>\n",
    "    <tr>\n",
    "        <td>\n",
    "            <b>Total params:</b>\n",
    "        </td>\n",
    "        <td>\n",
    "         52,960\n",
    "        </td>\n",
    "    </tr>\n",
    "        <tr>\n",
    "        <td>\n",
    "            <b>Trainable params:</b>\n",
    "        </td>\n",
    "        <td>\n",
    "         52,960\n",
    "        </td>\n",
    "    </tr>\n",
    "            <tr>\n",
    "        <td>\n",
    "            <b>Non-trainable params:</b>\n",
    "        </td>\n",
    "        <td>\n",
    "         0\n",
    "        </td>\n",
    "    </tr>\n",
    "                    <tr>\n",
    "        <td>\n",
    "            <b>bidirectional_1's output shape</b>\n",
    "        </td>\n",
    "        <td>\n",
    "         (None, 30, 64)  \n",
    "        </td>\n",
    "    </tr>\n",
    "    <tr>\n",
    "        <td>\n",
    "            <b>repeat_vector_1's output shape</b>\n",
    "        </td>\n",
    "        <td>\n",
    "         (None, 30, 64) \n",
    "        </td>\n",
    "    </tr>\n",
    "                <tr>\n",
    "        <td>\n",
    "            <b>concatenate_1's output shape</b>\n",
    "        </td>\n",
    "        <td>\n",
    "         (None, 30, 128) \n",
    "        </td>\n",
    "    </tr>\n",
    "            <tr>\n",
    "        <td>\n",
    "            <b>attention_weights's output shape</b>\n",
    "        </td>\n",
    "        <td>\n",
    "         (None, 30, 1)  \n",
    "        </td>\n",
    "    </tr>\n",
    "        <tr>\n",
    "        <td>\n",
    "            <b>dot_1's output shape</b>\n",
    "        </td>\n",
    "        <td>\n",
    "         (None, 1, 64)\n",
    "        </td>\n",
    "    </tr>\n",
    "           <tr>\n",
    "        <td>\n",
    "            <b>dense_3's output shape</b>\n",
    "        </td>\n",
    "        <td>\n",
    "         (None, 11) \n",
    "        </td>\n",
    "    </tr>\n",
    "</table>\n"
   ]
  },
  {
   "cell_type": "markdown",
   "metadata": {},
   "source": [
    "#### Compile the model\n",
    "- After creating your model in Keras, you need to compile it and define the loss function, optimizer and metrics you want to use. \n",
    "  - Loss function: 'categorical_crossentropy'.\n",
    "  - Optimizer: [Adam](https://keras.io/optimizers/#adam) [optimizer](https://keras.io/optimizers/#usage-of-optimizers)\n",
    "    - learning rate = 0.005 \n",
    "    - $\\beta_1 = 0.9$\n",
    "    - $\\beta_2 = 0.999$\n",
    "    - $decay = 0.01$  \n",
    "  - Metric: 'accuracy'"
   ]
  },
  {
   "cell_type": "code",
   "execution_count": 15,
   "metadata": {},
   "outputs": [],
   "source": [
    "### CODE HERE:\n",
    "\n",
    "opt = Adam(lr=0.005, beta_1=0.9, beta_2=0.999, decay=0.01)\n",
    "model.compile(optimizer=opt, loss='categorical_crossentropy', \n",
    "              metrics=['accuracy'])"
   ]
  },
  {
   "cell_type": "markdown",
   "metadata": {},
   "source": [
    "#### Define inputs and outputs, and fit the model\n",
    "The last step is to define all your inputs and outputs to fit the model:\n",
    "- You have input X of shape $(m = 10000, T_x = 30)$ containing the training examples.\n",
    "- You need to create `s0` and `c0` to initialize your `post_attention_LSTM_cell` with zeros.\n",
    "- Given the `model()` you coded, you need the \"outputs\" to be a list of 10 elements of shape (m, T_y). \n",
    "  - The list `outputs[i][0], ..., outputs[i][Ty]` represents the true labels (characters) corresponding to the $i^{th}$ training example (`X[i]`). \n",
    "  - `outputs[i][j]` is the true label of the $j^{th}$ character in the $i^{th}$ training example."
   ]
  },
  {
   "cell_type": "code",
   "execution_count": 16,
   "metadata": {},
   "outputs": [],
   "source": [
    "s0 = np.zeros((m, n_s))\n",
    "c0 = np.zeros((m, n_s))\n",
    "\n",
    "outputs = list(Yoh.swapaxes(0, 1))"
   ]
  },
  {
   "cell_type": "markdown",
   "metadata": {},
   "source": [
    "Let's now fit the model and run it for ~one~ five epochs."
   ]
  },
  {
   "cell_type": "code",
   "execution_count": 17,
   "metadata": {
    "scrolled": true
   },
   "outputs": [
    {
     "name": "stderr",
     "output_type": "stream",
     "text": [
      "W0414 14:07:15.409916 140518373939008 module_wrapper.py:139] From /home/pascal/Projects/ML_DL/anaconda3/envs/tensorflow_keras_gpuenv/lib/python3.7/site-packages/keras/backend/tensorflow_backend.py:422: The name tf.global_variables is deprecated. Please use tf.compat.v1.global_variables instead.\n",
      "\n"
     ]
    },
    {
     "name": "stdout",
     "output_type": "stream",
     "text": [
      "Epoch 1/24\n",
      "10000/10000 [==============================] - 8s 762us/step - loss: 16.9761 - dense_3_loss: 2.4986 - dense_3_accuracy: 0.4379 - dense_3_accuracy_1: 0.6236 - dense_3_accuracy_2: 0.2850 - dense_3_accuracy_3: 0.0928 - dense_3_accuracy_4: 0.9014 - dense_3_accuracy_5: 0.3726 - dense_3_accuracy_6: 0.0670 - dense_3_accuracy_7: 0.8943 - dense_3_accuracy_8: 0.2909 - dense_3_accuracy_9: 0.1246\n",
      "Epoch 2/24\n",
      "10000/10000 [==============================] - 4s 399us/step - loss: 8.8771 - dense_3_loss: 1.9711 - dense_3_accuracy: 0.9032 - dense_3_accuracy_1: 0.9453 - dense_3_accuracy_2: 0.5764 - dense_3_accuracy_3: 0.2155 - dense_3_accuracy_4: 1.0000 - dense_3_accuracy_5: 0.9234 - dense_3_accuracy_6: 0.3445 - dense_3_accuracy_7: 1.0000 - dense_3_accuracy_8: 0.5363 - dense_3_accuracy_9: 0.2800\n",
      "Epoch 3/24\n",
      "10000/10000 [==============================] - 4s 396us/step - loss: 7.3277 - dense_3_loss: 1.6691 - dense_3_accuracy: 0.9622 - dense_3_accuracy_1: 0.9623 - dense_3_accuracy_2: 0.6655 - dense_3_accuracy_3: 0.3100 - dense_3_accuracy_4: 1.0000 - dense_3_accuracy_5: 0.9613 - dense_3_accuracy_6: 0.4242 - dense_3_accuracy_7: 0.9999 - dense_3_accuracy_8: 0.5874 - dense_3_accuracy_9: 0.3810\n",
      "Epoch 4/24\n",
      "10000/10000 [==============================] - 4s 398us/step - loss: 6.4201 - dense_3_loss: 1.4120 - dense_3_accuracy: 0.9684 - dense_3_accuracy_1: 0.9681 - dense_3_accuracy_2: 0.7246 - dense_3_accuracy_3: 0.3580 - dense_3_accuracy_4: 0.9999 - dense_3_accuracy_5: 0.9687 - dense_3_accuracy_6: 0.4977 - dense_3_accuracy_7: 0.9997 - dense_3_accuracy_8: 0.6565 - dense_3_accuracy_9: 0.4761\n",
      "Epoch 5/24\n",
      "10000/10000 [==============================] - 4s 397us/step - loss: 5.7764 - dense_3_loss: 1.2367 - dense_3_accuracy: 0.9702 - dense_3_accuracy_1: 0.9722 - dense_3_accuracy_2: 0.7764 - dense_3_accuracy_3: 0.4094 - dense_3_accuracy_4: 0.9995 - dense_3_accuracy_5: 0.9685 - dense_3_accuracy_6: 0.5521 - dense_3_accuracy_7: 0.9992 - dense_3_accuracy_8: 0.6908 - dense_3_accuracy_9: 0.5412\n",
      "Epoch 6/24\n",
      "10000/10000 [==============================] - 4s 396us/step - loss: 5.2089 - dense_3_loss: 1.0651 - dense_3_accuracy: 0.9740 - dense_3_accuracy_1: 0.9752 - dense_3_accuracy_2: 0.8059 - dense_3_accuracy_3: 0.4655 - dense_3_accuracy_4: 1.0000 - dense_3_accuracy_5: 0.9716 - dense_3_accuracy_6: 0.5912 - dense_3_accuracy_7: 0.9999 - dense_3_accuracy_8: 0.7171 - dense_3_accuracy_9: 0.6028\n",
      "Epoch 7/24\n",
      "10000/10000 [==============================] - 4s 397us/step - loss: 4.6712 - dense_3_loss: 0.9089 - dense_3_accuracy: 0.9759 - dense_3_accuracy_1: 0.9764 - dense_3_accuracy_2: 0.8251 - dense_3_accuracy_3: 0.5499 - dense_3_accuracy_4: 1.0000 - dense_3_accuracy_5: 0.9733 - dense_3_accuracy_6: 0.6293 - dense_3_accuracy_7: 1.0000 - dense_3_accuracy_8: 0.7339 - dense_3_accuracy_9: 0.6686\n",
      "Epoch 8/24\n",
      "10000/10000 [==============================] - 4s 396us/step - loss: 4.2205 - dense_3_loss: 0.8034 - dense_3_accuracy: 0.9764 - dense_3_accuracy_1: 0.9783 - dense_3_accuracy_2: 0.8431 - dense_3_accuracy_3: 0.6216 - dense_3_accuracy_4: 1.0000 - dense_3_accuracy_5: 0.9739 - dense_3_accuracy_6: 0.6638 - dense_3_accuracy_7: 0.9999 - dense_3_accuracy_8: 0.7582 - dense_3_accuracy_9: 0.7157\n",
      "Epoch 9/24\n",
      "10000/10000 [==============================] - 4s 400us/step - loss: 3.8405 - dense_3_loss: 0.7201 - dense_3_accuracy: 0.9775 - dense_3_accuracy_1: 0.9798 - dense_3_accuracy_2: 0.8550 - dense_3_accuracy_3: 0.6749 - dense_3_accuracy_4: 1.0000 - dense_3_accuracy_5: 0.9766 - dense_3_accuracy_6: 0.6985 - dense_3_accuracy_7: 0.9998 - dense_3_accuracy_8: 0.7776 - dense_3_accuracy_9: 0.7467\n",
      "Epoch 10/24\n",
      "10000/10000 [==============================] - 4s 413us/step - loss: 3.5077 - dense_3_loss: 0.6565 - dense_3_accuracy: 0.9791 - dense_3_accuracy_1: 0.9811 - dense_3_accuracy_2: 0.8645 - dense_3_accuracy_3: 0.7266 - dense_3_accuracy_4: 1.0000 - dense_3_accuracy_5: 0.9777 - dense_3_accuracy_6: 0.7350 - dense_3_accuracy_7: 1.0000 - dense_3_accuracy_8: 0.7961 - dense_3_accuracy_9: 0.7727\n",
      "Epoch 11/24\n",
      "10000/10000 [==============================] - 4s 404us/step - loss: 3.2251 - dense_3_loss: 0.6078 - dense_3_accuracy: 0.9794 - dense_3_accuracy_1: 0.9820 - dense_3_accuracy_2: 0.8742 - dense_3_accuracy_3: 0.7674 - dense_3_accuracy_4: 1.0000 - dense_3_accuracy_5: 0.9788 - dense_3_accuracy_6: 0.7601 - dense_3_accuracy_7: 0.9999 - dense_3_accuracy_8: 0.8093 - dense_3_accuracy_9: 0.7929\n",
      "Epoch 12/24\n",
      "10000/10000 [==============================] - 4s 402us/step - loss: 2.9774 - dense_3_loss: 0.5618 - dense_3_accuracy: 0.9795 - dense_3_accuracy_1: 0.9822 - dense_3_accuracy_2: 0.8816 - dense_3_accuracy_3: 0.8075 - dense_3_accuracy_4: 1.0000 - dense_3_accuracy_5: 0.9787 - dense_3_accuracy_6: 0.7871 - dense_3_accuracy_7: 1.0000 - dense_3_accuracy_8: 0.8178 - dense_3_accuracy_9: 0.8094\n",
      "Epoch 13/24\n",
      "10000/10000 [==============================] - 4s 419us/step - loss: 2.7575 - dense_3_loss: 0.5219 - dense_3_accuracy: 0.9803 - dense_3_accuracy_1: 0.9838 - dense_3_accuracy_2: 0.8895 - dense_3_accuracy_3: 0.8368 - dense_3_accuracy_4: 1.0000 - dense_3_accuracy_5: 0.9796 - dense_3_accuracy_6: 0.8025 - dense_3_accuracy_7: 1.0000 - dense_3_accuracy_8: 0.8268 - dense_3_accuracy_9: 0.8235\n",
      "Epoch 14/24\n",
      "10000/10000 [==============================] - 4s 409us/step - loss: 2.5476 - dense_3_loss: 0.4852 - dense_3_accuracy: 0.9808 - dense_3_accuracy_1: 0.9843 - dense_3_accuracy_2: 0.8969 - dense_3_accuracy_3: 0.8604 - dense_3_accuracy_4: 1.0000 - dense_3_accuracy_5: 0.9812 - dense_3_accuracy_6: 0.8263 - dense_3_accuracy_7: 1.0000 - dense_3_accuracy_8: 0.8350 - dense_3_accuracy_9: 0.8401\n",
      "Epoch 15/24\n",
      "10000/10000 [==============================] - 4s 410us/step - loss: 2.3687 - dense_3_loss: 0.4561 - dense_3_accuracy: 0.9820 - dense_3_accuracy_1: 0.9845 - dense_3_accuracy_2: 0.9048 - dense_3_accuracy_3: 0.8829 - dense_3_accuracy_4: 1.0000 - dense_3_accuracy_5: 0.9818 - dense_3_accuracy_6: 0.8428 - dense_3_accuracy_7: 1.0000 - dense_3_accuracy_8: 0.8393 - dense_3_accuracy_9: 0.8505\n",
      "Epoch 16/24\n",
      "10000/10000 [==============================] - 4s 400us/step - loss: 2.2079 - dense_3_loss: 0.4280 - dense_3_accuracy: 0.9824 - dense_3_accuracy_1: 0.9860 - dense_3_accuracy_2: 0.9125 - dense_3_accuracy_3: 0.9006 - dense_3_accuracy_4: 1.0000 - dense_3_accuracy_5: 0.9824 - dense_3_accuracy_6: 0.8580 - dense_3_accuracy_7: 1.0000 - dense_3_accuracy_8: 0.8431 - dense_3_accuracy_9: 0.8606\n",
      "Epoch 17/24\n",
      "10000/10000 [==============================] - 4s 398us/step - loss: 2.0648 - dense_3_loss: 0.4052 - dense_3_accuracy: 0.9832 - dense_3_accuracy_1: 0.9881 - dense_3_accuracy_2: 0.9197 - dense_3_accuracy_3: 0.9110 - dense_3_accuracy_4: 1.0000 - dense_3_accuracy_5: 0.9829 - dense_3_accuracy_6: 0.8716 - dense_3_accuracy_7: 1.0000 - dense_3_accuracy_8: 0.8476 - dense_3_accuracy_9: 0.8675\n",
      "Epoch 18/24\n",
      "10000/10000 [==============================] - 4s 400us/step - loss: 1.9439 - dense_3_loss: 0.3864 - dense_3_accuracy: 0.9842 - dense_3_accuracy_1: 0.9878 - dense_3_accuracy_2: 0.9262 - dense_3_accuracy_3: 0.9202 - dense_3_accuracy_4: 1.0000 - dense_3_accuracy_5: 0.9821 - dense_3_accuracy_6: 0.8833 - dense_3_accuracy_7: 1.0000 - dense_3_accuracy_8: 0.8553 - dense_3_accuracy_9: 0.8747\n",
      "Epoch 19/24\n",
      "10000/10000 [==============================] - 4s 397us/step - loss: 1.8342 - dense_3_loss: 0.3680 - dense_3_accuracy: 0.9855 - dense_3_accuracy_1: 0.9893 - dense_3_accuracy_2: 0.9327 - dense_3_accuracy_3: 0.9292 - dense_3_accuracy_4: 1.0000 - dense_3_accuracy_5: 0.9830 - dense_3_accuracy_6: 0.8893 - dense_3_accuracy_7: 1.0000 - dense_3_accuracy_8: 0.8574 - dense_3_accuracy_9: 0.8764\n",
      "Epoch 20/24\n",
      "10000/10000 [==============================] - 4s 417us/step - loss: 1.7337 - dense_3_loss: 0.3512 - dense_3_accuracy: 0.9855 - dense_3_accuracy_1: 0.9907 - dense_3_accuracy_2: 0.9387 - dense_3_accuracy_3: 0.9378 - dense_3_accuracy_4: 1.0000 - dense_3_accuracy_5: 0.9843 - dense_3_accuracy_6: 0.8971 - dense_3_accuracy_7: 1.0000 - dense_3_accuracy_8: 0.8583 - dense_3_accuracy_9: 0.8840\n",
      "Epoch 21/24\n"
     ]
    },
    {
     "name": "stdout",
     "output_type": "stream",
     "text": [
      "10000/10000 [==============================] - 4s 440us/step - loss: 1.6491 - dense_3_loss: 0.3373 - dense_3_accuracy: 0.9863 - dense_3_accuracy_1: 0.9904 - dense_3_accuracy_2: 0.9438 - dense_3_accuracy_3: 0.9435 - dense_3_accuracy_4: 1.0000 - dense_3_accuracy_5: 0.9838 - dense_3_accuracy_6: 0.9036 - dense_3_accuracy_7: 1.0000 - dense_3_accuracy_8: 0.8627 - dense_3_accuracy_9: 0.8913\n",
      "Epoch 22/24\n",
      "10000/10000 [==============================] - 4s 408us/step - loss: 1.5658 - dense_3_loss: 0.3229 - dense_3_accuracy: 0.9864 - dense_3_accuracy_1: 0.9913 - dense_3_accuracy_2: 0.9496 - dense_3_accuracy_3: 0.9510 - dense_3_accuracy_4: 1.0000 - dense_3_accuracy_5: 0.9852 - dense_3_accuracy_6: 0.9095 - dense_3_accuracy_7: 1.0000 - dense_3_accuracy_8: 0.8673 - dense_3_accuracy_9: 0.8952\n",
      "Epoch 23/24\n",
      "10000/10000 [==============================] - 4s 410us/step - loss: 1.4917 - dense_3_loss: 0.3113 - dense_3_accuracy: 0.9869 - dense_3_accuracy_1: 0.9921 - dense_3_accuracy_2: 0.9566 - dense_3_accuracy_3: 0.9555 - dense_3_accuracy_4: 1.0000 - dense_3_accuracy_5: 0.9857 - dense_3_accuracy_6: 0.9139 - dense_3_accuracy_7: 1.0000 - dense_3_accuracy_8: 0.8694 - dense_3_accuracy_9: 0.8988\n",
      "Epoch 24/24\n",
      "10000/10000 [==============================] - 4s 402us/step - loss: 1.4235 - dense_3_loss: 0.3004 - dense_3_accuracy: 0.9875 - dense_3_accuracy_1: 0.9929 - dense_3_accuracy_2: 0.9613 - dense_3_accuracy_3: 0.9608 - dense_3_accuracy_4: 1.0000 - dense_3_accuracy_5: 0.9858 - dense_3_accuracy_6: 0.9183 - dense_3_accuracy_7: 1.0000 - dense_3_accuracy_8: 0.8739 - dense_3_accuracy_9: 0.9026\n"
     ]
    }
   ],
   "source": [
    "hist = model.fit([Xoh, s0, c0], \n",
    "                 outputs, \n",
    "                 epochs=24, \n",
    "                 batch_size=100,\n",
    "                 verbose=1)"
   ]
  },
  {
   "cell_type": "code",
   "execution_count": 18,
   "metadata": {},
   "outputs": [
    {
     "data": {
      "text/plain": [
       "dict_keys(['loss', 'dense_3_loss', 'dense_3_accuracy', 'dense_3_accuracy_1', 'dense_3_accuracy_2', 'dense_3_accuracy_3', 'dense_3_accuracy_4', 'dense_3_accuracy_5', 'dense_3_accuracy_6', 'dense_3_accuracy_7', 'dense_3_accuracy_8', 'dense_3_accuracy_9'])"
      ]
     },
     "execution_count": 18,
     "metadata": {},
     "output_type": "execute_result"
    }
   ],
   "source": [
    "hist.history.keys()"
   ]
  },
  {
   "cell_type": "markdown",
   "metadata": {},
   "source": [
    "While training you can see the loss as well as the accuracy on each of the 10 positions of the output. The table below gives you an example of what the accuracies could be if the batch had 2 examples: \n",
    "\n",
    "<img src=\"images/table.png\" style=\"width:700;height:200px;\"> <br>\n",
    "<caption><center>Thus, `dense_2_acc_8: 0.89` means that you are predicting the 7th character of the output correctly 89% of the time in the current batch of data. </center></caption>\n",
    "\n",
    "\n",
    "We have run this model for longer, and saved the weights. Run the next cell to load our weights. (By training a model for several minutes, you should be able to obtain a model of similar accuracy, but loading our model will save you time.) "
   ]
  },
  {
   "cell_type": "markdown",
   "metadata": {},
   "source": [
    "You can now see the results on new examples."
   ]
  },
  {
   "cell_type": "code",
   "execution_count": 19,
   "metadata": {},
   "outputs": [],
   "source": [
    "# EXAMPLES = ['3 May 1979', '5 April 09', '21th of August 2016', 'Tue 10 Jul 2007', 'Saturday May 9 2018', 'March 3 2001', 'March 3rd 2001', '1 March 2001']\n",
    "\n",
    "# for example in EXAMPLES:    \n",
    "#     source = string_to_int(example, Tx, human_vocab)\n",
    "#     # 1 hot enconding:\n",
    "#     # Xoh = np.array(list(map(lambda x: to_categorical(x, num_classes=len(human_vocab)), X)))\n",
    "#     # \n",
    "#     source = np.array(list(map(lambda x: to_categorical(x, num_classes=len(human_vocab)), \n",
    "#                                source)))#.swapaxes(0, 1)\n",
    "#     print(source.shape)\n",
    "#     source = K.expand_dims(source, axis=0)\n",
    "#     print(source.shape)\n",
    "#     # break\n",
    "    \n",
    "#     prediction = model.predict([source, s0, c0], steps=1)\n",
    "#     prediction = np.argmax(prediction, axis=-1)\n",
    "#     output = [inv_machine_vocab[int(i)] for i in prediction]\n",
    "    \n",
    "#     print(\"source:\", example)\n",
    "#     print(\"output:\", ''.join(output),\"\\n\")"
   ]
  },
  {
   "cell_type": "code",
   "execution_count": 21,
   "metadata": {},
   "outputs": [
    {
     "name": "stdout",
     "output_type": "stream",
     "text": [
      "3 May 1979                     -> 1979-05-03\n",
      "5 April 09                     -> 2009-04-05\n",
      "21th of August 2016            -> 2016-08-21\n",
      "Tue 10 Jul 2007                -> 2007-07-10\n",
      "Saturday May 9 2018            -> 2018-05-09\n",
      "March 3 2001                   -> 2001-03-03\n",
      "March 3rd 2001                 -> 2001-03-03\n",
      "1 March 2001                   -> 2001-03-11\n"
     ]
    }
   ],
   "source": [
    "EXAMPLES = ['3 May 1979', '5 April 09', '21th of August 2016', \n",
    "            'Tue 10 Jul 2007', 'Saturday May 9 2018', 'March 3 2001', \n",
    "            'March 3rd 2001', '1 March 2001']\n",
    "    \n",
    "X_t = np.array([string_to_int(d, Tx, human_vocab) for d in EXAMPLES])\n",
    "Xoh_t = np.array(list(map(lambda x: to_categorical(x, num_classes=len(human_vocab)), X_t))) #.swapaxes(1, 2)\n",
    "\n",
    "predictions = model.predict([Xoh_t, s0, c0])\n",
    "predictions = np.argmax(predictions, axis=-1)\n",
    "predictions = predictions.transpose()\n",
    "\n",
    "for src, res in zip(EXAMPLES, predictions):\n",
    "    out = [inv_machine_vocab[int(ix)] for ix in res]\n",
    "    print(\"{:30s} -> {:10s}\".format(src, ''.join(out)))"
   ]
  },
  {
   "cell_type": "markdown",
   "metadata": {},
   "source": [
    "You can also change these examples to test with your own examples. The next part will give you a better sense of what the attention mechanism is doing--i.e., what part of the input the network is paying attention to when generating a particular output character. "
   ]
  },
  {
   "cell_type": "markdown",
   "metadata": {},
   "source": [
    "## 3. Visualizing Attention (Optional / Ungraded)\n",
    "\n",
    "Since the problem has a fixed output length of 10, it is also possible to carry out this task using 10 different softmax units to generate the 10 characters of the output. But one advantage of the attention model is that each part of the output (such as the month) knows it needs to depend only on a small part of the input (the characters in the input giving the month). We can  visualize what each part of the output is looking at which part of the input.\n",
    "\n",
    "Consider the task of translating \"Saturday 9 May 2018\" to \"2018-05-09\". If we visualize the computed $\\alpha^{\\langle t, t' \\rangle}$ we get this: \n",
    "\n",
    "<img src=\"images/date_attention.png\" style=\"width:600;height:300px;\"> <br>\n",
    "<caption><center> **Figure 8**: Full Attention Map</center></caption>\n",
    "\n",
    "Notice how the output ignores the \"Saturday\" portion of the input. None of the output timesteps are paying much attention to that portion of the input. We also see that 9 has been translated as 09 and May has been correctly translated into 05, with the output paying attention to the parts of the input it needs to to make the translation. The year mostly requires it to pay attention to the input's \"18\" in order to generate \"2018.\" "
   ]
  },
  {
   "cell_type": "markdown",
   "metadata": {},
   "source": [
    "### 3.1. Getting the attention weights from the network\n",
    "\n",
    "Lets now visualize the attention values in your network. We'll propagate an example through the network, then visualize the values of $\\alpha^{\\langle t, t' \\rangle}$. \n",
    "\n",
    "To figure out where the attention values are located, let's start by printing a summary of the model ."
   ]
  },
  {
   "cell_type": "code",
   "execution_count": 22,
   "metadata": {},
   "outputs": [],
   "source": [
    "model.load_weights('models/model.h5')"
   ]
  },
  {
   "cell_type": "code",
   "execution_count": 23,
   "metadata": {},
   "outputs": [
    {
     "name": "stdout",
     "output_type": "stream",
     "text": [
      "Model: \"model_1\"\n",
      "__________________________________________________________________________________________________\n",
      "Layer (type)                    Output Shape         Param #     Connected to                     \n",
      "==================================================================================================\n",
      "input_1 (InputLayer)            (None, 30, 37)       0                                            \n",
      "__________________________________________________________________________________________________\n",
      "s0 (InputLayer)                 (None, 64)           0                                            \n",
      "__________________________________________________________________________________________________\n",
      "bidirectional_1 (Bidirectional) (None, 30, 64)       17920       input_1[0][0]                    \n",
      "__________________________________________________________________________________________________\n",
      "repeat_vector_1 (RepeatVector)  (None, 30, 64)       0           s0[0][0]                         \n",
      "                                                                 lstm_1[0][0]                     \n",
      "                                                                 lstm_1[1][0]                     \n",
      "                                                                 lstm_1[2][0]                     \n",
      "                                                                 lstm_1[3][0]                     \n",
      "                                                                 lstm_1[4][0]                     \n",
      "                                                                 lstm_1[5][0]                     \n",
      "                                                                 lstm_1[6][0]                     \n",
      "                                                                 lstm_1[7][0]                     \n",
      "                                                                 lstm_1[8][0]                     \n",
      "__________________________________________________________________________________________________\n",
      "concatenate_1 (Concatenate)     (None, 30, 128)      0           bidirectional_1[0][0]            \n",
      "                                                                 repeat_vector_1[0][0]            \n",
      "                                                                 bidirectional_1[0][0]            \n",
      "                                                                 repeat_vector_1[1][0]            \n",
      "                                                                 bidirectional_1[0][0]            \n",
      "                                                                 repeat_vector_1[2][0]            \n",
      "                                                                 bidirectional_1[0][0]            \n",
      "                                                                 repeat_vector_1[3][0]            \n",
      "                                                                 bidirectional_1[0][0]            \n",
      "                                                                 repeat_vector_1[4][0]            \n",
      "                                                                 bidirectional_1[0][0]            \n",
      "                                                                 repeat_vector_1[5][0]            \n",
      "                                                                 bidirectional_1[0][0]            \n",
      "                                                                 repeat_vector_1[6][0]            \n",
      "                                                                 bidirectional_1[0][0]            \n",
      "                                                                 repeat_vector_1[7][0]            \n",
      "                                                                 bidirectional_1[0][0]            \n",
      "                                                                 repeat_vector_1[8][0]            \n",
      "                                                                 bidirectional_1[0][0]            \n",
      "                                                                 repeat_vector_1[9][0]            \n",
      "__________________________________________________________________________________________________\n",
      "dense_1 (Dense)                 (None, 30, 10)       1290        concatenate_1[0][0]              \n",
      "                                                                 concatenate_1[1][0]              \n",
      "                                                                 concatenate_1[2][0]              \n",
      "                                                                 concatenate_1[3][0]              \n",
      "                                                                 concatenate_1[4][0]              \n",
      "                                                                 concatenate_1[5][0]              \n",
      "                                                                 concatenate_1[6][0]              \n",
      "                                                                 concatenate_1[7][0]              \n",
      "                                                                 concatenate_1[8][0]              \n",
      "                                                                 concatenate_1[9][0]              \n",
      "__________________________________________________________________________________________________\n",
      "dense_2 (Dense)                 (None, 30, 1)        11          dense_1[0][0]                    \n",
      "                                                                 dense_1[1][0]                    \n",
      "                                                                 dense_1[2][0]                    \n",
      "                                                                 dense_1[3][0]                    \n",
      "                                                                 dense_1[4][0]                    \n",
      "                                                                 dense_1[5][0]                    \n",
      "                                                                 dense_1[6][0]                    \n",
      "                                                                 dense_1[7][0]                    \n",
      "                                                                 dense_1[8][0]                    \n",
      "                                                                 dense_1[9][0]                    \n",
      "__________________________________________________________________________________________________\n",
      "attention_weights (Activation)  (None, 30, 1)        0           dense_2[0][0]                    \n",
      "                                                                 dense_2[1][0]                    \n",
      "                                                                 dense_2[2][0]                    \n",
      "                                                                 dense_2[3][0]                    \n",
      "                                                                 dense_2[4][0]                    \n",
      "                                                                 dense_2[5][0]                    \n",
      "                                                                 dense_2[6][0]                    \n",
      "                                                                 dense_2[7][0]                    \n",
      "                                                                 dense_2[8][0]                    \n",
      "                                                                 dense_2[9][0]                    \n",
      "__________________________________________________________________________________________________\n",
      "dot_1 (Dot)                     (None, 1, 64)        0           attention_weights[0][0]          \n",
      "                                                                 bidirectional_1[0][0]            \n",
      "                                                                 attention_weights[1][0]          \n",
      "                                                                 bidirectional_1[0][0]            \n",
      "                                                                 attention_weights[2][0]          \n",
      "                                                                 bidirectional_1[0][0]            \n",
      "                                                                 attention_weights[3][0]          \n",
      "                                                                 bidirectional_1[0][0]            \n",
      "                                                                 attention_weights[4][0]          \n",
      "                                                                 bidirectional_1[0][0]            \n",
      "                                                                 attention_weights[5][0]          \n",
      "                                                                 bidirectional_1[0][0]            \n",
      "                                                                 attention_weights[6][0]          \n",
      "                                                                 bidirectional_1[0][0]            \n",
      "                                                                 attention_weights[7][0]          \n",
      "                                                                 bidirectional_1[0][0]            \n",
      "                                                                 attention_weights[8][0]          \n",
      "                                                                 bidirectional_1[0][0]            \n",
      "                                                                 attention_weights[9][0]          \n",
      "                                                                 bidirectional_1[0][0]            \n",
      "__________________________________________________________________________________________________\n",
      "c0 (InputLayer)                 (None, 64)           0                                            \n",
      "__________________________________________________________________________________________________\n",
      "lstm_1 (LSTM)                   [(None, 64), (None,  33024       dot_1[0][0]                      \n",
      "                                                                 s0[0][0]                         \n",
      "                                                                 c0[0][0]                         \n",
      "                                                                 dot_1[1][0]                      \n",
      "                                                                 lstm_1[0][0]                     \n",
      "                                                                 lstm_1[0][2]                     \n",
      "                                                                 dot_1[2][0]                      \n",
      "                                                                 lstm_1[1][0]                     \n",
      "                                                                 lstm_1[1][2]                     \n",
      "                                                                 dot_1[3][0]                      \n",
      "                                                                 lstm_1[2][0]                     \n",
      "                                                                 lstm_1[2][2]                     \n",
      "                                                                 dot_1[4][0]                      \n",
      "                                                                 lstm_1[3][0]                     \n",
      "                                                                 lstm_1[3][2]                     \n",
      "                                                                 dot_1[5][0]                      \n",
      "                                                                 lstm_1[4][0]                     \n",
      "                                                                 lstm_1[4][2]                     \n",
      "                                                                 dot_1[6][0]                      \n",
      "                                                                 lstm_1[5][0]                     \n",
      "                                                                 lstm_1[5][2]                     \n",
      "                                                                 dot_1[7][0]                      \n",
      "                                                                 lstm_1[6][0]                     \n",
      "                                                                 lstm_1[6][2]                     \n",
      "                                                                 dot_1[8][0]                      \n",
      "                                                                 lstm_1[7][0]                     \n",
      "                                                                 lstm_1[7][2]                     \n",
      "                                                                 dot_1[9][0]                      \n",
      "                                                                 lstm_1[8][0]                     \n",
      "                                                                 lstm_1[8][2]                     \n",
      "__________________________________________________________________________________________________\n",
      "dense_3 (Dense)                 (None, 11)           715         lstm_1[0][0]                     \n",
      "                                                                 lstm_1[1][0]                     \n",
      "                                                                 lstm_1[2][0]                     \n",
      "                                                                 lstm_1[3][0]                     \n",
      "                                                                 lstm_1[4][0]                     \n",
      "                                                                 lstm_1[5][0]                     \n",
      "                                                                 lstm_1[6][0]                     \n",
      "                                                                 lstm_1[7][0]                     \n",
      "                                                                 lstm_1[8][0]                     \n",
      "                                                                 lstm_1[9][0]                     \n",
      "==================================================================================================\n",
      "Total params: 52,960\n",
      "Trainable params: 52,960\n",
      "Non-trainable params: 0\n",
      "__________________________________________________________________________________________________\n"
     ]
    }
   ],
   "source": [
    "model.summary()"
   ]
  },
  {
   "cell_type": "code",
   "execution_count": 29,
   "metadata": {},
   "outputs": [],
   "source": [
    "def plot_attention_map(model, input_vocabulary, inv_output_vocabulary, text, n_s=128, num=6, Tx=30, Ty=10):\n",
    "    \"\"\"\n",
    "    Plot the attention map.\n",
    "  \n",
    "    \"\"\"\n",
    "    attention_map = np.zeros((10, 30))\n",
    "    Ty, Tx = attention_map.shape\n",
    "    \n",
    "    s0 = np.zeros((1, n_s))\n",
    "    c0 = np.zeros((1, n_s))\n",
    "    layer = model.layers[num]\n",
    "\n",
    "    encoded = np.array(string_to_int(text, Tx, input_vocabulary)).reshape((1, 30))\n",
    "    encoded = np.array(list(map(lambda x: to_categorical(x, num_classes=len(input_vocabulary)), encoded)))\n",
    "\n",
    "    f = K.function(model.inputs, [layer.get_output_at(t) for t in range(Ty)])\n",
    "    r = f([encoded, s0, c0])\n",
    "    \n",
    "    for t in range(Ty):\n",
    "        for t_prime in range(Tx):\n",
    "            attention_map[t][t_prime] = r[t][0, t_prime,0]\n",
    "\n",
    "    # prediction = model.predict([encoded, s0, c0])\n",
    "    prediction = model.predict([encoded, s0, c0])\n",
    "    \n",
    "    predicted_text = []\n",
    "    for i in range(len(prediction)):\n",
    "        predicted_text.append(int(np.argmax(prediction[i], axis=1)))\n",
    "        \n",
    "    predicted_text = list(predicted_text)\n",
    "    predicted_text = int_to_string(predicted_text, inv_output_vocabulary)\n",
    "    text_ = list(text)\n",
    "    \n",
    "    # get the lengths of the string\n",
    "    input_length = len(text)\n",
    "    output_length = Ty\n",
    "    \n",
    "    # Plot the attention_map\n",
    "    plt.clf()\n",
    "    f = plt.figure(figsize=(8, 8.5))\n",
    "    ax = f.add_subplot(1, 1, 1)\n",
    "\n",
    "    # add image\n",
    "    i = ax.imshow(attention_map, interpolation='nearest', cmap='Blues')\n",
    "\n",
    "    # add colorbar\n",
    "    cbaxes = f.add_axes([0.2, 0, 0.6, 0.03])\n",
    "    cbar = f.colorbar(i, cax=cbaxes, orientation='horizontal')\n",
    "    cbar.ax.set_xlabel('Alpha value (Probability output of the \"softmax\")', labelpad=2)\n",
    "\n",
    "    # add labels\n",
    "    ax.set_yticks(range(output_length))\n",
    "    ax.set_yticklabels(predicted_text[:output_length])\n",
    "\n",
    "    ax.set_xticks(range(input_length))\n",
    "    ax.set_xticklabels(text_[:input_length], rotation=45)\n",
    "\n",
    "    ax.set_xlabel('Input Sequence')\n",
    "    ax.set_ylabel('Output Sequence')\n",
    "\n",
    "    # add grid and legend\n",
    "    ax.grid()\n",
    "    \n",
    "    return attention_map"
   ]
  },
  {
   "cell_type": "markdown",
   "metadata": {},
   "source": [
    "Navigate through the output of `model.summary()` above. You can see that the layer named `attention_weights` outputs the `alphas` of shape (m, 30, 1) before `dot_2` computes the context vector for every time step $t = 0, \\ldots, T_y-1$. Let's get the attention weights from this layer.\n",
    "\n",
    "The function `attention_map()` pulls out the attention values from your model and plots them."
   ]
  },
  {
   "cell_type": "code",
   "execution_count": 30,
   "metadata": {
    "scrolled": false
   },
   "outputs": [
    {
     "data": {
      "text/plain": [
       "<Figure size 432x288 with 0 Axes>"
      ]
     },
     "metadata": {},
     "output_type": "display_data"
    },
    {
     "data": {
      "image/png": "[encoded data removed]",
      "text/plain": [
       "<Figure size 576x612 with 2 Axes>"
      ]
     },
     "metadata": {
      "needs_background": "light"
     },
     "output_type": "display_data"
    }
   ],
   "source": [
    "attention_map = plot_attention_map(model,\n",
    "                                   human_vocab, \n",
    "                                   inv_machine_vocab, \n",
    "                                   \"Tuesday 09 Oct 1993\", num=7, n_s=64)"
   ]
  },
  {
   "cell_type": "markdown",
   "metadata": {},
   "source": [
    "On the generated plot you can observe the values of the attention weights for each character of the predicted output. Examine this plot and check that the places where the network is paying attention makes sense to you.\n",
    "\n",
    "In the date translation application, you will observe that most of the time attention helps predict the year, and doesn't have much impact on predicting the day or month."
   ]
  },
  {
   "cell_type": "markdown",
   "metadata": {},
   "source": [
    "### Congratulations!\n",
    "\n",
    "\n",
    "You have come to the end of this assignment \n",
    "\n",
    "## Here's what you should remember\n",
    "\n",
    "- Machine translation models can be used to map from one sequence to another. They are useful not just for translating human languages (like French->English) but also for tasks like date format translation. \n",
    "- An attention mechanism allows a network to focus on the most relevant parts of the input when producing a specific part of the output. \n",
    "- A network using an attention mechanism can translate from inputs of length $T_x$ to outputs of length $T_y$, where $T_x$ and $T_y$ can be different. \n",
    "- You can visualize attention weights $\\alpha^{\\langle t,t' \\rangle}$ to see what the network is paying attention to while generating each output."
   ]
  },
  {
   "cell_type": "markdown",
   "metadata": {},
   "source": [
    "Congratulations on finishing this assignment! You are now able to implement an attention model and use it to learn complex mappings from one sequence to another. "
   ]
  }
 ],
 "metadata": {
  "coursera": {
   "course_slug": "nlp-sequence-models",
   "graded_item_id": "n16CQ",
   "launcher_item_id": "npjGi"
  },
  "kernelspec": {
   "display_name": "Python 3",
   "language": "python",
   "name": "python3"
  },
  "language_info": {
   "codemirror_mode": {
    "name": "ipython",
    "version": 3
   },
   "file_extension": ".py",
   "mimetype": "text/x-python",
   "name": "python",
   "nbconvert_exporter": "python",
   "pygments_lexer": "ipython3",
   "version": "3.7.4"
  }
 },
 "nbformat": 4,
 "nbformat_minor": 2
}
