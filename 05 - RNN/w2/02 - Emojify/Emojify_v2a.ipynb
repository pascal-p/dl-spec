{
 "cells": [
  {
   "cell_type": "markdown",
   "metadata": {},
   "source": [
    "# Emojify! \n",
    "\n",
    "Welcome to the second assignment of Week 2. You are going to use word vector representations to build an Emojifier. \n",
    "\n",
    "Have you ever wanted to make your text messages more expressive? Your emojifier app will help you do that. \n",
    "So rather than writing:\n",
    ">\"Congratulations on the promotion! Let's get coffee and talk. Love you!\"   \n",
    "\n",
    "The emojifier can automatically turn this into:\n",
    ">\"Congratulations on the promotion! 👍 Let's get coffee and talk. ☕️ Love you! ❤️\"\n",
    "\n",
    "* You will implement a model which inputs a sentence (such as \"Let's go see the baseball game tonight!\") and finds the most appropriate emoji to be used with this sentence (⚾️).\n",
    "\n",
    "#### Using word vectors to improve emoji lookups\n",
    "- In many emoji interfaces, you need to remember that ❤️ is the \"heart\" symbol rather than the \"love\" symbol. \n",
    "  - In other words, you will have to remember to type \"heart\" to find the desired emoji, and typing \"love\" won't bring up that symbol.\n",
    "- We can make a more flexible emoji interface by using word vectors!\n",
    "- When using word vectors, you will see that even if your training set explicitly relates only a few words to a particular emoji, your algorithm will be able to generalize and associate additional words in the test set to the same emoji.\n",
    "  - This works even if those additional words do not even appear in the training set. \n",
    "  - This allows you to build an accurate classifier mapping from sentences to emojis, even using a small training set. \n",
    "\n",
    "#### What you'll build\n",
    "1. In this exercise, you will start with a baseline model (Emojifier-V1) using word embeddings.\n",
    "2. Then you will build a more sophisticated model (Emojifier-V2) that further incorporates an LSTM. "
   ]
  },
  {
   "cell_type": "markdown",
   "metadata": {},
   "source": [
    "Let's get started! Run the following cell to load the package you are going to use. "
   ]
  },
  {
   "cell_type": "code",
   "execution_count": 1,
   "metadata": {},
   "outputs": [],
   "source": [
    "# !pip install emoji"
   ]
  },
  {
   "cell_type": "code",
   "execution_count": 2,
   "metadata": {},
   "outputs": [],
   "source": [
    "import numpy as np\n",
    "from emo_utils import *\n",
    "import emoji\n",
    "import matplotlib.pyplot as plt\n",
    "\n",
    "%matplotlib inline"
   ]
  },
  {
   "cell_type": "markdown",
   "metadata": {},
   "source": [
    "## 1. Baseline model: Emojifier-V1\n",
    "\n",
    "### 1.1. Dataset EMOJISET\n",
    "\n",
    "Let's start by building a simple baseline classifier. \n",
    "\n",
    "You have a tiny dataset (X, Y) where:\n",
    "- X contains 127 sentences (strings).\n",
    "- Y contains an integer label between 0 and 4 corresponding to an emoji for each sentence.\n",
    "\n",
    "<img src=\"images/data_set.png\" style=\"width:700px;height:300px;\">\n",
    "<caption><center><b>Figure 1</b>: EMOJISET - a classification problem with 5 classes. A few examples of sentences are given here. </center></caption>\n",
    "\n",
    "Let's load the dataset using the code below. We split the dataset between training (127 examples) and testing (56 examples)."
   ]
  },
  {
   "cell_type": "code",
   "execution_count": 3,
   "metadata": {},
   "outputs": [],
   "source": [
    "X_train, Y_train = read_csv('data/train_emoji.csv')\n",
    "X_test, Y_test = read_csv('data/tesss.csv')"
   ]
  },
  {
   "cell_type": "code",
   "execution_count": 4,
   "metadata": {},
   "outputs": [
    {
     "data": {
      "text/plain": [
       "10"
      ]
     },
     "execution_count": 4,
     "metadata": {},
     "output_type": "execute_result"
    }
   ],
   "source": [
    "max_len = len(max(X_train, key=len).split())\n",
    "max_len"
   ]
  },
  {
   "cell_type": "markdown",
   "metadata": {},
   "source": [
    "Run the following cell to print sentences from X_train and corresponding labels from Y_train. \n",
    "* Change `idx` to see different examples. \n",
    "* Note that due to the font used by iPython notebook, the heart emoji may be colored black rather than red."
   ]
  },
  {
   "cell_type": "code",
   "execution_count": 5,
   "metadata": {},
   "outputs": [
    {
     "name": "stdout",
     "output_type": "stream",
     "text": [
      " 7 /  congratulations on your acceptance 😄\n",
      " 8 /  The assignment is too long  😞\n",
      " 9 /  I want to go play ⚾\n",
      "10 /  she did not answer my text  😞\n",
      "11 /  Your stupidity has no limit 😞\n",
      "12 /  how many points did he score ⚾\n",
      "13 /  my algorithm performs poorly 😞\n",
      "14 /  I got approved 😄\n",
      "15 /  Stop shouting at me 😞\n",
      "16 /  Sounds like a fun plan ha ha 😄\n",
      "17 /  no one likes him 😞\n",
      "18 /  the game just finished ⚾\n",
      "19 /  I will celebrate soon 😄\n",
      "20 /  So sad you are not coming 😞\n",
      "21 /  She is my dearest love ❤️\n",
      "22 /  Good job 😄\n",
      "23 /  It was funny lol 😄\n",
      "24 /  candy is life  😄\n",
      "25 /  The chicago cubs won again ⚾\n",
      "26 /  I am hungry 🍴\n"
     ]
    }
   ],
   "source": [
    "for ix in range(7, 27):\n",
    "    print(\"{:2d} / \".format(ix), X_train[ix], label_to_emoji(Y_train[ix]))"
   ]
  },
  {
   "cell_type": "markdown",
   "metadata": {},
   "source": [
    "### 1.2. Overview of the Emojifier-V1\n",
    "\n",
    "In this part, you are going to implement a baseline model called \"Emojifier-v1\".  \n",
    "\n",
    "<center>\n",
    "<img src=\"images/image_1.png\" style=\"width:900px;height:300px;\">\n",
    "    <caption><center><b>Figure 2</b>: Baseline model (Emojifier-V1).</center></caption>\n",
    "</center>\n",
    "\n",
    "\n",
    "#### Inputs and outputs\n",
    "- The input of the model is a string corresponding to a sentence (e.g. \"I love you\"). \n",
    "- The output will be a probability vector of shape (1, 5), (there are 5 emojis to choose from).\n",
    "- The (1, 5) probability vector is passed to an argmax layer, which extracts the index of the emoji with the highest probability."
   ]
  },
  {
   "cell_type": "markdown",
   "metadata": {},
   "source": [
    "#### One-hot encoding\n",
    "- To get our labels into a format suitable for training a softmax classifier, let's convert $Y$ from its current shape  $(m, 1)$ into a \"one-hot representation\" $(m, 5)$, \n",
    "  - Each row is a one-hot vector giving the label of one example.\n",
    "  - Here, `Y_oh` stands for \"Y-one-hot\" in the variable names `Y_oh_train` and `Y_oh_test`: "
   ]
  },
  {
   "cell_type": "code",
   "execution_count": 6,
   "metadata": {},
   "outputs": [],
   "source": [
    "Y_oh_train = convert_to_one_hot(Y_train, C=5)\n",
    "Y_oh_test  = convert_to_one_hot(Y_test, C=5)"
   ]
  },
  {
   "cell_type": "markdown",
   "metadata": {},
   "source": [
    "Let's see what `convert_to_one_hot()` did. Feel free to change `index` to print out different values. "
   ]
  },
  {
   "cell_type": "code",
   "execution_count": 7,
   "metadata": {},
   "outputs": [
    {
     "name": "stdout",
     "output_type": "stream",
     "text": [
      "- Sentence: 'She is my dearest love' has label index: 0, which is emoji: ❤️\n",
      "  Label index: 0 in one-hot encoding format is: [1. 0. 0. 0. 0.]\n",
      "\n",
      "- Sentence: 'I adore my dogs' has label index: 0, which is emoji: ❤️\n",
      "  Label index: 0 in one-hot encoding format is: [1. 0. 0. 0. 0.]\n",
      "\n",
      "- Sentence: 'you are awful' has label index: 3, which is emoji: 😞\n",
      "  Label index: 3 in one-hot encoding format is: [0. 0. 0. 1. 0.]\n",
      "\n",
      "- Sentence: 'I want chinese food' has label index: 4, which is emoji: 🍴\n",
      "  Label index: 4 in one-hot encoding format is: [0. 0. 0. 0. 1.]\n",
      "\n",
      "- Sentence: 'she plays baseball' has label index: 1, which is emoji: ⚾\n",
      "  Label index: 1 in one-hot encoding format is: [0. 1. 0. 0. 0.]\n",
      "\n"
     ]
    }
   ],
   "source": [
    "for ix in (21, 42, 53, 66, 70):\n",
    "    print(f\"- Sentence: '{X_train[ix]}' has label index: {Y_train[ix]}, which is emoji: {label_to_emoji(Y_train[ix])}\")\n",
    "    print(f\"  Label index: {Y_train[ix]} in one-hot encoding format is: {Y_oh_train[ix]}\")\n",
    "    print()"
   ]
  },
  {
   "cell_type": "markdown",
   "metadata": {},
   "source": [
    "All the data is now ready to be fed into the Emojify-V1 model. Let's implement the model!"
   ]
  },
  {
   "cell_type": "markdown",
   "metadata": {},
   "source": [
    "### 1.3. Implementing Emojifier-V1\n",
    "\n",
    "As shown in Figure 2 (above), the first step is to:\n",
    "- Convert each word in the input sentence into their word vector representations.\n",
    "- Then take an average of the word vectors. \n",
    "- Similar to the previous exercise, we will use pre-trained 50-dimensional GloVe embeddings. \n",
    "\n",
    "Run the following cell to load the `word_to_vec_map`, which contains all the vector representations."
   ]
  },
  {
   "cell_type": "code",
   "execution_count": 8,
   "metadata": {},
   "outputs": [
    {
     "data": {
      "text/plain": [
       "400000"
      ]
     },
     "execution_count": 8,
     "metadata": {},
     "output_type": "execute_result"
    }
   ],
   "source": [
    "word_to_index, index_to_word, word_to_vec_map = read_glove_vecs('../../readonly/glove.6B.50d.txt')\n",
    "len(word_to_index)"
   ]
  },
  {
   "cell_type": "markdown",
   "metadata": {},
   "source": [
    "You have loaded:\n",
    "- `word_to_index`: dictionary mapping from words to their indices in the vocabulary \n",
    "    - (400,000 words, with the valid indices ranging from 1 to 400,000)\n",
    "- `index_to_word`: dictionary mapping from indices to their corresponding words in the vocabulary\n",
    "- `word_to_vec_map`: dictionary mapping words to their GloVe vector representation.\n",
    "\n",
    "Run the following cell to check if it works."
   ]
  },
  {
   "cell_type": "code",
   "execution_count": 9,
   "metadata": {},
   "outputs": [
    {
     "name": "stdout",
     "output_type": "stream",
     "text": [
      "the index of:  cucumber  in the vocabulary is:  113317\n",
      "the      1-th word in the vocabulary is: !\n",
      "the  40000-th word in the vocabulary is: 85.95\n"
     ]
    }
   ],
   "source": [
    "word = \"cucumber\"\n",
    "jx, ix   = 1, 40000\n",
    "\n",
    "print(\"the index of: \", word, \" in the vocabulary is: \", word_to_index[word])\n",
    "print(\"the {:6d}-th word in the vocabulary is: {:s}\".format(jx, index_to_word[jx]))\n",
    "print(\"the {:6d}-th word in the vocabulary is: {:s}\".format(ix, index_to_word[ix]))"
   ]
  },
  {
   "cell_type": "markdown",
   "metadata": {},
   "source": [
    "**Exercise**:  \n",
    "Implement `sentence_to_avg()`. You will need to carry out two steps:\n",
    "1. Convert every sentence to lower-case, then split the sentence into a list of words. \n",
    "  - `X.lower()` and `X.split()` might be useful. \n",
    "2. For each word in the sentence, access its GloVe representation.\n",
    "  - Then take the average of all of these word vectors.\n",
    "  - You might use `numpy.zeros()`.\n",
    "    \n",
    "    \n",
    "#### Additional Hints\n",
    "When creating the `avg` array of zeros, you will want it to be a vector of the same shape as the other word vectors in the `word_to_vec_map`.  \n",
    "  - You can choose a word that exists in the `word_to_vec_map` and access its `.shape` field.\n",
    "  - Be careful not to hard code the word that you access. In other words, don't assume that if you see the word 'the' in the `word_to_vec_map` within this notebook, that this word will be in the `word_to_vec_map` when the function is being called by the automatic grader.\n",
    "\n",
    "Hint: you can use any one of the word vectors that you retrieved from the input `sentence` to find the shape of a word vector."
   ]
  },
  {
   "cell_type": "code",
   "execution_count": 10,
   "metadata": {},
   "outputs": [],
   "source": [
    "import re\n",
    "\n",
    "def sentence_to_words(sentence):\n",
    "    words = [w.lower() for w in re.split('\\s+', sentence.strip())] # can generate: ''\n",
    "    assert len(words) > 0\n",
    "    return words\n",
    "  \n",
    "def calc_avg(words): \n",
    "    total, f = 0, 0\n",
    "    for w in words:\n",
    "        if w == '':\n",
    "          f += 1\n",
    "          continue\n",
    "        total += word_to_vec_map[w]\n",
    "    \n",
    "    den = len(words) - f\n",
    "    assert  den > 0\n",
    "    avg = total / den\n",
    "    return avg"
   ]
  },
  {
   "cell_type": "code",
   "execution_count": 11,
   "metadata": {},
   "outputs": [],
   "source": [
    "# GRADED FUNCTION: sentence_to_avg\n",
    "\n",
    "def sentence_to_avg(sentence, word_to_vec_map):\n",
    "    \"\"\"\n",
    "    Converts a sentence (string) into a list of words (strings). \n",
    "    Extracts the GloVe representation of each word and averages its value into a single \n",
    "    vector encoding the meaning of the sentence.\n",
    "    \n",
    "    Arguments:\n",
    "    sentence -- string, one training example from X\n",
    "    word_to_vec_map -- dictionary mapping every word in a vocabulary into its 50-dimensional vector representation\n",
    "    \n",
    "    Returns:\n",
    "    avg -- average vector encoding information about the sentence, numpy-array of shape (50,)\n",
    "    \"\"\"\n",
    "    \n",
    "    ### CODE HERE:\n",
    "    words = sentence_to_words(sentence) # Step 1: Split sentence into list of lower case words\n",
    "    \n",
    "    # Initialize the average word vector, should have the same shape as your word vectors.\n",
    "    w = list(word_to_vec_map.keys())[1] # take first word\n",
    "    # avg = np.zeros(word_to_vec_map[w].shape)\n",
    "    \n",
    "    # Step 2: average the word vectors, looping over the words in the list \"words\".\n",
    "    avg = calc_avg(words)\n",
    "    \n",
    "    return avg"
   ]
  },
  {
   "cell_type": "code",
   "execution_count": 12,
   "metadata": {
    "scrolled": true
   },
   "outputs": [
    {
     "name": "stdout",
     "output_type": "stream",
     "text": [
      "avg = \n",
      " [-0.008005    0.56370833 -0.50427333  0.258865    0.55131103  0.03104983\n",
      " -0.21013718  0.16893933 -0.09590267  0.141784   -0.15708967  0.18525867\n",
      "  0.6495785   0.38371117  0.21102167  0.11301667  0.02613967  0.26037767\n",
      "  0.05820667 -0.01578167 -0.12078833 -0.02471267  0.4128455   0.5152061\n",
      "  0.38756167 -0.898661   -0.535145    0.33501167  0.68806933 -0.2156265\n",
      "  1.797155    0.10476933 -0.36775333  0.750785    0.10282583  0.348925\n",
      " -0.27262833  0.66768    -0.10706167 -0.283635    0.59580117  0.28747333\n",
      " -0.3366635   0.23393817  0.34349183  0.178405    0.1166155  -0.076433\n",
      "  0.1445417   0.09808667]\n"
     ]
    }
   ],
   "source": [
    "avg = sentence_to_avg(\"Morrocan couscous is my favorite dish\", word_to_vec_map)\n",
    "print(\"avg = \\n\", avg)"
   ]
  },
  {
   "cell_type": "markdown",
   "metadata": {},
   "source": [
    "**Expected Output**:\n",
    "\n",
    "```Python\n",
    "avg =\n",
    "[-0.008005    0.56370833 -0.50427333  0.258865    0.55131103  0.03104983\n",
    " -0.21013718  0.16893933 -0.09590267  0.141784   -0.15708967  0.18525867\n",
    "  0.6495785   0.38371117  0.21102167  0.11301667  0.02613967  0.26037767\n",
    "  0.05820667 -0.01578167 -0.12078833 -0.02471267  0.4128455   0.5152061\n",
    "  0.38756167 -0.898661   -0.535145    0.33501167  0.68806933 -0.2156265\n",
    "  1.797155    0.10476933 -0.36775333  0.750785    0.10282583  0.348925\n",
    " -0.27262833  0.66768    -0.10706167 -0.283635    0.59580117  0.28747333\n",
    " -0.3366635   0.23393817  0.34349183  0.178405    0.1166155  -0.076433\n",
    "  0.1445417   0.09808667]\n",
    "```"
   ]
  },
  {
   "cell_type": "code",
   "execution_count": 13,
   "metadata": {},
   "outputs": [],
   "source": [
    "# overwrite predict from emo_utils.py\n",
    "\n",
    "def predict(X, Y, W, b, word_to_vec_map):\n",
    "    \"\"\"\n",
    "    Given X (sentences) and Y (emoji indices), predict emojis and compute the accuracy of your model over the given set.\n",
    "    \n",
    "    Arguments:\n",
    "    X -- input data containing sentences, numpy array of shape (m, None)\n",
    "    Y -- labels, containing index of the label emoji, numpy array of shape (m, 1)\n",
    "    \n",
    "    Returns:\n",
    "    pred -- numpy array of shape (m, 1) with your predictions\n",
    "    acc  -- scalar accuracy\n",
    "    \"\"\"\n",
    "    m = X.shape[0]\n",
    "    pred = np.zeros((m, 1))\n",
    "    \n",
    "    for jx in range(m):                       # Loop over training examples\n",
    "        # Split jth test example (sentence) into list of lower case words\n",
    "        words = sentence_to_words(X[jx])\n",
    "        \n",
    "        # Average words' vectors\n",
    "        avg = calc_avg(words)\n",
    "\n",
    "        # Forward propagation\n",
    "        z = np.dot(W, avg) + b\n",
    "        a = softmax(z)\n",
    "        pred[jx] = np.argmax(a)\n",
    "    \n",
    "    acc = np.mean((pred[:] == Y.reshape(Y.shape[0], 1)[:]))\n",
    "    return (pred, acc)"
   ]
  },
  {
   "cell_type": "markdown",
   "metadata": {},
   "source": [
    "#### Model\n",
    "\n",
    "You now have all the pieces to finish implementing the `model()` function. After using `sentence_to_avg()` you need to:\n",
    "- Pass the average through forward propagation\n",
    "- Compute the cost\n",
    "- Backpropagate to update the softmax parameters\n",
    "\n",
    "**Exercise**:  \n",
    "Implement the `model()` function described in Figure (2). \n",
    "\n",
    "- The equations you need to implement in the forward pass and to compute the cross-entropy cost are below:\n",
    "- The variable $Y_{oh}$ (\"Y one hot\") is the one-hot encoding of the output labels. \n",
    "\n",
    "$$z^{(i)} = W . avg^{(i)} + b \\tag{1}$$\n",
    "\n",
    "$$a^{(i)} = softmax(z^{(i)}) \\tag{2}$$\n",
    "\n",
    "$$\\mathcal{L}^{(i)} = - \\sum_{k = 0}^{n_y - 1} Y_{oh,k}^{(i)} * log(a^{(i)}_k) \\tag{3}$$\n",
    "\n",
    "**Note** It is possible to come up with a more efficient vectorized implementation. For now, let's use nested for loops to better understand the algorithm, and for easier debugging.\n",
    "\n",
    "We provided the function `softmax()`, which was imported earlier."
   ]
  },
  {
   "cell_type": "code",
   "execution_count": 14,
   "metadata": {},
   "outputs": [],
   "source": [
    "# GRADED FUNCTION: model\n",
    "\n",
    "def model(X, Y, word_to_vec_map, learning_rate=0.01, num_iterations=400):\n",
    "    \"\"\"\n",
    "    Model to train word vector representations in numpy.\n",
    "    \n",
    "    Arguments:\n",
    "    X -- input data, numpy array of sentences as strings, of shape (m, 1)\n",
    "    Y -- labels, numpy array of integers between 0 and 7, numpy-array of shape (m, 1)\n",
    "    word_to_vec_map -- dictionary mapping every word in a vocabulary into its 50-dimensional vector representation\n",
    "    learning_rate -- learning_rate for the stochastic gradient descent algorithm\n",
    "    num_iterations -- number of iterations\n",
    "    \n",
    "    Returns:\n",
    "    pred -- vector of predictions, numpy-array of shape (m, 1)\n",
    "    W -- weight matrix of the softmax layer, of shape (n_y, n_h)\n",
    "    b -- bias of the softmax layer, of shape (n_y,)\n",
    "    \"\"\"\n",
    "    \n",
    "    np.random.seed(1)\n",
    "\n",
    "    # Define number of training examples\n",
    "    m = Y.shape[0]                          # number of training examples\n",
    "    n_y = 5                                 # number of classes  \n",
    "    n_h = 50                                # dimensions of the GloVe vectors \n",
    "    \n",
    "    # Initialize parameters using Xavier initialization\n",
    "    W = np.random.randn(n_y, n_h) / np.sqrt(n_h)\n",
    "    b = np.zeros((n_y,))\n",
    "    \n",
    "    # Convert Y to Y_onehot with n_y classes\n",
    "    Y_oh = convert_to_one_hot(Y, C=n_y) \n",
    "    \n",
    "    # Optimization loop\n",
    "    for t in range(num_iterations): # Loop over the number of iterations\n",
    "        for ix in range(m):          # Loop over the training examples\n",
    "            \n",
    "            ### CODE HERE:\n",
    "            # Average the word vectors of the words from the i'th training example\n",
    "            avg = sentence_to_avg(X[ix], word_to_vec_map)\n",
    "\n",
    "            # Forward propagate the avg through the softmax layer\n",
    "            z = W.dot(avg) + b\n",
    "            a = softmax(z)\n",
    "\n",
    "            # Compute cost using the i'th training label's one hot representation and \"A\" \n",
    "            # (the output of the softmax)\n",
    "            cost = -1. * np.sum(Y_oh[ix] * np.log(a)) \n",
    "            \n",
    "            # Compute gradients \n",
    "            dz = a - Y_oh[ix]\n",
    "            dW = np.dot(dz.reshape(n_y,1), avg.reshape(1, n_h))\n",
    "            db = dz\n",
    "\n",
    "            # Update parameters with Stochastic Gradient Descent\n",
    "            W -= learning_rate * dW\n",
    "            b -= learning_rate * db\n",
    "        \n",
    "        if t % 100 == 0:\n",
    "            pred, acc = predict(X, Y, W, b, word_to_vec_map) # define above\n",
    "            print(\"Epoch: {:3d} --- cost = {:1.6f} / accuracy: {:1.6f}\".format(t, cost, acc))\n",
    "\n",
    "    return pred, W, b"
   ]
  },
  {
   "cell_type": "code",
   "execution_count": 15,
   "metadata": {},
   "outputs": [
    {
     "name": "stdout",
     "output_type": "stream",
     "text": [
      "(132,)\n",
      "(132,)\n",
      "(132, 5)\n",
      "never talk to me again\n",
      "<class 'numpy.ndarray'>\n",
      "(20,)\n",
      "(20,)\n",
      "(132, 5)\n",
      "<class 'numpy.ndarray'>\n"
     ]
    }
   ],
   "source": [
    "print(X_train.shape)\n",
    "print(Y_train.shape)\n",
    "print(np.eye(5)[Y_train.reshape(-1)].shape)\n",
    "print(X_train[0])\n",
    "print(type(X_train))\n",
    "Y = np.asarray([5, 0, 0, 5, 4, 4, 4, 6, 6, 4, 1, 1, 5, 6, 6, 3, 6, 3, 4, 4])\n",
    "print(Y.shape)\n",
    "\n",
    "X = np.asarray(['I am going to the bar tonight', 'I love you', 'miss you my dear',\n",
    " 'Lets go party and drinks','Congrats on the new job','Congratulations',\n",
    " 'I am so happy for you', 'Why are you feeling bad', 'What is wrong with you',\n",
    " 'You totally deserve this prize', 'Let us go play football',\n",
    " 'Are you down for football this afternoon', 'Work hard play harder',\n",
    " 'It is suprising how people can be dumb sometimes',\n",
    " 'I am very disappointed','It is the best day in my life',\n",
    " 'I think I will end up alone','My life is so boring','Good job',\n",
    " 'Great so awesome'])\n",
    "\n",
    "print(X.shape)\n",
    "print(np.eye(5)[Y_train.reshape(-1)].shape)\n",
    "print(type(X_train))"
   ]
  },
  {
   "cell_type": "markdown",
   "metadata": {},
   "source": [
    "Run the next cell to train your model and learn the softmax parameters `(W, b)`. "
   ]
  },
  {
   "cell_type": "code",
   "execution_count": 16,
   "metadata": {
    "scrolled": true
   },
   "outputs": [
    {
     "name": "stdout",
     "output_type": "stream",
     "text": [
      "Epoch:   0 --- cost = 1.952050 / accuracy: 0.348485\n",
      "Epoch: 100 --- cost = 0.079718 / accuracy: 0.931818\n",
      "Epoch: 200 --- cost = 0.044564 / accuracy: 0.954545\n",
      "Epoch: 300 --- cost = 0.034323 / accuracy: 0.969697\n",
      "Epoch: 400 --- cost = 0.029070 / accuracy: 0.977273\n",
      "[[3.]\n",
      " [2.]\n",
      " [3.]\n",
      " [0.]\n",
      " [4.]\n",
      " [0.]\n",
      " [3.]\n",
      " [2.]\n",
      " [3.]\n",
      " [1.]\n",
      " [3.]\n",
      " [3.]\n",
      " [1.]\n",
      " [3.]\n",
      " [2.]\n",
      " [3.]\n",
      " [2.]\n",
      " [3.]\n",
      " [1.]\n",
      " [2.]\n",
      " [3.]\n",
      " [0.]\n",
      " [2.]\n",
      " [2.]\n",
      " [2.]\n",
      " [1.]\n",
      " [4.]\n",
      " [3.]\n",
      " [3.]\n",
      " [4.]\n",
      " [0.]\n",
      " [3.]\n",
      " [4.]\n",
      " [2.]\n",
      " [0.]\n",
      " [3.]\n",
      " [2.]\n",
      " [2.]\n",
      " [3.]\n",
      " [4.]\n",
      " [2.]\n",
      " [2.]\n",
      " [0.]\n",
      " [2.]\n",
      " [3.]\n",
      " [0.]\n",
      " [3.]\n",
      " [2.]\n",
      " [4.]\n",
      " [3.]\n",
      " [0.]\n",
      " [3.]\n",
      " [3.]\n",
      " [3.]\n",
      " [4.]\n",
      " [2.]\n",
      " [1.]\n",
      " [1.]\n",
      " [1.]\n",
      " [2.]\n",
      " [3.]\n",
      " [1.]\n",
      " [0.]\n",
      " [0.]\n",
      " [0.]\n",
      " [3.]\n",
      " [4.]\n",
      " [4.]\n",
      " [2.]\n",
      " [2.]\n",
      " [1.]\n",
      " [2.]\n",
      " [0.]\n",
      " [3.]\n",
      " [2.]\n",
      " [2.]\n",
      " [0.]\n",
      " [0.]\n",
      " [3.]\n",
      " [1.]\n",
      " [2.]\n",
      " [1.]\n",
      " [2.]\n",
      " [2.]\n",
      " [4.]\n",
      " [3.]\n",
      " [3.]\n",
      " [2.]\n",
      " [4.]\n",
      " [0.]\n",
      " [0.]\n",
      " [3.]\n",
      " [3.]\n",
      " [3.]\n",
      " [3.]\n",
      " [2.]\n",
      " [0.]\n",
      " [1.]\n",
      " [2.]\n",
      " [3.]\n",
      " [0.]\n",
      " [2.]\n",
      " [2.]\n",
      " [2.]\n",
      " [3.]\n",
      " [2.]\n",
      " [2.]\n",
      " [2.]\n",
      " [4.]\n",
      " [1.]\n",
      " [1.]\n",
      " [3.]\n",
      " [3.]\n",
      " [4.]\n",
      " [1.]\n",
      " [2.]\n",
      " [1.]\n",
      " [1.]\n",
      " [3.]\n",
      " [1.]\n",
      " [0.]\n",
      " [4.]\n",
      " [0.]\n",
      " [3.]\n",
      " [3.]\n",
      " [4.]\n",
      " [4.]\n",
      " [1.]\n",
      " [4.]\n",
      " [3.]\n",
      " [0.]\n",
      " [2.]]\n"
     ]
    }
   ],
   "source": [
    "pred, W, b = model(X_train, Y_train, word_to_vec_map, num_iterations=500)\n",
    "print(pred)"
   ]
  },
  {
   "cell_type": "markdown",
   "metadata": {},
   "source": [
    "**Expected Output** (on a subset of iterations):\n",
    "\n",
    "<table>\n",
    "    <tr>\n",
    "        <td>\n",
    "            <b>Epoch: 0</b>\n",
    "        </td>\n",
    "        <td>\n",
    "           cost = 1.95204988128\n",
    "        </td>\n",
    "        <td>\n",
    "           Accuracy: 0.348484848485\n",
    "        </td>\n",
    "    </tr>\n",
    "    <tr>\n",
    "        <td>\n",
    "            <b>Epoch: 100</b>\n",
    "        </td>\n",
    "        <td>\n",
    "           cost = 0.0797181872601\n",
    "        </td>\n",
    "        <td>\n",
    "           Accuracy: 0.931818181818\n",
    "        </td>\n",
    "    </tr>\n",
    "    <tr>\n",
    "        <td>\n",
    "            <b>Epoch: 200</b>\n",
    "        </td>\n",
    "        <td>\n",
    "           cost = 0.0445636924368\n",
    "        </td>\n",
    "        <td>\n",
    "           Accuracy: 0.954545454545\n",
    "        </td>\n",
    "    </tr>\n",
    "    <tr>\n",
    "        <td>\n",
    "            <b>Epoch: 300</b>\n",
    "        </td>\n",
    "        <td>\n",
    "           cost = 0.0343226737879\n",
    "        </td>\n",
    "        <td>\n",
    "           Accuracy: 0.969696969697\n",
    "        </td>\n",
    "    </tr>\n",
    "</table>"
   ]
  },
  {
   "cell_type": "markdown",
   "metadata": {},
   "source": [
    "Great! Your model has pretty high accuracy on the training set. Lets now see how it does on the test set. "
   ]
  },
  {
   "cell_type": "markdown",
   "metadata": {},
   "source": [
    "### 1.4. Examining test set performance \n",
    "\n",
    "Note that the `predict` function used here is defined in emo_util.spy."
   ]
  },
  {
   "cell_type": "code",
   "execution_count": 17,
   "metadata": {
    "scrolled": false
   },
   "outputs": [
    {
     "name": "stdout",
     "output_type": "stream",
     "text": [
      "Training set accuracy: 0.97727\n",
      "Test set accuracy:     0.85714\n"
     ]
    }
   ],
   "source": [
    "pred_train, acc_train = predict(X_train, Y_train, W, b, word_to_vec_map)\n",
    "print(\"Training set accuracy: {:1.5f}\".format(acc_train))\n",
    "\n",
    "pred_test, acc_test = predict(X_test, Y_test, W, b, word_to_vec_map)\n",
    "print(\"Test set accuracy:     {:1.5f}\".format(acc_test))"
   ]
  },
  {
   "cell_type": "markdown",
   "metadata": {},
   "source": [
    "**Expected Output**:\n",
    "\n",
    "<table>\n",
    "    <tr>\n",
    "        <td>\n",
    "            <b>Train set accuracy</b>\n",
    "        </td>\n",
    "        <td>\n",
    "           97.7\n",
    "        </td>\n",
    "    </tr>\n",
    "    <tr>\n",
    "        <td>\n",
    "            <b>Test set accuracy</b>\n",
    "        </td>\n",
    "        <td>\n",
    "           85.7\n",
    "        </td>\n",
    "    </tr>\n",
    "</table>"
   ]
  },
  {
   "cell_type": "markdown",
   "metadata": {},
   "source": [
    "* Random guessing would have had 20% accuracy given that there are 5 classes. (1/5 = 20%).\n",
    "* This is pretty good performance after training on only 127 examples. \n",
    "\n",
    "\n",
    "#### The model matches emojis to relevant words\n",
    "In the training set, the algorithm saw the sentence \n",
    ">\"*I love you*\" \n",
    "\n",
    "with the label ❤️. \n",
    "* You can check that the word \"adore\" does not appear in the training set. \n",
    "* Nonetheless, lets see what happens if you write \"*I adore you*.\"\n",
    "\n"
   ]
  },
  {
   "cell_type": "code",
   "execution_count": 18,
   "metadata": {},
   "outputs": [
    {
     "name": "stdout",
     "output_type": "stream",
     "text": [
      "\n",
      "i adore you ❤️\n",
      "i love you ❤️\n",
      "funny lol 😄\n",
      "lets play with a ball ⚾\n",
      "food is ready 🍴\n",
      "not feeling happy 😄\n",
      "Accuracy: 0.83333\n"
     ]
    }
   ],
   "source": [
    "X_my_sentences = np.array([\"i adore you\", \"i love you\", \"funny lol\", \"lets play with a ball\", \"food is ready\", \"not feeling happy\"])\n",
    "Y_my_labels = np.array([[0], [0], [2], [1], [4],[3]])\n",
    "\n",
    "pred, acc = predict(X_my_sentences, Y_my_labels , W, b, word_to_vec_map)\n",
    "print_predictions(X_my_sentences, pred)\n",
    "print(\"Accuracy: {:1.5f}\".format(acc))"
   ]
  },
  {
   "cell_type": "markdown",
   "metadata": {},
   "source": [
    "Amazing! \n",
    "- Because *adore* has a similar embedding as *love*, the algorithm has generalized correctly even to a word it has never seen before. \n",
    "- Words such as *heart*, *dear*, *beloved* or *adore* have embedding vectors similar to *love*. \n",
    "  - Feel free to modify the inputs above and try out a variety of input sentences. \n",
    "  - How well does it work?\n",
    "\n",
    "#### Word ordering isn't considered in this model\n",
    "- Note that the model doesn't get the following sentence correct:\n",
    ">\"not feeling happy\" \n",
    "\n",
    "- This algorithm ignores word ordering, so it is not good at understanding phrases like \"not happy.\" \n",
    "\n",
    "#### Confusion matrix\n",
    "* Printing the confusion matrix can also help understand which classes are more difficult for your model. \n",
    "* A confusion matrix shows how often an example whose label is one class (\"actual\" class) is mislabeled by the algorithm with a different class (\"predicted\" class)."
   ]
  },
  {
   "cell_type": "code",
   "execution_count": 19,
   "metadata": {},
   "outputs": [
    {
     "name": "stdout",
     "output_type": "stream",
     "text": [
      "(56,)\n",
      "           ❤️    ⚾    😄    😞   🍴\n",
      "Predicted  0.0  1.0  2.0  3.0  4.0  All\n",
      "Actual                                 \n",
      "0            6    0    0    1    0    7\n",
      "1            0    8    0    0    0    8\n",
      "2            1    0   17    0    0   18\n",
      "3            2    1    2   11    0   16\n",
      "4            0    0    1    0    6    7\n",
      "All          9    9   20   12    6   56\n"
     ]
    },
    {
     "data": {
      "image/png": "[encoded data removed]",
      "text/plain": [
       "<Figure size 288x288 with 2 Axes>"
      ]
     },
     "metadata": {
      "needs_background": "light"
     },
     "output_type": "display_data"
    }
   ],
   "source": [
    "print(Y_test.shape)\n",
    "print('           ' + label_to_emoji(0) + '    ' + label_to_emoji(1) + '    ' + \\\n",
    "      label_to_emoji(2) + '    ' + label_to_emoji(3) + '   ' + label_to_emoji(4))\n",
    "print(pd.crosstab(Y_test, pred_test.reshape(56,), rownames=['Actual'], colnames=['Predicted'], margins=True))\n",
    "plot_confusion_matrix(Y_test, pred_test)"
   ]
  },
  {
   "cell_type": "markdown",
   "metadata": {},
   "source": [
    "\n",
    "## What you should remember from this section\n",
    "\n",
    "- Even with a 127 training examples, you can get a reasonably good model for Emojifying. \n",
    "  - This is due to the generalization power word vectors gives you. \n",
    "\n",
    "- Emojify-V1 will perform poorly on sentences such as *\"This movie is not good and not enjoyable\"* \n",
    "  - It doesn't understand combinations of words.\n",
    "  - It just averages all the words' embedding vectors together, without considering the ordering of words. \n",
    "    \n",
    "**You will build a better algorithm in the next section!**"
   ]
  },
  {
   "cell_type": "markdown",
   "metadata": {},
   "source": [
    "## 2. Emojifier-V2: Using LSTMs in Keras: \n",
    "\n",
    "Let's build an LSTM model that takes word **sequences** as input!\n",
    "- This model will be able to account for the word ordering. \n",
    "- Emojifier-V2 will continue to use pre-trained word embeddings to represent words.\n",
    "- We will feed word embeddings into an LSTM.\n",
    "- The LSTM will learn to predict the most appropriate emoji. \n",
    "\n",
    "Run the following cell to load the Keras packages."
   ]
  },
  {
   "cell_type": "code",
   "execution_count": 20,
   "metadata": {},
   "outputs": [
    {
     "name": "stderr",
     "output_type": "stream",
     "text": [
      "Using TensorFlow backend.\n"
     ]
    }
   ],
   "source": [
    "import numpy as np\n",
    "np.random.seed(0)\n",
    "from keras.models import Model\n",
    "from keras.layers import Dense, Input, Dropout, LSTM, Activation\n",
    "from keras.layers.embeddings import Embedding\n",
    "from keras.preprocessing import sequence\n",
    "from keras.initializers import glorot_uniform\n",
    "np.random.seed(1)"
   ]
  },
  {
   "cell_type": "markdown",
   "metadata": {},
   "source": [
    "### 2.1. Overview of the model\n",
    "\n",
    "Here is the Emojifier-v2 you will implement:\n",
    "\n",
    "<img src=\"images/emojifier-v2.png\" style=\"width:700px;height:400px;\"> <br>\n",
    "<caption><center><b>Figure 3</b>: Emojifier-V2. A 2-layer LSTM sequence classifier. </center></caption>"
   ]
  },
  {
   "cell_type": "markdown",
   "metadata": {},
   "source": [
    "### 2.2. Keras and mini-batching \n",
    "\n",
    "- In this exercise, we want to train Keras using mini-batches. \n",
    "- However, most deep learning frameworks require that all sequences in the same mini-batch have the **same length**. \n",
    "  - This is what allows vectorization to work: If you had a 3-word sentence and a 4-word sentence, then the computations needed for them are different (one takes 3 steps of an LSTM, while the other takes 4 steps) so it's just not possible to do them both at the same time.\n",
    "    \n",
    "#### Padding handles sequences of varying length\n",
    "* The common solution to handling sequences of **different length** is to use padding.  Specifically:\n",
    "    * Set a maximum sequence length\n",
    "    * Pad all sequences to have the same length. \n",
    "    \n",
    "##### Example of padding\n",
    "* Given a maximum sequence length of 20, we could pad every sentence with \"0\"s so that each input sentence is of length 20. \n",
    "* Thus, the sentence \"I love you\" would be represented as $(e_{I}, e_{love}, e_{you}, \\vec{0}, \\vec{0}, \\ldots, \\vec{0})$. \n",
    "* In this example, any sentences longer than 20 words would have to be truncated. \n",
    "* One way to choose the maximum sequence length is to just pick the length of the longest sentence in the training set. \n"
   ]
  },
  {
   "cell_type": "markdown",
   "metadata": {},
   "source": [
    "### 2.3. The Embedding layer\n",
    "\n",
    "- In Keras, the embedding matrix is represented as a \"layer\".\n",
    "- The embedding matrix maps word indices to embedding vectors.\n",
    "  - The word indices are positive integers.\n",
    "  - The embedding vectors are dense vectors of fixed size.\n",
    "  - When we say a vector is \"dense\", in this context, it means that most of the values are non-zero.  As a counter-example, a one-hot encoded vector is not \"dense\" (or sparse).\n",
    "- The embedding matrix can be derived in two ways:\n",
    "  - Training a model to derive the embeddings from scratch. \n",
    "  - Using a pretrained embedding\n",
    "    \n",
    "#### Using and updating pre-trained embeddings\n",
    "- In this part, you will learn how to create an [Embedding()](https://keras.io/layers/embeddings/) layer in Keras\n",
    "- You will initialize the Embedding layer with the GloVe 50-dimensional vectors. \n",
    "- In the code below, we'll show you how Keras allows you to either train or leave fixed this layer.  \n",
    "- Because our training set is quite small, we will leave the GloVe embeddings fixed instead of updating them."
   ]
  },
  {
   "cell_type": "markdown",
   "metadata": {},
   "source": [
    "#### Inputs and outputs to the embedding layer\n",
    "\n",
    "- The `Embedding()` layer's input is an integer matrix of size **(batch size, max input length)**. \n",
    "  - This input corresponds to sentences converted into lists of indices (integers).\n",
    "  - The largest integer (the highest word index) in the input should be no larger than the vocabulary size.\n",
    "- The embedding layer outputs an array of shape (batch size, max input length, dimension of word vectors).\n",
    "\n",
    "- The figure shows the propagation of two example sentences through the embedding layer. \n",
    "  - Both examples have been zero-padded to a length of `max_len=5`.\n",
    "  - The word embeddings are 50 units in length.\n",
    "  - The final dimension of the representation is  `(2, max_len, 50)`. \n",
    "\n",
    "<img src=\"images/embedding1.png\" style=\"width:700px;height:250px;\">\n",
    "<caption><center><b>Figure 4</b>: Embedding layer</center></caption>"
   ]
  },
  {
   "cell_type": "markdown",
   "metadata": {},
   "source": [
    "#### Prepare the input sentences\n",
    "**Exercise**: \n",
    "Implement `sentences_to_indices`, which processes an array of sentences (X) and returns inputs to the embedding layer:\n",
    " - Convert each training sentences into a list of indices (the indices correspond to each word in the sentence)\n",
    " - Zero-pad all these lists so that their length is the length of the longest sentence.\n",
    "    \n",
    "##### Additional Hints\n",
    "Note that you may have considered using the `enumerate()` function in the for loop, but for the purposes of passing the autograder, please follow the starter code by initializing and incrementing `jx` explicitly."
   ]
  },
  {
   "cell_type": "code",
   "execution_count": 21,
   "metadata": {},
   "outputs": [
    {
     "name": "stdout",
     "output_type": "stream",
     "text": [
      "0 I\n",
      "1 like\n",
      "2 learning\n"
     ]
    }
   ],
   "source": [
    "for ix, val in enumerate([\"I\", \"like\", \"learning\"]):\n",
    "    print(ix, val)"
   ]
  },
  {
   "cell_type": "code",
   "execution_count": 22,
   "metadata": {},
   "outputs": [],
   "source": [
    "# GRADED FUNCTION: sentences_to_indices\n",
    "\n",
    "def sentences_to_indices(X, word_to_index, max_len):\n",
    "    \"\"\"\n",
    "    Converts an array of sentences (strings) into an array of indices corresponding to words in the sentences.\n",
    "    The output shape should be such that it can be given to `Embedding()` (described in Figure 4). \n",
    "    \n",
    "    Arguments:\n",
    "    X -- array of sentences (strings), of shape (m, 1)\n",
    "    word_to_index -- a dictionary containing the each word mapped to its index\n",
    "    max_len -- maximum number of words in a sentence. You can assume every sentence in X is no longer than this. \n",
    "    \n",
    "    Returns:\n",
    "    X_indices -- array of indices corresponding to words in the sentences from X, of shape (m, max_len)\n",
    "    \"\"\"\n",
    "    \n",
    "    m = X.shape[0]                                   # number of training examples\n",
    "    \n",
    "    ### CODE HERE:\n",
    "    X_indices = np.zeros((m, max_len))                # Init. X_indices as a zero matrix with correct shape\n",
    "    \n",
    "    for ix in range(m):                               # loop over training examples\n",
    "        # Convert the ith training sentence in lower case and split is into words. \n",
    "        sentence_words = sentence_to_words(X[ix])\n",
    "        jx = 0\n",
    "        \n",
    "        for w in sentence_words:                      # Loop over the words of sentence_words\n",
    "            if w == '': continue\n",
    "              \n",
    "            # Set the (i,j)-th entry of X_indices to the index of the correct word.\n",
    "            X_indices[ix, jx] = word_to_index[w]\n",
    "            jx += 1\n",
    "            \n",
    "    return X_indices"
   ]
  },
  {
   "cell_type": "markdown",
   "metadata": {},
   "source": [
    "Run the following cell to check what `sentences_to_indices()` does, and check your results."
   ]
  },
  {
   "cell_type": "code",
   "execution_count": 23,
   "metadata": {},
   "outputs": [
    {
     "name": "stdout",
     "output_type": "stream",
     "text": [
      "X1 = ['funny lol' 'lets play baseball' 'food is ready for you']\n",
      "X1_indices =\n",
      " [[155345. 225122.      0.      0.      0.]\n",
      " [220930. 286375.  69714.      0.      0.]\n",
      " [151204. 192973. 302254. 151349. 394475.]]\n"
     ]
    }
   ],
   "source": [
    "X1 = np.array([\"funny lol\", \"lets play baseball\", \"food is ready for you\"])\n",
    "X1_indices = sentences_to_indices(X1, word_to_index, max_len=5)\n",
    "print(\"X1 =\", X1)\n",
    "print(\"X1_indices =\\n\", X1_indices)"
   ]
  },
  {
   "cell_type": "markdown",
   "metadata": {},
   "source": [
    "**Expected Output**:\n",
    "\n",
    "```Python\n",
    "X1 = ['funny lol' 'lets play baseball' 'food is ready for you']\n",
    "X1_indices =\n",
    " [[ 155345.  225122.       0.       0.       0.]\n",
    " [ 220930.  286375.   69714.       0.       0.]\n",
    " [ 151204.  192973.  302254.  151349.  394475.]]\n",
    "```"
   ]
  },
  {
   "cell_type": "markdown",
   "metadata": {},
   "source": [
    "#### Build embedding layer\n",
    "\n",
    "Let's build the `Embedding()` layer in Keras, using pre-trained word vectors. \n",
    "- The embedding layer takes as input a list of word indices.\n",
    "   - `sentences_to_indices()` creates these word indices.\n",
    "- The embedding layer will return the word embeddings for a sentence. \n",
    "\n",
    "**Exercise**:  \n",
    "Implement `pretrained_embedding_layer()` with these steps:\n",
    "\n",
    "1. Initialize the embedding matrix as a numpy array of zeros.\n",
    "  - The embedding matrix has a row for each unique word in the vocabulary.\n",
    "    - There is one additional row to handle \"unknown\" words, thus **vocab_len is the number of unique words + 1**.\n",
    "  - Each row will store the vector representation of one word. \n",
    "    - For example, one row may be 50 positions long if using GloVe word vectors.\n",
    "  - In the code below, `emb_dim` represents the length of a word embedding.\n",
    "\n",
    "\n",
    "2. Fill in each row of the embedding matrix with the vector representation of a word\n",
    "  - Each word in `word_to_index` is a string.\n",
    "  - `word_to_vec_map` is a dictionary where the keys are strings and the values are the word vectors.\n",
    "\n",
    "\n",
    "3. Define the Keras embedding layer. \n",
    "  - Use [Embedding()](https://keras.io/layers/embeddings/). \n",
    "  - The input dimension is equal to the vocabulary length (number of unique words plus one).\n",
    "  - The output dimension is equal to the number of positions in a word embedding.\n",
    "  - Make this layer's embeddings fixed.\n",
    "    - If you were to set `trainable=True`, then it will allow the optimization algorithm to modify the values of the word embeddings.\n",
    "    - In this case, we don't want the model to modify the word embeddings.\n",
    "\n",
    "\n",
    "4. Set the embedding weights to be equal to the embedding matrix.\n",
    "    - Note that this is part of the code is already completed for you and does not need to be modified. "
   ]
  },
  {
   "cell_type": "code",
   "execution_count": 24,
   "metadata": {},
   "outputs": [],
   "source": [
    "# GRADED FUNCTION: pretrained_embedding_layer\n",
    "\n",
    "def pretrained_embedding_layer(word_to_vec_map, word_to_index):\n",
    "    \"\"\"\n",
    "    Creates a Keras Embedding() layer and loads in pre-trained GloVe 50-dimensional vectors.\n",
    "    \n",
    "    Arguments:\n",
    "    word_to_vec_map -- dictionary mapping words to their GloVe vector representation.\n",
    "    word_to_index -- dictionary mapping from words to their indices in the vocabulary (400,001 words)\n",
    "\n",
    "    Returns:\n",
    "    embedding_layer -- pretrained layer Keras instance\n",
    "    \"\"\"\n",
    "    \n",
    "    vocab_len = len(word_to_index) + 1              # adding 1 to fit Keras embedding (requirement)\n",
    "    emb_dim = word_to_vec_map[\"cucumber\"].shape[0]  # define dim of your GloVe word vectors (= 50)\n",
    "    \n",
    "    ### CODE HERE:\n",
    "    # Step 1. Init. the embedding matrix as a numpy array of zeros.\n",
    "    emb_matrix = np.zeros((vocab_len, emb_dim))\n",
    "    \n",
    "    # Step 2. Set each row \"ix\" of the embedding matrix to be word vector repres. of the ix'th word of the vocabulary\n",
    "    for word, ix in word_to_index.items():\n",
    "        emb_matrix[ix, :] = word_to_vec_map[word]\n",
    "\n",
    "    # Step 3. Define Keras embedding layer with the correct input and output sizes. Make it non-trainable.\n",
    "    embedding_layer = Embedding(vocab_len, emb_dim, trainable=False)\n",
    "    ### END CODE HERE ###\n",
    "\n",
    "    # Step 4. (already done for you; please do not modify)\n",
    "    # Build the embedding layer, it is required before setting the weights of the embedding layer. \n",
    "    embedding_layer.build((None,)) # Do not modify the \"None\".  This line of code is complete as-is.\n",
    "    \n",
    "    # Set the weights of the embedding layer to the embedding matrix. Your layer is now pretrained.\n",
    "    embedding_layer.set_weights([emb_matrix])\n",
    "    \n",
    "    return embedding_layer"
   ]
  },
  {
   "cell_type": "code",
   "execution_count": 25,
   "metadata": {},
   "outputs": [
    {
     "name": "stderr",
     "output_type": "stream",
     "text": [
      "WARNING: Logging before flag parsing goes to stderr.\n",
      "W0413 10:50:02.726983 140658841163584 deprecation.py:506] From /home/pascal/Projects/ML_DL/anaconda3/envs/tensorflow_keras_gpuenv/lib/python3.7/site-packages/tensorflow_core/python/ops/resource_variable_ops.py:1630: calling BaseResourceVariable.__init__ (from tensorflow.python.ops.resource_variable_ops) with constraint is deprecated and will be removed in a future version.\n",
      "Instructions for updating:\n",
      "If using Keras pass *_constraint arguments to layers.\n"
     ]
    },
    {
     "name": "stdout",
     "output_type": "stream",
     "text": [
      "weights[0][1][3] = -0.3403\n"
     ]
    }
   ],
   "source": [
    "embedding_layer = pretrained_embedding_layer(word_to_vec_map, word_to_index)\n",
    "print(\"weights[0][1][3] =\", embedding_layer.get_weights()[0][1][3])"
   ]
  },
  {
   "cell_type": "markdown",
   "metadata": {},
   "source": [
    "**Expected Output**:\n",
    "\n",
    "```Python\n",
    "weights[0][1][3] = -0.3403\n",
    "```"
   ]
  },
  {
   "cell_type": "markdown",
   "metadata": {},
   "source": [
    "## 2.3. Building the Emojifier-V2\n",
    "\n",
    "Lets now build the Emojifier-V2 model. \n",
    "* You feed the embedding layer's output to an LSTM network. \n",
    "\n",
    "<img src=\"images/emojifier-v2.png\" style=\"width:700px;height:400px;\"> <br>\n",
    "<caption><center><b>Figure 5</b>: Emojifier-v2. A 2-layer LSTM sequence classifier. </center></caption>\n",
    "\n",
    "\n",
    "**Exercise:**  \n",
    "Implement `Emojify_V2()`, which builds a Keras graph of the architecture shown in Figure 3. \n",
    "\n",
    "- The model takes as input an array of sentences of shape (`m`, `max_len`, ) defined by `input_shape`. \n",
    "- The model outputs a softmax probability vector of shape (`m`, `C=5`). \n",
    "\n",
    "- You may need to use the following Keras layers:\n",
    "  - [Input()](https://keras.io/layers/core/#input)\n",
    "    - Set the `shape` and `dtype` parameters.\n",
    "    - The inputs are integers, so you can specify the data type as a string, 'int32'.\n",
    "  - [LSTM()](https://keras.io/layers/recurrent/#lstm)\n",
    "    - Set the `units` and `return_sequences` parameters.\n",
    "  - [Dropout()](https://keras.io/layers/core/#dropout)\n",
    "    - Set the `rate` parameter.\n",
    "  - [Dense()](https://keras.io/layers/core/#dense)\n",
    "    - Set the `units`, \n",
    "    - Note that `Dense()` has an `activation` parameter.  For the purposes of passing the autograder, please do not set the activation within `Dense()`.  Use the separate `Activation` layer to do so.\n",
    "  - [Activation()](https://keras.io/activations/).\n",
    "    - You can pass in the activation of your choice as a lowercase string.\n",
    "  - [Model](https://keras.io/models/model/). Set `inputs` and `outputs`.\n",
    "\n",
    "\n",
    "#### Additional Hints\n",
    "- Remember that these Keras layers return an object, and you will feed in the outputs of the previous layer as the input arguments to that object.  The returned object can be created and called in the same line.\n",
    "\n",
    "- The `embedding_layer` that is returned by `pretrained_embedding_layer` is a layer object that can be called as a function, passing in a single argument (sentence indices)."
   ]
  },
  {
   "cell_type": "code",
   "execution_count": 26,
   "metadata": {},
   "outputs": [],
   "source": [
    "# GRADED FUNCTION: Emojify_V2\n",
    "\n",
    "def Emojify_V2(input_shape, word_to_vec_map, word_to_index):\n",
    "    \"\"\"\n",
    "    Function creating the Emojify-v2 model's graph.\n",
    "    \n",
    "    Arguments:\n",
    "    input_shape -- shape of the input, usually (max_len,)\n",
    "    word_to_vec_map -- dictionary mapping every word in a vocabulary into its 50-dimensional vector representation\n",
    "    word_to_index -- dictionary mapping from words to their indices in the vocabulary (400,001 words)\n",
    "\n",
    "    Returns:\n",
    "    model -- a model instance in Keras\n",
    "    \"\"\"\n",
    "    \n",
    "    ### CODE HERE:\n",
    "    # Define sentence_indices as the input of the graph.\n",
    "    # It should be of shape input_shape and dtype 'int32' (as it contains indices, which are integers).\n",
    "    sentence_indices = Input(shape=input_shape, dtype='int32')\n",
    "    \n",
    "    # Create the embedding layer pretrained with GloVe Vectors\n",
    "    embedding_layer = pretrained_embedding_layer(word_to_vec_map, word_to_index)\n",
    "    \n",
    "    # Propagate sentence_indices through your embedding layer\n",
    "    embeddings = embedding_layer(sentence_indices)\n",
    "    \n",
    "    # Propagate the embeddings through an LSTM layer with 128-dimensional hidden state\n",
    "    # The returned output should be a batch of sequences.\n",
    "    X = LSTM(128, return_sequences=True)(embeddings)\n",
    "             \n",
    "    # Add dropout with a probability of 0.5\n",
    "    X = Dropout(rate=0.5)(X)\n",
    "    \n",
    "    # Propagate X trough another LSTM layer with 128-dimensional hidden state\n",
    "    # The returned output should be a single hidden state, not a batch of sequences.\n",
    "    X = LSTM(128, return_sequences=False)(X)\n",
    "    \n",
    "    # Add dropout with a probability of 0.5\n",
    "    X = Dropout(rate=0.5)(X)\n",
    "    \n",
    "    # Propagate X through a Dense layer with 5 units\n",
    "    X = Dense(5)(X)\n",
    "    \n",
    "    # Add a softmax activation\n",
    "    X = Activation('softmax')(X)\n",
    "    \n",
    "    # Create Model instance which converts sentence_indices into X.\n",
    "    model = Model(inputs=sentence_indices, outputs=X)\n",
    "    \n",
    "    return model"
   ]
  },
  {
   "cell_type": "markdown",
   "metadata": {},
   "source": [
    "Run the following cell to create your model and check its summary. Because all sentences in the dataset are less than 10 words, we chose `max_len=10`.  You should see your architecture, it uses \"20,223,927\" parameters, of which 20,000,050 (the word embeddings) are non-trainable, and the remaining 223,877 are.  \n",
    "Because our vocabulary size has 400,001 words (with valid indices from 0 to 400,000) there are 400,001\\*50 = 20,000,050 non-trainable parameters. "
   ]
  },
  {
   "cell_type": "code",
   "execution_count": 56,
   "metadata": {
    "scrolled": false
   },
   "outputs": [
    {
     "name": "stdout",
     "output_type": "stream",
     "text": [
      "Model: \"model_3\"\n",
      "_________________________________________________________________\n",
      "Layer (type)                 Output Shape              Param #   \n",
      "=================================================================\n",
      "input_3 (InputLayer)         (None, 10)                0         \n",
      "_________________________________________________________________\n",
      "embedding_4 (Embedding)      (None, 10, 50)            20000050  \n",
      "_________________________________________________________________\n",
      "lstm_5 (LSTM)                (None, 10, 128)           91648     \n",
      "_________________________________________________________________\n",
      "dropout_5 (Dropout)          (None, 10, 128)           0         \n",
      "_________________________________________________________________\n",
      "lstm_6 (LSTM)                (None, 128)               131584    \n",
      "_________________________________________________________________\n",
      "dropout_6 (Dropout)          (None, 128)               0         \n",
      "_________________________________________________________________\n",
      "dense_3 (Dense)              (None, 5)                 645       \n",
      "_________________________________________________________________\n",
      "activation_3 (Activation)    (None, 5)                 0         \n",
      "=================================================================\n",
      "Total params: 20,223,927\n",
      "Trainable params: 223,877\n",
      "Non-trainable params: 20,000,050\n",
      "_________________________________________________________________\n"
     ]
    }
   ],
   "source": [
    "model = Emojify_V2((max_len,), word_to_vec_map, word_to_index)\n",
    "model.summary()"
   ]
  },
  {
   "cell_type": "markdown",
   "metadata": {},
   "source": [
    "As usual, after creating your model in Keras, you need to compile it and define what loss, optimizer and metrics your are want to use. Compile your model using `categorical_crossentropy` loss, `adam` optimizer and `['accuracy']` metrics:"
   ]
  },
  {
   "cell_type": "code",
   "execution_count": 57,
   "metadata": {},
   "outputs": [],
   "source": [
    "model.compile(loss='categorical_crossentropy', optimizer='adam', metrics=['accuracy'])"
   ]
  },
  {
   "cell_type": "markdown",
   "metadata": {},
   "source": [
    "It's time to train your model.  \n",
    "Your Emojifier-V2 `model` takes as input an array of shape (`m`, `max_len`) and outputs probability vectors of shape (`m`, `number of classes`).  \n",
    "We thus have to convert:\n",
    "- X_train (array of sentences as strings) to X_train_indices (array of sentences as list of word indices), \n",
    "- Y_train (labels as indices) to Y_train_oh (labels as one-hot vectors)."
   ]
  },
  {
   "cell_type": "code",
   "execution_count": 58,
   "metadata": {},
   "outputs": [],
   "source": [
    "X_train_indices = sentences_to_indices(X_train, word_to_index, max_len)\n",
    "Y_train_oh = convert_to_one_hot(Y_train, C=5)"
   ]
  },
  {
   "cell_type": "markdown",
   "metadata": {},
   "source": [
    "Fit the Keras model on `X_train_indices` and `Y_train_oh`. We will use `epochs = 50` and `batch_size = 32`."
   ]
  },
  {
   "cell_type": "code",
   "execution_count": 59,
   "metadata": {
    "scrolled": true
   },
   "outputs": [
    {
     "name": "stdout",
     "output_type": "stream",
     "text": [
      "Epoch 1/60\n",
      "132/132 [==============================] - 1s 4ms/step - loss: 1.5901 - accuracy: 0.2424\n",
      "Epoch 2/60\n",
      "132/132 [==============================] - 0s 642us/step - loss: 1.5153 - accuracy: 0.3106\n",
      "Epoch 3/60\n",
      "132/132 [==============================] - 0s 534us/step - loss: 1.4608 - accuracy: 0.3636\n",
      "Epoch 4/60\n",
      "132/132 [==============================] - 0s 461us/step - loss: 1.3959 - accuracy: 0.4470\n",
      "Epoch 5/60\n",
      "132/132 [==============================] - 0s 483us/step - loss: 1.3160 - accuracy: 0.5530\n",
      "Epoch 6/60\n",
      "132/132 [==============================] - 0s 474us/step - loss: 1.2056 - accuracy: 0.5833\n",
      "Epoch 7/60\n",
      "132/132 [==============================] - 0s 470us/step - loss: 1.0695 - accuracy: 0.5758\n",
      "Epoch 8/60\n",
      "132/132 [==============================] - 0s 461us/step - loss: 0.9081 - accuracy: 0.6591\n",
      "Epoch 9/60\n",
      "132/132 [==============================] - 0s 483us/step - loss: 0.7507 - accuracy: 0.7500\n",
      "Epoch 10/60\n",
      "132/132 [==============================] - 0s 461us/step - loss: 0.7575 - accuracy: 0.7197\n",
      "Epoch 11/60\n",
      "132/132 [==============================] - 0s 473us/step - loss: 0.7324 - accuracy: 0.7045\n",
      "Epoch 12/60\n",
      "132/132 [==============================] - 0s 466us/step - loss: 0.6516 - accuracy: 0.7652\n",
      "Epoch 13/60\n",
      "132/132 [==============================] - 0s 451us/step - loss: 0.5059 - accuracy: 0.8258\n",
      "Epoch 14/60\n",
      "132/132 [==============================] - 0s 480us/step - loss: 0.5212 - accuracy: 0.8182\n",
      "Epoch 15/60\n",
      "132/132 [==============================] - 0s 468us/step - loss: 0.3963 - accuracy: 0.8636\n",
      "Epoch 16/60\n",
      "132/132 [==============================] - 0s 468us/step - loss: 0.3551 - accuracy: 0.8712\n",
      "Epoch 17/60\n",
      "132/132 [==============================] - 0s 474us/step - loss: 0.3304 - accuracy: 0.9015\n",
      "Epoch 18/60\n",
      "132/132 [==============================] - 0s 465us/step - loss: 0.3577 - accuracy: 0.8864\n",
      "Epoch 19/60\n",
      "132/132 [==============================] - 0s 481us/step - loss: 0.2626 - accuracy: 0.9091\n",
      "Epoch 20/60\n",
      "132/132 [==============================] - 0s 469us/step - loss: 0.2051 - accuracy: 0.9167\n",
      "Epoch 21/60\n",
      "132/132 [==============================] - 0s 457us/step - loss: 0.2004 - accuracy: 0.9242\n",
      "Epoch 22/60\n",
      "132/132 [==============================] - 0s 454us/step - loss: 0.1508 - accuracy: 0.9697\n",
      "Epoch 23/60\n",
      "132/132 [==============================] - 0s 451us/step - loss: 0.1671 - accuracy: 0.9318\n",
      "Epoch 24/60\n",
      "132/132 [==============================] - 0s 464us/step - loss: 0.2590 - accuracy: 0.8864\n",
      "Epoch 25/60\n",
      "132/132 [==============================] - 0s 474us/step - loss: 0.2031 - accuracy: 0.9242\n",
      "Epoch 26/60\n",
      "132/132 [==============================] - 0s 458us/step - loss: 0.1862 - accuracy: 0.9394\n",
      "Epoch 27/60\n",
      "132/132 [==============================] - 0s 458us/step - loss: 0.1848 - accuracy: 0.9318\n",
      "Epoch 28/60\n",
      "132/132 [==============================] - 0s 444us/step - loss: 0.1477 - accuracy: 0.9621\n",
      "Epoch 29/60\n",
      "132/132 [==============================] - 0s 466us/step - loss: 0.2560 - accuracy: 0.9242\n",
      "Epoch 30/60\n",
      "132/132 [==============================] - 0s 453us/step - loss: 0.1045 - accuracy: 0.9773\n",
      "Epoch 31/60\n",
      "132/132 [==============================] - 0s 505us/step - loss: 0.1327 - accuracy: 0.9470\n",
      "Epoch 32/60\n",
      "132/132 [==============================] - 0s 512us/step - loss: 0.1869 - accuracy: 0.9318\n",
      "Epoch 33/60\n",
      "132/132 [==============================] - 0s 469us/step - loss: 0.1296 - accuracy: 0.9773\n",
      "Epoch 34/60\n",
      "132/132 [==============================] - 0s 480us/step - loss: 0.0959 - accuracy: 0.9697\n",
      "Epoch 35/60\n",
      "132/132 [==============================] - 0s 423us/step - loss: 0.1313 - accuracy: 0.9545\n",
      "Epoch 36/60\n",
      "132/132 [==============================] - 0s 455us/step - loss: 0.0799 - accuracy: 0.9697\n",
      "Epoch 37/60\n",
      "132/132 [==============================] - 0s 461us/step - loss: 0.0451 - accuracy: 0.9924\n",
      "Epoch 38/60\n",
      "132/132 [==============================] - 0s 443us/step - loss: 0.0463 - accuracy: 0.9924\n",
      "Epoch 39/60\n",
      "132/132 [==============================] - 0s 465us/step - loss: 0.0323 - accuracy: 1.0000\n",
      "Epoch 40/60\n",
      "132/132 [==============================] - 0s 468us/step - loss: 0.0274 - accuracy: 1.0000\n",
      "Epoch 41/60\n",
      "132/132 [==============================] - 0s 449us/step - loss: 0.0190 - accuracy: 1.0000\n",
      "Epoch 42/60\n",
      "132/132 [==============================] - 0s 458us/step - loss: 0.0437 - accuracy: 0.9924\n",
      "Epoch 43/60\n",
      "132/132 [==============================] - 0s 463us/step - loss: 0.0316 - accuracy: 0.9924\n",
      "Epoch 44/60\n",
      "132/132 [==============================] - 0s 442us/step - loss: 0.0231 - accuracy: 0.9924\n",
      "Epoch 45/60\n",
      "132/132 [==============================] - 0s 444us/step - loss: 0.0080 - accuracy: 1.0000\n",
      "Epoch 46/60\n",
      "132/132 [==============================] - 0s 451us/step - loss: 0.0098 - accuracy: 1.0000\n",
      "Epoch 47/60\n",
      "132/132 [==============================] - 0s 445us/step - loss: 0.0080 - accuracy: 1.0000\n",
      "Epoch 48/60\n",
      "132/132 [==============================] - 0s 455us/step - loss: 0.0095 - accuracy: 1.0000\n",
      "Epoch 49/60\n",
      "132/132 [==============================] - 0s 448us/step - loss: 0.0075 - accuracy: 1.0000\n",
      "Epoch 50/60\n",
      "132/132 [==============================] - 0s 469us/step - loss: 0.0154 - accuracy: 0.9924\n",
      "Epoch 51/60\n",
      "132/132 [==============================] - 0s 446us/step - loss: 0.0241 - accuracy: 0.9924\n",
      "Epoch 52/60\n",
      "132/132 [==============================] - 0s 475us/step - loss: 0.0160 - accuracy: 0.9924\n",
      "Epoch 53/60\n",
      "132/132 [==============================] - 0s 435us/step - loss: 0.0069 - accuracy: 1.0000\n",
      "Epoch 54/60\n",
      "132/132 [==============================] - 0s 462us/step - loss: 0.0143 - accuracy: 1.0000\n",
      "Epoch 55/60\n",
      "132/132 [==============================] - 0s 458us/step - loss: 0.0645 - accuracy: 0.9697\n",
      "Epoch 56/60\n",
      "132/132 [==============================] - 0s 451us/step - loss: 0.1368 - accuracy: 0.9545\n",
      "Epoch 57/60\n",
      "132/132 [==============================] - 0s 444us/step - loss: 0.1983 - accuracy: 0.9470\n",
      "Epoch 58/60\n",
      "132/132 [==============================] - 0s 458us/step - loss: 0.1531 - accuracy: 0.9470\n",
      "Epoch 59/60\n",
      "132/132 [==============================] - 0s 470us/step - loss: 0.1319 - accuracy: 0.9621\n",
      "Epoch 60/60\n",
      "132/132 [==============================] - 0s 450us/step - loss: 0.0206 - accuracy: 1.0000\n"
     ]
    }
   ],
   "source": [
    "hist = model.fit(X_train_indices, Y_train_oh, \n",
    "                 epochs=60, \n",
    "                 batch_size=32, \n",
    "                 shuffle=True,\n",
    "                 verbose=1)"
   ]
  },
  {
   "cell_type": "markdown",
   "metadata": {},
   "source": [
    "Your model should perform around **90% to 100% accuracy** on the training set.  \n",
    "The exact accuracy you get may be a little different. Run the following cell to evaluate your model on the test set. "
   ]
  },
  {
   "cell_type": "code",
   "execution_count": 60,
   "metadata": {
    "scrolled": true
   },
   "outputs": [
    {
     "name": "stdout",
     "output_type": "stream",
     "text": [
      "56/56 [==============================] - 0s 3ms/step\n",
      "\n",
      "Test accuracy = 0.89286\n"
     ]
    }
   ],
   "source": [
    "X_test_indices = sentences_to_indices(X_test, word_to_index, max_len = max_len)\n",
    "Y_test_oh = convert_to_one_hot(Y_test, C = 5)\n",
    "loss, acc = model.evaluate(X_test_indices, Y_test_oh)\n",
    "print()\n",
    "print(\"Test accuracy = {:1.5f}\".format(acc))"
   ]
  },
  {
   "cell_type": "markdown",
   "metadata": {},
   "source": [
    "You should get a test accuracy between 80% and 95%. Run the cell below to see the mislabelled examples. "
   ]
  },
  {
   "cell_type": "code",
   "execution_count": 61,
   "metadata": {},
   "outputs": [
    {
     "name": "stdout",
     "output_type": "stream",
     "text": [
      "Expected emoji:😄 prediction: she got me a nice present\t❤️\n",
      "Expected emoji:😞 prediction: This girl is messing with me\t❤️\n",
      "Expected emoji:🍴 prediction: any suggestions for dinner\t😄\n",
      "Expected emoji:😞 prediction: she is a bully\t😄\n",
      "Expected emoji:😞 prediction: go away\t⚾\n",
      "Expected emoji:😞 prediction: yesterday we lost again\t⚾\n"
     ]
    }
   ],
   "source": [
    "# This code allows you to see the mislabelled examples\n",
    "C = 5\n",
    "y_test_oh = np.eye(C)[Y_test.reshape(-1)]\n",
    "X_test_indices = sentences_to_indices(X_test, word_to_index, max_len)\n",
    "pred = model.predict(X_test_indices)\n",
    "for ix in range(len(X_test)):\n",
    "    x = X_test_indices\n",
    "    num = np.argmax(pred[ix])\n",
    "    if(num != Y_test[ix]):\n",
    "        print('Expected emoji:'+ label_to_emoji(Y_test[ix]) + ' prediction: '+ X_test[ix] + label_to_emoji(num).strip())"
   ]
  },
  {
   "cell_type": "markdown",
   "metadata": {},
   "source": [
    "Now you can try it on your own example. Write your own sentence below. "
   ]
  },
  {
   "cell_type": "code",
   "execution_count": 62,
   "metadata": {},
   "outputs": [
    {
     "name": "stdout",
     "output_type": "stream",
     "text": [
      "He is not feeling well nor happy 😞\n"
     ]
    }
   ],
   "source": [
    "# Change the sentence below to see your prediction. Make sure all the words are in the Glove embeddings.  \n",
    "x_test = np.array(['He is not feeling well nor happy'])\n",
    "\n",
    "X_test_indices = sentences_to_indices(x_test, word_to_index, max_len)\n",
    "print(x_test[0] +' '+  label_to_emoji(np.argmax(model.predict(X_test_indices))))"
   ]
  },
  {
   "cell_type": "markdown",
   "metadata": {},
   "source": [
    "## LSTM version accounts for word order\n",
    "* Previously, Emojify-V1 model did not correctly label \"not feeling happy,\" but our implementation of Emojiy-V2 got it right. \n",
    "    * (Keras' outputs are slightly random each time, so you may not have obtained the same result.) \n",
    "* The current model still isn't very robust at understanding negation (such as \"not happy\")\n",
    "    * This is because the training set is small and doesn't have a lot of examples of negation. \n",
    "    * But if the training set were larger, the LSTM model would be much better than the Emojify-V1 model at understanding such complex sentences. \n"
   ]
  },
  {
   "cell_type": "markdown",
   "metadata": {},
   "source": [
    "### Congratulations!\n",
    "\n",
    "You have completed this notebook! ❤️❤️❤️\n",
    "\n",
    "\n",
    "## What you should remember\n",
    "- If you have an NLP task where the training set is small, using word embeddings can help your algorithm significantly. \n",
    "- Word embeddings allow your model to work on words in the test set that may not even appear in the training set. \n",
    "- Training sequence models in Keras (and in most other deep learning frameworks) requires a few important details:\n",
    "    - To use mini-batches, the sequences need to be **padded** so that all the examples in a mini-batch have the **same length**. \n",
    "    - An `Embedding()` layer can be initialized with pretrained values. \n",
    "        - These values can be either fixed or trained further on your dataset. \n",
    "        - If however your labeled dataset is small, it's usually not worth trying to train a large pre-trained set of embeddings.   \n",
    "    - `LSTM()` has a flag called `return_sequences` to decide if you would like to return every hidden states or only the last one. \n",
    "    - You can use `Dropout()` right after `LSTM()` to regularize your network. "
   ]
  },
  {
   "cell_type": "code",
   "execution_count": 63,
   "metadata": {},
   "outputs": [
    {
     "name": "stdout",
     "output_type": "stream",
     "text": [
      "Congratulations on finishing this assignment 😄\n"
     ]
    }
   ],
   "source": [
    "x_test = np.array([\"Congratulations on finishing this assignment\"]) # and building an Emojifier\n",
    "\n",
    "X_test_indices = sentences_to_indices(x_test, word_to_index, max_len)\n",
    "print(x_test[0] +' '+  label_to_emoji(np.argmax(model.predict(X_test_indices))))"
   ]
  },
  {
   "cell_type": "code",
   "execution_count": 64,
   "metadata": {},
   "outputs": [
    {
     "name": "stdout",
     "output_type": "stream",
     "text": [
      "We hope you are not unhappy 😞\n"
     ]
    }
   ],
   "source": [
    "x_test = np.array([\"We hope you are not unhappy\"]) # Double negation does not work\n",
    "\n",
    "X_test_indices = sentences_to_indices(x_test, word_to_index, max_len)\n",
    "print(x_test[0] +' '+  label_to_emoji(np.argmax(model.predict(X_test_indices))))"
   ]
  },
  {
   "cell_type": "markdown",
   "metadata": {},
   "source": [
    "## Acknowledgments\n",
    "\n",
    "Thanks to Alison Darcy and the Woebot team for their advice on the creation of this assignment. \n",
    "* Woebot is a chatbot friend that is ready to speak with you 24/7. \n",
    "* Part of Woebot's technology uses word embeddings to understand the emotions of what you say. \n",
    "* You can chat with Woebot by going to http://woebot.io\n",
    "\n",
    "<img src=\"images/woebot.png\" style=\"width:600px;height:300px;\">"
   ]
  }
 ],
 "metadata": {
  "coursera": {
   "course_slug": "nlp-sequence-models",
   "graded_item_id": "RNnEs",
   "launcher_item_id": "acNYU"
  },
  "kernelspec": {
   "display_name": "Python 3",
   "language": "python",
   "name": "python3"
  },
  "language_info": {
   "codemirror_mode": {
    "name": "ipython",
    "version": 3
   },
   "file_extension": ".py",
   "mimetype": "text/x-python",
   "name": "python",
   "nbconvert_exporter": "python",
   "pygments_lexer": "ipython3",
   "version": "3.7.4"
  }
 },
 "nbformat": 4,
 "nbformat_minor": 2
}
