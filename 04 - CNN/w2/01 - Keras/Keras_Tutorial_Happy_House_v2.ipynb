{
 "cells": [
  {
   "cell_type": "markdown",
   "metadata": {},
   "source": [
    "# Keras tutorial - the Happy House\n",
    "\n",
    "Welcome to the first assignment of week 2. In this assignment, you will:\n",
    "1. Learn to use Keras, a high-level neural networks API (programming framework), written in Python and capable of running on top of several lower-level frameworks including TensorFlow and CNTK. \n",
    "2. See how you can in a couple of hours build a deep learning algorithm.\n",
    "\n",
    "Why are we using Keras? Keras was developed to enable deep learning engineers to build and experiment with different models very quickly. Just as TensorFlow is a higher-level framework than Python, Keras is an even higher-level framework and provides additional abstractions. Being able to go from idea to result with the least possible delay is key to finding good models. However, Keras is more restrictive than the lower-level frameworks, so there are some very complex models that you can implement in TensorFlow but not (without more difficulty) in Keras. That being said, Keras will work fine for many common models. \n",
    "\n",
    "In this exercise, you'll work on the \"Happy House\" problem, which we'll explain below. Let's load the required packages and solve the problem of the Happy House!"
   ]
  },
  {
   "cell_type": "code",
   "execution_count": 1,
   "metadata": {},
   "outputs": [
    {
     "name": "stderr",
     "output_type": "stream",
     "text": [
      "Using TensorFlow backend.\n"
     ]
    }
   ],
   "source": [
    "import numpy as np\n",
    "\n",
    "from keras import layers\n",
    "from keras.layers import Input, Dense, Activation, ZeroPadding2D, BatchNormalization, Flatten, Conv2D\n",
    "from keras.layers import AveragePooling2D, MaxPooling2D, Dropout, GlobalMaxPooling2D, GlobalAveragePooling2D\n",
    "from keras.models import Model\n",
    "from keras.preprocessing import image\n",
    "from keras.utils import layer_utils\n",
    "from keras.utils.data_utils import get_file\n",
    "from keras.applications.imagenet_utils import preprocess_input\n",
    "\n",
    "import pydot\n",
    "from IPython.display import SVG\n",
    "from keras.utils.vis_utils import model_to_dot\n",
    "from keras.utils import plot_model\n",
    "from kt_utils import *\n",
    "\n",
    "import keras.backend as K\n",
    "K.set_image_data_format('channels_last')\n",
    "import matplotlib.pyplot as plt\n",
    "from matplotlib.pyplot import imshow\n",
    "\n",
    "%matplotlib inline"
   ]
  },
  {
   "cell_type": "markdown",
   "metadata": {},
   "source": [
    "**Note**: As you can see, we've imported a lot of functions from Keras. You can use them easily just by calling them directly in the notebook. Ex: `X = Input(...)` or `X = ZeroPadding2D(...)`."
   ]
  },
  {
   "cell_type": "markdown",
   "metadata": {},
   "source": [
    "## 1. The Happy House \n",
    "\n",
    "For your next vacation, you decided to spend a week with five of your friends from school. It is a very convenient house with many things to do nearby. But the most important benefit is that everybody has commited to be happy when they are in the house. So anyone wanting to enter the house must prove their current state of happiness.\n",
    "\n",
    "<img src=\"images/happy-house.jpg\" style=\"width:350px;height:270px;\">\n",
    "<caption><center><font color='purple'><b>Figure 1</b><font color='purple'>: <b>the Happy House</b></center></caption>\n",
    "\n",
    "\n",
    "As a deep learning expert, to make sure the \"Happy\" rule is strictly applied, you are going to build an algorithm which that uses pictures from the front door camera to check if the person is happy or not. The door should open only if the person is happy. \n",
    "\n",
    "You have gathered pictures of your friends and yourself, taken by the front-door camera. The dataset is labbeled. \n",
    "\n",
    "<img src=\"images/house-members.png\" style=\"width:550px;height:250px;\">\n",
    "\n",
    "Run the following code to normalize the dataset and learn about its shapes."
   ]
  },
  {
   "cell_type": "code",
   "execution_count": 2,
   "metadata": {},
   "outputs": [
    {
     "name": "stdout",
     "output_type": "stream",
     "text": [
      "number of training examples =  600\n",
      "number of test examples =  150\n",
      "X_train shape:  (600, 64, 64, 3)\n",
      "Y_train shape:  (600, 1)\n",
      "X_test shape:  (150, 64, 64, 3)\n",
      "Y_test shape:  (150, 1)\n"
     ]
    }
   ],
   "source": [
    "X_train_orig, Y_train_orig, X_test_orig, Y_test_orig, classes = load_dataset()\n",
    "\n",
    "# Normalize image vectors\n",
    "X_train = X_train_orig/255.\n",
    "X_test = X_test_orig/255.\n",
    "\n",
    "# Reshape\n",
    "Y_train = Y_train_orig.T\n",
    "Y_test = Y_test_orig.T\n",
    "\n",
    "print(\"number of training examples = \", str(X_train.shape[0]))\n",
    "print(\"number of test examples = \", str(X_test.shape[0]))\n",
    "print(\"X_train shape: \", str(X_train.shape))\n",
    "print(\"Y_train shape: \", str(Y_train.shape))\n",
    "print(\"X_test shape: \", str(X_test.shape))\n",
    "print(\"Y_test shape: \", str(Y_test.shape))"
   ]
  },
  {
   "cell_type": "markdown",
   "metadata": {},
   "source": [
    "**Details of the \"Happy\" dataset**:\n",
    "- Images are of shape (64, 64, 3)\n",
    "- Training: 600 pictures\n",
    "- Test: 150 pictures\n",
    "\n",
    "It is now time to solve the \"Happy\" Challenge."
   ]
  },
  {
   "cell_type": "markdown",
   "metadata": {},
   "source": [
    "## 2. Building a model in Keras\n",
    "\n",
    "Keras is very good for rapid prototyping. In just a short time you will be able to build a model that achieves outstanding results.\n",
    "\n",
    "Here is an example of a model in Keras:\n",
    "\n",
    "```python\n",
    "def model(input_shape):\n",
    "    # Define the input placeholder as a tensor with shape input_shape. Think of this as your input image!\n",
    "    X_input = Input(input_shape)\n",
    "\n",
    "    # Zero-Padding: pads the border of X_input with zeroes\n",
    "    X = ZeroPadding2D((3, 3))(X_input)\n",
    "\n",
    "    # CONV -> BN -> RELU Block applied to X\n",
    "    X = Conv2D(32, (7, 7), strides=(1, 1), name='conv0')(X)\n",
    "    X = BatchNormalization(axis=3, name='bn0')(X)\n",
    "    X = Activation('relu')(X)\n",
    "\n",
    "    # MAXPOOL\n",
    "    X = MaxPooling2D((2, 2), name='max_pool')(X)\n",
    "\n",
    "    # FLATTEN X (means convert it to a vector) + FULLYCONNECTED\n",
    "    X = Flatten()(X)\n",
    "    X = Dense(1, activation='sigmoid', name='fc')(X)\n",
    "\n",
    "    # Create model. This creates your Keras model instance, you'll use this instance to train/test the model.\n",
    "    model = Model(inputs=X_input, outputs=X, name='HappyModel')\n",
    "    \n",
    "    return model\n",
    "```\n",
    "\n",
    "Note that Keras uses a different convention with variable names than we've previously used with numpy and TensorFlow. In particular, rather than creating and assigning a new variable on each step of forward propagation such as `X`, `Z1`, `A1`, `Z2`, `A2`, etc. for the computations for the different layers, in Keras code each line above just reassigns `X` to a new value using `X = ...`. In other words, during each step of forward propagation, we are just writing the latest value in the computation into the same variable `X`. The only exception was `X_input`, which we kept separate and did not overwrite, since we needed it at the end to create the Keras model instance (`model = Model(inputs=X_input, ...)` above). \n",
    "\n",
    "**Exercise**:  \n",
    "Implement a `HappyModel()`. This assignment is more open-ended than most. We suggest that you start by implementing a model using the architecture we suggest, and run through the rest of this assignment using that as your initial model. But after that, come back and take initiative to try out other model architectures. For example, you might take inspiration from the model above, but then vary the network architecture and hyperparameters however you wish. You can also use other functions such as `AveragePooling2D()`, `GlobalMaxPooling2D()`, `Dropout()`. \n",
    "\n",
    "**Note**: You have to be careful with your data's shapes. Use what you've learned in the videos to make sure your convolutional, pooling and fully-connected layers are adapted to the volumes you're applying it to."
   ]
  },
  {
   "cell_type": "code",
   "execution_count": 3,
   "metadata": {},
   "outputs": [],
   "source": [
    "# GRADED FUNCTION: HappyModel\n",
    "\n",
    "def HappyModelV1(input_shape):\n",
    "    \"\"\"\n",
    "    Implementation of the HappyModel.\n",
    "    \n",
    "    Arguments:\n",
    "    input_shape -- shape of the images of the dataset\n",
    "\n",
    "    Returns:\n",
    "    model -- a Model() instance in Keras\n",
    "    \"\"\"\n",
    "    \n",
    "    ### START CODE HERE ###\n",
    "    # Feel free to use the suggested outline in the text above to get started, and run through the whole\n",
    "    # exercise (including the later portions of this notebook) once. The come back also try out other\n",
    "    # network architectures as well. \n",
    "    X_input = Input(input_shape)\n",
    "    \n",
    "    # Padding\n",
    "    X = ZeroPadding2D((3, 3))(X_input) \n",
    "    \n",
    "    # CONV -> BN -> RELU Block applied to X\n",
    "    X = Conv2D(32, (5, 5), strides=(1, 1), name='conv0')(X)  # 32 filters 5x5\n",
    "    X = Activation('relu')(X)\n",
    "    \n",
    "    # MAXPOOL\n",
    "    X = MaxPooling2D((2, 2), name='max_pool')(X)\n",
    "    \n",
    "    # 2 CONV -> BN -> RELU Block applied to X\n",
    "    X = Conv2D(64, (3, 3), strides=(1, 1), name='conv1')(X)\n",
    "    X = Activation('relu')(X)\n",
    "    \n",
    "    # 2 - MAXPOOL\n",
    "    X = MaxPooling2D((2, 2), name='max_pool2')(X)\n",
    "    \n",
    "    # FLATTEN X (means convert it to a vector) + FC (aka Dense)\n",
    "    X = Flatten()(X)\n",
    "    X = Dense(1, activation='sigmoid', name='fc')(X)\n",
    "    \n",
    "    # Create model. This creates your Keras model instance, you'll use this instance to train/test the model.\n",
    "    model = Model(inputs=X_input, outputs=X, name='HappyHouseModel')\n",
    "    ### END CODE HERE ###\n",
    "    \n",
    "    return model"
   ]
  },
  {
   "cell_type": "code",
   "execution_count": 4,
   "metadata": {},
   "outputs": [],
   "source": [
    "def HappyModelV2(input_shape):\n",
    "    \"\"\"\n",
    "    Implementation of the HappyModel.\n",
    "    \n",
    "    Arguments:\n",
    "    input_shape -- shape of the images of the dataset\n",
    "\n",
    "    Returns:\n",
    "    model -- a Model() instance in Keras\n",
    "    \"\"\"\n",
    "    \n",
    "    ### CODE HERE:\n",
    "    X_input = Input(input_shape)\n",
    "    \n",
    "    # Padding\n",
    "    X = ZeroPadding2D((3, 3))(X_input) \n",
    "    \n",
    "    # CONV -> BN -> RELU Block applied to X\n",
    "    X = Conv2D(32, (5, 5), strides=(1, 1), name='conv0')(X)  # 32 filters 5x5\n",
    "    X = BatchNormalization(axis=3, name='bn0')(X)\n",
    "    X = Activation('relu')(X)\n",
    "    \n",
    "    # MAXPOOL\n",
    "    X = MaxPooling2D(pool_size=(2, 2), strides=(2, 2), name='max_pool')(X)\n",
    "    \n",
    "    # 2 CONV -> BN -> RELU Block applied to X\n",
    "    X = Conv2D(64, (3, 3), strides=(1, 1), name='conv1')(X)\n",
    "    X = BatchNormalization(axis=3, name = 'bn1')(X)\n",
    "    X = Activation('relu')(X)\n",
    "    \n",
    "    # 2 - MAXPOOL\n",
    "    X = MaxPooling2D(pool_size=(2, 2), strides=(2, 2), name='max_pool2')(X)\n",
    "    \n",
    "    # FLATTEN X (means convert it to a vector) + Dropout + FC (aka Dense)\n",
    "    X = Flatten()(X)\n",
    "    X = Dropout(0.5)(X)\n",
    "    X = Dense(1, activation='sigmoid', name='fc')(X)\n",
    "    \n",
    "    # Create model. This creates your Keras model instance, you'll use this instance to train/test the model.\n",
    "    model = Model(inputs=X_input, outputs=X, name='HappyHouseModel')\n",
    "    \n",
    "    return model"
   ]
  },
  {
   "cell_type": "markdown",
   "metadata": {},
   "source": [
    "You have now built a function to describe your model. To train and test this model, there are four steps in Keras:\n",
    "1. Create the model by calling the function above\n",
    "2. Compile the model by calling `model.compile(optimizer = \"...\", loss = \"...\", metrics = [\"accuracy\"])`\n",
    "3. Train the model on train data by calling `model.fit(x = ..., y = ..., epochs = ..., batch_size = ...)`\n",
    "4. Test the model on test data by calling `model.evaluate(x = ..., y = ...)`\n",
    "\n",
    "If you want to know more about `model.compile()`, `model.fit()`, `model.evaluate()` and their arguments, refer to the official [Keras documentation](https://keras.io/models/model/).\n",
    "\n",
    "**Exercise**: Implement step 1, i.e. create the model."
   ]
  },
  {
   "cell_type": "markdown",
   "metadata": {},
   "source": [
    "### 1. Create the model\n",
    "\n",
    "**Exercise**: Implement step 1 (above), i.e. create the model."
   ]
  },
  {
   "cell_type": "code",
   "execution_count": 5,
   "metadata": {},
   "outputs": [
    {
     "name": "stderr",
     "output_type": "stream",
     "text": [
      "WARNING: Logging before flag parsing goes to stderr.\n",
      "W0407 10:44:12.682982 139872907642688 deprecation.py:506] From /home/pascal/Projects/ML_DL/anaconda3/envs/tensorflow_keras_gpuenv/lib/python3.7/site-packages/tensorflow_core/python/ops/resource_variable_ops.py:1630: calling BaseResourceVariable.__init__ (from tensorflow.python.ops.resource_variable_ops) with constraint is deprecated and will be removed in a future version.\n",
      "Instructions for updating:\n",
      "If using Keras pass *_constraint arguments to layers.\n",
      "W0407 10:44:12.688800 139872907642688 module_wrapper.py:139] From /home/pascal/Projects/ML_DL/anaconda3/envs/tensorflow_keras_gpuenv/lib/python3.7/site-packages/keras/backend/tensorflow_backend.py:4070: The name tf.nn.max_pool is deprecated. Please use tf.nn.max_pool2d instead.\n",
      "\n"
     ]
    }
   ],
   "source": [
    "### CODE HERE:\n",
    "happy_model_v1 = HappyModelV1(X_train[0,].shape)\n",
    "happy_model_v2 = HappyModelV2(X_train[0,].shape)"
   ]
  },
  {
   "cell_type": "code",
   "execution_count": 6,
   "metadata": {},
   "outputs": [
    {
     "name": "stdout",
     "output_type": "stream",
     "text": [
      "Model: \"HappyHouseModel\"\n",
      "_________________________________________________________________\n",
      "Layer (type)                 Output Shape              Param #   \n",
      "=================================================================\n",
      "input_1 (InputLayer)         (None, 64, 64, 3)         0         \n",
      "_________________________________________________________________\n",
      "zero_padding2d_1 (ZeroPaddin (None, 70, 70, 3)         0         \n",
      "_________________________________________________________________\n",
      "conv0 (Conv2D)               (None, 66, 66, 32)        2432      \n",
      "_________________________________________________________________\n",
      "activation_1 (Activation)    (None, 66, 66, 32)        0         \n",
      "_________________________________________________________________\n",
      "max_pool (MaxPooling2D)      (None, 33, 33, 32)        0         \n",
      "_________________________________________________________________\n",
      "conv1 (Conv2D)               (None, 31, 31, 64)        18496     \n",
      "_________________________________________________________________\n",
      "activation_2 (Activation)    (None, 31, 31, 64)        0         \n",
      "_________________________________________________________________\n",
      "max_pool2 (MaxPooling2D)     (None, 15, 15, 64)        0         \n",
      "_________________________________________________________________\n",
      "flatten_1 (Flatten)          (None, 14400)             0         \n",
      "_________________________________________________________________\n",
      "fc (Dense)                   (None, 1)                 14401     \n",
      "=================================================================\n",
      "Total params: 35,329\n",
      "Trainable params: 35,329\n",
      "Non-trainable params: 0\n",
      "_________________________________________________________________\n"
     ]
    }
   ],
   "source": [
    "happy_model_v1.summary()"
   ]
  },
  {
   "cell_type": "code",
   "execution_count": 7,
   "metadata": {},
   "outputs": [
    {
     "name": "stdout",
     "output_type": "stream",
     "text": [
      "Model: \"HappyHouseModel\"\n",
      "_________________________________________________________________\n",
      "Layer (type)                 Output Shape              Param #   \n",
      "=================================================================\n",
      "input_2 (InputLayer)         (None, 64, 64, 3)         0         \n",
      "_________________________________________________________________\n",
      "zero_padding2d_2 (ZeroPaddin (None, 70, 70, 3)         0         \n",
      "_________________________________________________________________\n",
      "conv0 (Conv2D)               (None, 66, 66, 32)        2432      \n",
      "_________________________________________________________________\n",
      "bn0 (BatchNormalization)     (None, 66, 66, 32)        128       \n",
      "_________________________________________________________________\n",
      "activation_3 (Activation)    (None, 66, 66, 32)        0         \n",
      "_________________________________________________________________\n",
      "max_pool (MaxPooling2D)      (None, 33, 33, 32)        0         \n",
      "_________________________________________________________________\n",
      "conv1 (Conv2D)               (None, 31, 31, 64)        18496     \n",
      "_________________________________________________________________\n",
      "bn1 (BatchNormalization)     (None, 31, 31, 64)        256       \n",
      "_________________________________________________________________\n",
      "activation_4 (Activation)    (None, 31, 31, 64)        0         \n",
      "_________________________________________________________________\n",
      "max_pool2 (MaxPooling2D)     (None, 15, 15, 64)        0         \n",
      "_________________________________________________________________\n",
      "flatten_2 (Flatten)          (None, 14400)             0         \n",
      "_________________________________________________________________\n",
      "dropout_1 (Dropout)          (None, 14400)             0         \n",
      "_________________________________________________________________\n",
      "fc (Dense)                   (None, 1)                 14401     \n",
      "=================================================================\n",
      "Total params: 35,713\n",
      "Trainable params: 35,521\n",
      "Non-trainable params: 192\n",
      "_________________________________________________________________\n"
     ]
    }
   ],
   "source": [
    "happy_model_v2.summary()"
   ]
  },
  {
   "cell_type": "markdown",
   "metadata": {},
   "source": [
    "### 2. Compile the model\n",
    "\n",
    "**Exercise**: \n",
    "Implement step 2, i.e. compile the model to configure the learning process. Choose the 3 arguments of `compile()` wisely.  \n",
    "\n",
    "Hint: the Happy Challenge is a binary classification problem."
   ]
  },
  {
   "cell_type": "code",
   "execution_count": 8,
   "metadata": {},
   "outputs": [
    {
     "name": "stderr",
     "output_type": "stream",
     "text": [
      "W0407 10:44:13.553861 139872907642688 deprecation.py:323] From /home/pascal/Projects/ML_DL/anaconda3/envs/tensorflow_keras_gpuenv/lib/python3.7/site-packages/tensorflow_core/python/ops/nn_impl.py:183: where (from tensorflow.python.ops.array_ops) is deprecated and will be removed in a future version.\n",
      "Instructions for updating:\n",
      "Use tf.where in 2.0, which has the same broadcast rule as np.where\n"
     ]
    }
   ],
   "source": [
    "### CODE HERE:\n",
    "# https://keras.io/optimizers/\n",
    "# https://keras.io/losses/\n",
    "\n",
    "from keras import optimizers\n",
    "\n",
    "adam_opt1 = optimizers.Adam(lr=0.002, beta_1=0.9, beta_2=0.999, epsilon=1e-8, decay=0.0)\n",
    "adam_opt2 = optimizers.Adam(lr=0.004, beta_1=0.9, beta_2=0.999, epsilon=1e-8, decay=0.0)\n",
    "\n",
    "happy_model_v1.compile(optimizer=adam_opt1, loss='binary_crossentropy', metrics=[\"accuracy\"])\n",
    "happy_model_v2.compile(optimizer=adam_opt2, loss='binary_crossentropy', metrics=[\"accuracy\"])"
   ]
  },
  {
   "cell_type": "markdown",
   "metadata": {},
   "source": [
    "### 3. Train the model\n",
    "\n",
    "**Exercise**:  \n",
    "Implement step 3, i.e. train the model. Choose the number of epochs and the batch size."
   ]
  },
  {
   "cell_type": "code",
   "execution_count": 9,
   "metadata": {
    "scrolled": true
   },
   "outputs": [
    {
     "name": "stderr",
     "output_type": "stream",
     "text": [
      "W0407 10:44:13.869904 139872907642688 module_wrapper.py:139] From /home/pascal/Projects/ML_DL/anaconda3/envs/tensorflow_keras_gpuenv/lib/python3.7/site-packages/keras/backend/tensorflow_backend.py:422: The name tf.global_variables is deprecated. Please use tf.compat.v1.global_variables instead.\n",
      "\n"
     ]
    },
    {
     "name": "stdout",
     "output_type": "stream",
     "text": [
      "Epoch 1/36\n",
      "600/600 [==============================] - 1s 2ms/step - loss: 0.7031 - accuracy: 0.5100\n",
      "Epoch 2/36\n",
      "600/600 [==============================] - 0s 276us/step - loss: 0.6244 - accuracy: 0.6117\n",
      "Epoch 3/36\n",
      "600/600 [==============================] - 0s 295us/step - loss: 0.4318 - accuracy: 0.8067\n",
      "Epoch 4/36\n",
      "600/600 [==============================] - 0s 299us/step - loss: 0.2743 - accuracy: 0.8850\n",
      "Epoch 5/36\n",
      "600/600 [==============================] - 0s 317us/step - loss: 0.2258 - accuracy: 0.9133\n",
      "Epoch 6/36\n",
      "600/600 [==============================] - 0s 326us/step - loss: 0.1678 - accuracy: 0.9317\n",
      "Epoch 7/36\n",
      "600/600 [==============================] - 0s 301us/step - loss: 0.1464 - accuracy: 0.9367\n",
      "Epoch 8/36\n",
      "600/600 [==============================] - 0s 280us/step - loss: 0.1180 - accuracy: 0.9633\n",
      "Epoch 9/36\n",
      "600/600 [==============================] - 0s 281us/step - loss: 0.1165 - accuracy: 0.9617\n",
      "Epoch 10/36\n",
      "600/600 [==============================] - 0s 293us/step - loss: 0.0894 - accuracy: 0.9733\n",
      "Epoch 11/36\n",
      "600/600 [==============================] - 0s 315us/step - loss: 0.0822 - accuracy: 0.9750\n",
      "Epoch 12/36\n",
      "600/600 [==============================] - 0s 323us/step - loss: 0.0664 - accuracy: 0.9817\n",
      "Epoch 13/36\n",
      "600/600 [==============================] - 0s 304us/step - loss: 0.1164 - accuracy: 0.9550\n",
      "Epoch 14/36\n",
      "600/600 [==============================] - 0s 277us/step - loss: 0.1104 - accuracy: 0.9567\n",
      "Epoch 15/36\n",
      "600/600 [==============================] - 0s 297us/step - loss: 0.0893 - accuracy: 0.9650\n",
      "Epoch 16/36\n",
      "600/600 [==============================] - 0s 308us/step - loss: 0.0885 - accuracy: 0.9700\n",
      "Epoch 17/36\n",
      "600/600 [==============================] - 0s 301us/step - loss: 0.0618 - accuracy: 0.9817\n",
      "Epoch 18/36\n",
      "600/600 [==============================] - 0s 297us/step - loss: 0.0526 - accuracy: 0.9833\n",
      "Epoch 19/36\n",
      "600/600 [==============================] - 0s 297us/step - loss: 0.0651 - accuracy: 0.9833\n",
      "Epoch 20/36\n",
      "600/600 [==============================] - 0s 296us/step - loss: 0.0375 - accuracy: 0.9883\n",
      "Epoch 21/36\n",
      "600/600 [==============================] - 0s 300us/step - loss: 0.0433 - accuracy: 0.9867\n",
      "Epoch 22/36\n",
      "600/600 [==============================] - 0s 301us/step - loss: 0.0564 - accuracy: 0.9800\n",
      "Epoch 23/36\n",
      "600/600 [==============================] - 0s 299us/step - loss: 0.0310 - accuracy: 0.9917\n",
      "Epoch 24/36\n",
      "600/600 [==============================] - 0s 300us/step - loss: 0.0263 - accuracy: 0.9950\n",
      "Epoch 25/36\n",
      "600/600 [==============================] - 0s 305us/step - loss: 0.0272 - accuracy: 0.9917\n",
      "Epoch 26/36\n",
      "600/600 [==============================] - 0s 332us/step - loss: 0.0684 - accuracy: 0.9783\n",
      "Epoch 27/36\n",
      "600/600 [==============================] - 0s 307us/step - loss: 0.0299 - accuracy: 0.9917\n",
      "Epoch 28/36\n",
      "600/600 [==============================] - 0s 313us/step - loss: 0.0202 - accuracy: 0.9967\n",
      "Epoch 29/36\n",
      "600/600 [==============================] - 0s 279us/step - loss: 0.0223 - accuracy: 0.9933\n",
      "Epoch 30/36\n",
      "600/600 [==============================] - 0s 306us/step - loss: 0.0472 - accuracy: 0.9833\n",
      "Epoch 31/36\n",
      "600/600 [==============================] - 0s 316us/step - loss: 0.0207 - accuracy: 0.9950\n",
      "Epoch 32/36\n",
      "600/600 [==============================] - 0s 312us/step - loss: 0.0146 - accuracy: 0.9967\n",
      "Epoch 33/36\n",
      "600/600 [==============================] - 0s 316us/step - loss: 0.0158 - accuracy: 0.9967\n",
      "Epoch 34/36\n",
      "600/600 [==============================] - 0s 313us/step - loss: 0.0170 - accuracy: 0.9950\n",
      "Epoch 35/36\n",
      "600/600 [==============================] - 0s 313us/step - loss: 0.0199 - accuracy: 0.9967\n",
      "Epoch 36/36\n",
      "600/600 [==============================] - 0s 316us/step - loss: 0.0173 - accuracy: 0.9983\n"
     ]
    }
   ],
   "source": [
    "### CODE HERE:\n",
    "history1 = happy_model_v1.fit(x=X_train, y=Y_train, epochs=36, batch_size=16, verbose=1)"
   ]
  },
  {
   "cell_type": "code",
   "execution_count": 10,
   "metadata": {
    "scrolled": true
   },
   "outputs": [
    {
     "name": "stdout",
     "output_type": "stream",
     "text": [
      "Epoch 1/36\n",
      "600/600 [==============================] - 0s 734us/step - loss: 2.5204 - accuracy: 0.6383\n",
      "Epoch 2/36\n",
      "600/600 [==============================] - 0s 337us/step - loss: 0.8970 - accuracy: 0.7850\n",
      "Epoch 3/36\n",
      "600/600 [==============================] - 0s 346us/step - loss: 0.4234 - accuracy: 0.8567\n",
      "Epoch 4/36\n",
      "600/600 [==============================] - 0s 385us/step - loss: 0.2070 - accuracy: 0.9233\n",
      "Epoch 5/36\n",
      "600/600 [==============================] - 0s 389us/step - loss: 0.2072 - accuracy: 0.9250\n",
      "Epoch 6/36\n",
      "600/600 [==============================] - 0s 378us/step - loss: 0.1934 - accuracy: 0.9217\n",
      "Epoch 7/36\n",
      "600/600 [==============================] - 0s 412us/step - loss: 0.1710 - accuracy: 0.9450\n",
      "Epoch 8/36\n",
      "600/600 [==============================] - 0s 412us/step - loss: 0.1304 - accuracy: 0.9483\n",
      "Epoch 9/36\n",
      "600/600 [==============================] - 0s 402us/step - loss: 0.1435 - accuracy: 0.9483\n",
      "Epoch 10/36\n",
      "600/600 [==============================] - 0s 382us/step - loss: 0.1164 - accuracy: 0.9600\n",
      "Epoch 11/36\n",
      "600/600 [==============================] - 0s 358us/step - loss: 0.1077 - accuracy: 0.9617\n",
      "Epoch 12/36\n",
      "600/600 [==============================] - 0s 382us/step - loss: 0.0980 - accuracy: 0.9633\n",
      "Epoch 13/36\n",
      "600/600 [==============================] - 0s 363us/step - loss: 0.1430 - accuracy: 0.9467\n",
      "Epoch 14/36\n",
      "600/600 [==============================] - 0s 363us/step - loss: 0.0997 - accuracy: 0.9633\n",
      "Epoch 15/36\n",
      "600/600 [==============================] - 0s 363us/step - loss: 0.0920 - accuracy: 0.9733\n",
      "Epoch 16/36\n",
      "600/600 [==============================] - 0s 381us/step - loss: 0.0954 - accuracy: 0.9633\n",
      "Epoch 17/36\n",
      "600/600 [==============================] - 0s 420us/step - loss: 0.1415 - accuracy: 0.9450\n",
      "Epoch 18/36\n",
      "600/600 [==============================] - 0s 423us/step - loss: 0.1223 - accuracy: 0.9583\n",
      "Epoch 19/36\n",
      "600/600 [==============================] - 0s 416us/step - loss: 0.2351 - accuracy: 0.9300\n",
      "Epoch 20/36\n",
      "600/600 [==============================] - 0s 350us/step - loss: 0.0873 - accuracy: 0.9650\n",
      "Epoch 21/36\n",
      "600/600 [==============================] - 0s 384us/step - loss: 0.1527 - accuracy: 0.9517\n",
      "Epoch 22/36\n",
      "600/600 [==============================] - 0s 392us/step - loss: 0.0881 - accuracy: 0.9633\n",
      "Epoch 23/36\n",
      "600/600 [==============================] - 0s 399us/step - loss: 0.0828 - accuracy: 0.9667\n",
      "Epoch 24/36\n",
      "600/600 [==============================] - 0s 397us/step - loss: 0.0953 - accuracy: 0.9717\n",
      "Epoch 25/36\n",
      "600/600 [==============================] - 0s 393us/step - loss: 0.0456 - accuracy: 0.9833\n",
      "Epoch 26/36\n",
      "600/600 [==============================] - 0s 393us/step - loss: 0.1168 - accuracy: 0.9600\n",
      "Epoch 27/36\n",
      "600/600 [==============================] - 0s 393us/step - loss: 0.1155 - accuracy: 0.9517\n",
      "Epoch 28/36\n",
      "600/600 [==============================] - 0s 409us/step - loss: 0.0543 - accuracy: 0.9783\n",
      "Epoch 29/36\n",
      "600/600 [==============================] - 0s 408us/step - loss: 0.0401 - accuracy: 0.9917\n",
      "Epoch 30/36\n",
      "600/600 [==============================] - 0s 408us/step - loss: 0.0487 - accuracy: 0.9800\n",
      "Epoch 31/36\n",
      "600/600 [==============================] - 0s 411us/step - loss: 0.0680 - accuracy: 0.9767\n",
      "Epoch 32/36\n",
      "600/600 [==============================] - 0s 410us/step - loss: 0.0364 - accuracy: 0.9850\n",
      "Epoch 33/36\n",
      "600/600 [==============================] - 0s 411us/step - loss: 0.0748 - accuracy: 0.9800\n",
      "Epoch 34/36\n",
      "600/600 [==============================] - 0s 331us/step - loss: 0.0718 - accuracy: 0.9867\n",
      "Epoch 35/36\n",
      "600/600 [==============================] - 0s 341us/step - loss: 0.0595 - accuracy: 0.9850\n",
      "Epoch 36/36\n",
      "600/600 [==============================] - 0s 384us/step - loss: 0.0440 - accuracy: 0.9833\n"
     ]
    }
   ],
   "source": [
    "history2 = happy_model_v2.fit(x=X_train, y=Y_train, epochs=36, batch_size=16, verbose=1)"
   ]
  },
  {
   "cell_type": "code",
   "execution_count": 11,
   "metadata": {},
   "outputs": [
    {
     "data": {
      "text/plain": [
       "dict_keys(['loss', 'accuracy'])"
      ]
     },
     "execution_count": 11,
     "metadata": {},
     "output_type": "execute_result"
    }
   ],
   "source": [
    "history2.history.keys()"
   ]
  },
  {
   "cell_type": "code",
   "execution_count": 12,
   "metadata": {},
   "outputs": [
    {
     "data": {
      "image/png": "[encoded data removed]",
      "text/plain": [
       "<Figure size 432x288 with 1 Axes>"
      ]
     },
     "metadata": {
      "needs_background": "light"
     },
     "output_type": "display_data"
    },
    {
     "data": {
      "image/png": "[encoded data removed]",
      "text/plain": [
       "<Figure size 432x288 with 1 Axes>"
      ]
     },
     "metadata": {
      "needs_background": "light"
     },
     "output_type": "display_data"
    }
   ],
   "source": [
    "# Plot training accuracy values\n",
    "plt.plot(history1.history['accuracy'])\n",
    "# plt.plot(history.history['val_accuracy'])\n",
    "plt.title('Model accuracy')\n",
    "plt.ylabel('Accuracy')\n",
    "plt.xlabel('Epoch')\n",
    "plt.legend(['Train'], loc='upper left') # plt.legend(['Train', 'Test'], loc='upper left')\n",
    "plt.show()\n",
    "\n",
    "# Plot training loss values\n",
    "plt.plot(history1.history['loss'])\n",
    "# plt.plot(history.history['val_loss'])\n",
    "plt.title('Model loss')\n",
    "plt.ylabel('Loss')\n",
    "plt.xlabel('Epoch')\n",
    "plt.legend(['Train'], loc='upper left') # plt.legend(['Train', 'Test'], loc='upper left')\n",
    "plt.show()"
   ]
  },
  {
   "cell_type": "code",
   "execution_count": 13,
   "metadata": {},
   "outputs": [
    {
     "data": {
      "image/png": "[encoded data removed]",
      "text/plain": [
       "<Figure size 432x288 with 1 Axes>"
      ]
     },
     "metadata": {
      "needs_background": "light"
     },
     "output_type": "display_data"
    },
    {
     "data": {
      "image/png": "[encoded data removed]",
      "text/plain": [
       "<Figure size 432x288 with 1 Axes>"
      ]
     },
     "metadata": {
      "needs_background": "light"
     },
     "output_type": "display_data"
    }
   ],
   "source": [
    "# Plot training accuracy values\n",
    "plt.plot(history2.history['accuracy'])\n",
    "plt.title('Model accuracy')\n",
    "plt.ylabel('Accuracy')\n",
    "plt.xlabel('Epoch')\n",
    "plt.legend(['Train'], loc='upper left')\n",
    "plt.show()\n",
    "\n",
    "# Plot training loss values\n",
    "plt.plot(history2.history['loss'])\n",
    "plt.title('Model loss')\n",
    "plt.ylabel('Loss')\n",
    "plt.xlabel('Epoch')\n",
    "plt.legend(['Train'], loc='upper left')\n",
    "plt.show()"
   ]
  },
  {
   "cell_type": "markdown",
   "metadata": {},
   "source": [
    "### 4. Test/Evaluate  the model\n",
    "\n",
    "Note that if you run `fit()` again, the `model` will continue to train with the parameters it has already learnt instead of reinitializing them.\n",
    "\n",
    "**Exercise**: Implement step 4, i.e. test/evaluate the model."
   ]
  },
  {
   "cell_type": "code",
   "execution_count": 14,
   "metadata": {
    "scrolled": true
   },
   "outputs": [
    {
     "name": "stdout",
     "output_type": "stream",
     "text": [
      "150/150 [==============================] - 0s 621us/step\n",
      "\n",
      "Loss          = 0.16530\n",
      "Test Accuracy = 0.94000\n"
     ]
    }
   ],
   "source": [
    "### CODE HERE:\n",
    "predictions_v1 = happy_model_v1.evaluate(x=X_test, y=Y_test, verbose=1)\n",
    "\n",
    "print()\n",
    "print(\"Loss          = {:1.5f}\".format(predictions_v1[0]))\n",
    "print(\"Test Accuracy = {:1.5f}\".format(predictions_v1[1]))"
   ]
  },
  {
   "cell_type": "code",
   "execution_count": 15,
   "metadata": {},
   "outputs": [
    {
     "name": "stdout",
     "output_type": "stream",
     "text": [
      "150/150 [==============================] - 0s 477us/step\n",
      "\n",
      "Loss          = 0.06500\n",
      "Test Accuracy = 0.97333\n"
     ]
    }
   ],
   "source": [
    "predictions_v2 = happy_model_v2.evaluate(x=X_test, y=Y_test, verbose=1)\n",
    "\n",
    "print()\n",
    "print(\"Loss          = {:1.5f}\".format(predictions_v2[0]))\n",
    "print(\"Test Accuracy = {:1.5f}\".format(predictions_v2[1]))"
   ]
  },
  {
   "cell_type": "markdown",
   "metadata": {},
   "source": [
    "If your `happyModel()` function worked, you should have observed much better than random-guessing (50%) accuracy on the train and test sets.\n",
    "\n",
    "To give you a point of comparison, our model gets around **95% test accuracy in 40 epochs** (and 99% train accuracy) with \n",
    "- a mini batch size of 16 and \n",
    "- \"adam\" optimizer. \n",
    "\n",
    "But our model gets decent accuracy after just 2-5 epochs, so if you're comparing different models you can also train a variety of models on just a few epochs and see how they compare. \n",
    "\n",
    "If you have not yet achieved a very good accuracy (let's say more than 80%), here're some things you can play around with to try to achieve it:\n",
    "\n",
    "- Try using blocks of CONV->BATCHNORM->RELU such as:\n",
    "```python\n",
    "X = Conv2D(32, (3, 3), strides = (1, 1), name = 'conv0')(X)\n",
    "X = BatchNormalization(axis = 3, name = 'bn0')(X)\n",
    "X = Activation('relu')(X)\n",
    "```\n",
    "until your height and width dimensions are quite low and your number of channels quite large (≈32 for example). You are encoding useful information in a volume with a lot of channels. You can then flatten the volume and use a fully-connected layer.\n",
    "- You can use MAXPOOL after such blocks. It will help you lower the dimension in height and width.\n",
    "- Change your optimizer. We find Adam works well. \n",
    "- If the model is struggling to run and you get memory issues, lower your batch_size (12 is usually a good compromise)\n",
    "- Run on more epochs, until you see the train accuracy plateau-ing. \n",
    "\n",
    "Even if you have achieved a good accuracy, please feel free to keep playing with your model to try to get even better results. \n",
    "\n",
    "**Note**: If you perform hyperparameter tuning on your model, the test set actually becomes a dev set, and your model might end up overfitting to the test (dev) set. But just for the purpose of this assignment, we won't worry about that here."
   ]
  },
  {
   "cell_type": "markdown",
   "metadata": {},
   "source": [
    "## 3. Conclusion\n",
    "\n",
    "Congratulations, you have solved the Happy House challenge! \n",
    "\n",
    "Now, you just need to link this model to the front-door camera of your house. We unfortunately won't go into the details of how to do that here. "
   ]
  },
  {
   "cell_type": "markdown",
   "metadata": {},
   "source": [
    "<font color='blue'>\n",
    "    <b>What we would like you to remember from this assignment</b>:  \n",
    "<ul>\n",
    "<li>Keras is a tool we recommend for rapid prototyping. It allows you to quickly try out different model architectures. Are there any applications of deep learning to your daily life that you'd like to implement using Keras?</li>\n",
    "<li>Remember how to code a model in Keras and the four steps leading to the evaluation of your model on the test set. Create->Compile->Fit/Train->Evaluate/Test.</li>\n",
    "</ul>"
   ]
  },
  {
   "cell_type": "markdown",
   "metadata": {},
   "source": [
    "## 4. Test with your own image (Optional)\n",
    "\n",
    "Congratulations on finishing this assignment. You can now take a picture of your face and see if you could enter the Happy House. To do that:\n",
    "    1. Click on \"File\" in the upper bar of this notebook, then click \"Open\" to go on your Coursera Hub.\n",
    "    2. Add your image to this Jupyter Notebook's directory, in the \"images\" folder\n",
    "    3. Write your image's name in the following code\n",
    "    4. Run the code and check if the algorithm is right (0 is unhappy, 1 is happy)!\n",
    "    \n",
    "The training/test sets were quite similar; for example, all the pictures were taken against the same background (since a front door camera is always mounted in the same position). This makes the problem easier, but a model trained on this data may or may not work on your own data. But feel free to give it a try! "
   ]
  },
  {
   "cell_type": "code",
   "execution_count": 19,
   "metadata": {},
   "outputs": [
    {
     "name": "stdout",
     "output_type": "stream",
     "text": [
      "Model v1 (pred):  [[0.]]\n",
      "Model v2 (pred):  [[1.]]\n"
     ]
    },
    {
     "data": {
      "image/png": "[encoded data removed]",
      "text/plain": [
       "<Figure size 432x288 with 1 Axes>"
      ]
     },
     "metadata": {
      "needs_background": "light"
     },
     "output_type": "display_data"
    }
   ],
   "source": [
    "### CODE HERE:\n",
    "from PIL import Image\n",
    "\n",
    "img_path = 'images/my_image.jpg'\n",
    "image = Image.open(img_path)\n",
    "my_img = image.resize((64, 64))\n",
    "plt.imshow(my_img)\n",
    "\n",
    "x = np.expand_dims(my_img, axis=0)\n",
    "x = preprocess_input(x)\n",
    "\n",
    "print(\"Model v1 (pred): \", happy_model_v1.predict(x))\n",
    "print(\"Model v2 (pred): \", happy_model_v2.predict(x))"
   ]
  },
  {
   "cell_type": "markdown",
   "metadata": {},
   "source": [
    "## 5 - Other useful functions in Keras (Optional)\n",
    "\n",
    "Two other basic features of Keras that you'll find useful are:\n",
    "- `model.summary()`: prints the details of your layers in a table with the sizes of its inputs/outputs\n",
    "- `plot_model()`: plots your graph in a nice layout. You can even save it as \".png\" using SVG() if you'd like to share it on social media ;). It is saved in \"File\" then \"Open...\" in the upper bar of the notebook.\n",
    "\n",
    "Run the following code."
   ]
  },
  {
   "cell_type": "code",
   "execution_count": 17,
   "metadata": {
    "scrolled": true
   },
   "outputs": [
    {
     "data": {
      "image/svg+xml": [
       "<svg height=\"1228pt\" viewBox=\"0.00 0.00 219.00 921.00\" width=\"292pt\" xmlns=\"http://www.w3.org/2000/svg\" xmlns:xlink=\"http://www.w3.org/1999/xlink\">\n",
       "<g class=\"graph\" id=\"graph0\" transform=\"scale(1.3333 1.3333) rotate(0) translate(4 917)\">\n",
       "<title>G</title>\n",
       "<polygon fill=\"#ffffff\" points=\"-4,4 -4,-917 215,-917 215,4 -4,4\" stroke=\"transparent\"/>\n",
       "<!-- 139872794235472 -->\n",
       "<g class=\"node\" id=\"node1\">\n",
       "<title>139872794235472</title>\n",
       "<polygon fill=\"none\" points=\"43,-876.5 43,-912.5 168,-912.5 168,-876.5 43,-876.5\" stroke=\"#000000\"/>\n",
       "<text fill=\"#000000\" font-family=\"Times,serif\" font-size=\"14.00\" text-anchor=\"middle\" x=\"105.5\" y=\"-890.8\">input_2: InputLayer</text>\n",
       "</g>\n",
       "<!-- 139870531606992 -->\n",
       "<g class=\"node\" id=\"node2\">\n",
       "<title>139870531606992</title>\n",
       "<polygon fill=\"none\" points=\"0,-803.5 0,-839.5 211,-839.5 211,-803.5 0,-803.5\" stroke=\"#000000\"/>\n",
       "<text fill=\"#000000\" font-family=\"Times,serif\" font-size=\"14.00\" text-anchor=\"middle\" x=\"105.5\" y=\"-817.8\">zero_padding2d_2: ZeroPadding2D</text>\n",
       "</g>\n",
       "<!-- 139872794235472&#45;&gt;139870531606992 -->\n",
       "<g class=\"edge\" id=\"edge1\">\n",
       "<title>139872794235472-&gt;139870531606992</title>\n",
       "<path d=\"M105.5,-876.4551C105.5,-868.3828 105.5,-858.6764 105.5,-849.6817\" fill=\"none\" stroke=\"#000000\"/>\n",
       "<polygon fill=\"#000000\" points=\"109.0001,-849.5903 105.5,-839.5904 102.0001,-849.5904 109.0001,-849.5903\" stroke=\"#000000\"/>\n",
       "</g>\n",
       "<!-- 139870531589712 -->\n",
       "<g class=\"node\" id=\"node3\">\n",
       "<title>139870531589712</title>\n",
       "<polygon fill=\"none\" points=\"54,-730.5 54,-766.5 157,-766.5 157,-730.5 54,-730.5\" stroke=\"#000000\"/>\n",
       "<text fill=\"#000000\" font-family=\"Times,serif\" font-size=\"14.00\" text-anchor=\"middle\" x=\"105.5\" y=\"-744.8\">conv0: Conv2D</text>\n",
       "</g>\n",
       "<!-- 139870531606992&#45;&gt;139870531589712 -->\n",
       "<g class=\"edge\" id=\"edge2\">\n",
       "<title>139870531606992-&gt;139870531589712</title>\n",
       "<path d=\"M105.5,-803.4551C105.5,-795.3828 105.5,-785.6764 105.5,-776.6817\" fill=\"none\" stroke=\"#000000\"/>\n",
       "<polygon fill=\"#000000\" points=\"109.0001,-776.5903 105.5,-766.5904 102.0001,-776.5904 109.0001,-776.5903\" stroke=\"#000000\"/>\n",
       "</g>\n",
       "<!-- 139870531590800 -->\n",
       "<g class=\"node\" id=\"node4\">\n",
       "<title>139870531590800</title>\n",
       "<polygon fill=\"none\" points=\"28,-657.5 28,-693.5 183,-693.5 183,-657.5 28,-657.5\" stroke=\"#000000\"/>\n",
       "<text fill=\"#000000\" font-family=\"Times,serif\" font-size=\"14.00\" text-anchor=\"middle\" x=\"105.5\" y=\"-671.8\">bn0: BatchNormalization</text>\n",
       "</g>\n",
       "<!-- 139870531589712&#45;&gt;139870531590800 -->\n",
       "<g class=\"edge\" id=\"edge3\">\n",
       "<title>139870531589712-&gt;139870531590800</title>\n",
       "<path d=\"M105.5,-730.4551C105.5,-722.3828 105.5,-712.6764 105.5,-703.6817\" fill=\"none\" stroke=\"#000000\"/>\n",
       "<polygon fill=\"#000000\" points=\"109.0001,-703.5903 105.5,-693.5904 102.0001,-703.5904 109.0001,-703.5903\" stroke=\"#000000\"/>\n",
       "</g>\n",
       "<!-- 139870531666832 -->\n",
       "<g class=\"node\" id=\"node5\">\n",
       "<title>139870531666832</title>\n",
       "<polygon fill=\"none\" points=\"31.5,-584.5 31.5,-620.5 179.5,-620.5 179.5,-584.5 31.5,-584.5\" stroke=\"#000000\"/>\n",
       "<text fill=\"#000000\" font-family=\"Times,serif\" font-size=\"14.00\" text-anchor=\"middle\" x=\"105.5\" y=\"-598.8\">activation_3: Activation</text>\n",
       "</g>\n",
       "<!-- 139870531590800&#45;&gt;139870531666832 -->\n",
       "<g class=\"edge\" id=\"edge4\">\n",
       "<title>139870531590800-&gt;139870531666832</title>\n",
       "<path d=\"M105.5,-657.4551C105.5,-649.3828 105.5,-639.6764 105.5,-630.6817\" fill=\"none\" stroke=\"#000000\"/>\n",
       "<polygon fill=\"#000000\" points=\"109.0001,-630.5903 105.5,-620.5904 102.0001,-630.5904 109.0001,-630.5903\" stroke=\"#000000\"/>\n",
       "</g>\n",
       "<!-- 139870531682000 -->\n",
       "<g class=\"node\" id=\"node6\">\n",
       "<title>139870531682000</title>\n",
       "<polygon fill=\"none\" points=\"24,-511.5 24,-547.5 187,-547.5 187,-511.5 24,-511.5\" stroke=\"#000000\"/>\n",
       "<text fill=\"#000000\" font-family=\"Times,serif\" font-size=\"14.00\" text-anchor=\"middle\" x=\"105.5\" y=\"-525.8\">max_pool: MaxPooling2D</text>\n",
       "</g>\n",
       "<!-- 139870531666832&#45;&gt;139870531682000 -->\n",
       "<g class=\"edge\" id=\"edge5\">\n",
       "<title>139870531666832-&gt;139870531682000</title>\n",
       "<path d=\"M105.5,-584.4551C105.5,-576.3828 105.5,-566.6764 105.5,-557.6817\" fill=\"none\" stroke=\"#000000\"/>\n",
       "<polygon fill=\"#000000\" points=\"109.0001,-557.5903 105.5,-547.5904 102.0001,-557.5904 109.0001,-557.5903\" stroke=\"#000000\"/>\n",
       "</g>\n",
       "<!-- 139870536261968 -->\n",
       "<g class=\"node\" id=\"node7\">\n",
       "<title>139870536261968</title>\n",
       "<polygon fill=\"none\" points=\"54,-438.5 54,-474.5 157,-474.5 157,-438.5 54,-438.5\" stroke=\"#000000\"/>\n",
       "<text fill=\"#000000\" font-family=\"Times,serif\" font-size=\"14.00\" text-anchor=\"middle\" x=\"105.5\" y=\"-452.8\">conv1: Conv2D</text>\n",
       "</g>\n",
       "<!-- 139870531682000&#45;&gt;139870536261968 -->\n",
       "<g class=\"edge\" id=\"edge6\">\n",
       "<title>139870531682000-&gt;139870536261968</title>\n",
       "<path d=\"M105.5,-511.4551C105.5,-503.3828 105.5,-493.6764 105.5,-484.6817\" fill=\"none\" stroke=\"#000000\"/>\n",
       "<polygon fill=\"#000000\" points=\"109.0001,-484.5903 105.5,-474.5904 102.0001,-484.5904 109.0001,-484.5903\" stroke=\"#000000\"/>\n",
       "</g>\n",
       "<!-- 139870525771344 -->\n",
       "<g class=\"node\" id=\"node8\">\n",
       "<title>139870525771344</title>\n",
       "<polygon fill=\"none\" points=\"28,-365.5 28,-401.5 183,-401.5 183,-365.5 28,-365.5\" stroke=\"#000000\"/>\n",
       "<text fill=\"#000000\" font-family=\"Times,serif\" font-size=\"14.00\" text-anchor=\"middle\" x=\"105.5\" y=\"-379.8\">bn1: BatchNormalization</text>\n",
       "</g>\n",
       "<!-- 139870536261968&#45;&gt;139870525771344 -->\n",
       "<g class=\"edge\" id=\"edge7\">\n",
       "<title>139870536261968-&gt;139870525771344</title>\n",
       "<path d=\"M105.5,-438.4551C105.5,-430.3828 105.5,-420.6764 105.5,-411.6817\" fill=\"none\" stroke=\"#000000\"/>\n",
       "<polygon fill=\"#000000\" points=\"109.0001,-411.5903 105.5,-401.5904 102.0001,-411.5904 109.0001,-411.5903\" stroke=\"#000000\"/>\n",
       "</g>\n",
       "<!-- 139870536262608 -->\n",
       "<g class=\"node\" id=\"node9\">\n",
       "<title>139870536262608</title>\n",
       "<polygon fill=\"none\" points=\"31.5,-292.5 31.5,-328.5 179.5,-328.5 179.5,-292.5 31.5,-292.5\" stroke=\"#000000\"/>\n",
       "<text fill=\"#000000\" font-family=\"Times,serif\" font-size=\"14.00\" text-anchor=\"middle\" x=\"105.5\" y=\"-306.8\">activation_4: Activation</text>\n",
       "</g>\n",
       "<!-- 139870525771344&#45;&gt;139870536262608 -->\n",
       "<g class=\"edge\" id=\"edge8\">\n",
       "<title>139870525771344-&gt;139870536262608</title>\n",
       "<path d=\"M105.5,-365.4551C105.5,-357.3828 105.5,-347.6764 105.5,-338.6817\" fill=\"none\" stroke=\"#000000\"/>\n",
       "<polygon fill=\"#000000\" points=\"109.0001,-338.5903 105.5,-328.5904 102.0001,-338.5904 109.0001,-338.5903\" stroke=\"#000000\"/>\n",
       "</g>\n",
       "<!-- 139870525874512 -->\n",
       "<g class=\"node\" id=\"node10\">\n",
       "<title>139870525874512</title>\n",
       "<polygon fill=\"none\" points=\"20.5,-219.5 20.5,-255.5 190.5,-255.5 190.5,-219.5 20.5,-219.5\" stroke=\"#000000\"/>\n",
       "<text fill=\"#000000\" font-family=\"Times,serif\" font-size=\"14.00\" text-anchor=\"middle\" x=\"105.5\" y=\"-233.8\">max_pool2: MaxPooling2D</text>\n",
       "</g>\n",
       "<!-- 139870536262608&#45;&gt;139870525874512 -->\n",
       "<g class=\"edge\" id=\"edge9\">\n",
       "<title>139870536262608-&gt;139870525874512</title>\n",
       "<path d=\"M105.5,-292.4551C105.5,-284.3828 105.5,-274.6764 105.5,-265.6817\" fill=\"none\" stroke=\"#000000\"/>\n",
       "<polygon fill=\"#000000\" points=\"109.0001,-265.5903 105.5,-255.5904 102.0001,-265.5904 109.0001,-265.5903\" stroke=\"#000000\"/>\n",
       "</g>\n",
       "<!-- 139870525506768 -->\n",
       "<g class=\"node\" id=\"node11\">\n",
       "<title>139870525506768</title>\n",
       "<polygon fill=\"none\" points=\"50.5,-146.5 50.5,-182.5 160.5,-182.5 160.5,-146.5 50.5,-146.5\" stroke=\"#000000\"/>\n",
       "<text fill=\"#000000\" font-family=\"Times,serif\" font-size=\"14.00\" text-anchor=\"middle\" x=\"105.5\" y=\"-160.8\">flatten_2: Flatten</text>\n",
       "</g>\n",
       "<!-- 139870525874512&#45;&gt;139870525506768 -->\n",
       "<g class=\"edge\" id=\"edge10\">\n",
       "<title>139870525874512-&gt;139870525506768</title>\n",
       "<path d=\"M105.5,-219.4551C105.5,-211.3828 105.5,-201.6764 105.5,-192.6817\" fill=\"none\" stroke=\"#000000\"/>\n",
       "<polygon fill=\"#000000\" points=\"109.0001,-192.5903 105.5,-182.5904 102.0001,-192.5904 109.0001,-192.5903\" stroke=\"#000000\"/>\n",
       "</g>\n",
       "<!-- 139870525523152 -->\n",
       "<g class=\"node\" id=\"node12\">\n",
       "<title>139870525523152</title>\n",
       "<polygon fill=\"none\" points=\"43,-73.5 43,-109.5 168,-109.5 168,-73.5 43,-73.5\" stroke=\"#000000\"/>\n",
       "<text fill=\"#000000\" font-family=\"Times,serif\" font-size=\"14.00\" text-anchor=\"middle\" x=\"105.5\" y=\"-87.8\">dropout_1: Dropout</text>\n",
       "</g>\n",
       "<!-- 139870525506768&#45;&gt;139870525523152 -->\n",
       "<g class=\"edge\" id=\"edge11\">\n",
       "<title>139870525506768-&gt;139870525523152</title>\n",
       "<path d=\"M105.5,-146.4551C105.5,-138.3828 105.5,-128.6764 105.5,-119.6817\" fill=\"none\" stroke=\"#000000\"/>\n",
       "<polygon fill=\"#000000\" points=\"109.0001,-119.5903 105.5,-109.5904 102.0001,-119.5904 109.0001,-119.5903\" stroke=\"#000000\"/>\n",
       "</g>\n",
       "<!-- 139870537143184 -->\n",
       "<g class=\"node\" id=\"node13\">\n",
       "<title>139870537143184</title>\n",
       "<polygon fill=\"none\" points=\"71.5,-.5 71.5,-36.5 139.5,-36.5 139.5,-.5 71.5,-.5\" stroke=\"#000000\"/>\n",
       "<text fill=\"#000000\" font-family=\"Times,serif\" font-size=\"14.00\" text-anchor=\"middle\" x=\"105.5\" y=\"-14.8\">fc: Dense</text>\n",
       "</g>\n",
       "<!-- 139870525523152&#45;&gt;139870537143184 -->\n",
       "<g class=\"edge\" id=\"edge12\">\n",
       "<title>139870525523152-&gt;139870537143184</title>\n",
       "<path d=\"M105.5,-73.4551C105.5,-65.3828 105.5,-55.6764 105.5,-46.6817\" fill=\"none\" stroke=\"#000000\"/>\n",
       "<polygon fill=\"#000000\" points=\"109.0001,-46.5903 105.5,-36.5904 102.0001,-46.5904 109.0001,-46.5903\" stroke=\"#000000\"/>\n",
       "</g>\n",
       "</g>\n",
       "</svg>"
      ],
      "text/plain": [
       "<IPython.core.display.SVG object>"
      ]
     },
     "execution_count": 17,
     "metadata": {},
     "output_type": "execute_result"
    }
   ],
   "source": [
    "plot_model(happy_model_v2, to_file='HappyModelV2.png')\n",
    "\n",
    "SVG(model_to_dot(happy_model_v2).create(prog='dot', format='svg'))"
   ]
  }
 ],
 "metadata": {
  "kernelspec": {
   "display_name": "Python 3",
   "language": "python",
   "name": "python3"
  },
  "language_info": {
   "codemirror_mode": {
    "name": "ipython",
    "version": 3
   },
   "file_extension": ".py",
   "mimetype": "text/x-python",
   "name": "python",
   "nbconvert_exporter": "python",
   "pygments_lexer": "ipython3",
   "version": "3.7.4"
  }
 },
 "nbformat": 4,
 "nbformat_minor": 2
}
